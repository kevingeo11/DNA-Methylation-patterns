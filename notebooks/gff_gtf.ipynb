{
 "cells": [
  {
   "cell_type": "code",
   "execution_count": null,
   "metadata": {},
   "outputs": [],
   "source": [
    "import matplotlib.pyplot as plt\n",
    "import numpy as np\n",
    "import pandas as pd\n",
    "from pathlib import Path\n",
    "import pickle\n",
    "import gffutils"
   ]
  },
  {
   "cell_type": "code",
   "execution_count": null,
   "metadata": {},
   "outputs": [],
   "source": [
    "main_path = Path('..')\n",
    "data_path = main_path / 'Data'\n",
    "ref_path = data_path / 'GRCh38genome'\n",
    "preprocessing_path = data_path / 'Preprocessing_LNDR_HNDR'\n",
    "intersect_path = data_path / 'intersect_regions'\n",
    "transcriptome_path = data_path / 'transcriptome'"
   ]
  },
  {
   "cell_type": "code",
   "execution_count": null,
   "metadata": {},
   "outputs": [],
   "source": [
    "# fn = gffutils.example_filename(ref_path.absolute() / 'gencode.v47.basic.annotation.gff3')"
   ]
  },
  {
   "cell_type": "code",
   "execution_count": null,
   "metadata": {},
   "outputs": [],
   "source": [
    "## One time operation\n",
    "\n",
    "# db = gffutils.create_db(fn, dbfn=str(ref_path.resolve() / 'gencode.v47.basic.annotation.db'), force=True, keep_order=True, merge_strategy='merge', sort_attribute_values=True)\n",
    "# print('done')"
   ]
  },
  {
   "cell_type": "code",
   "execution_count": null,
   "metadata": {},
   "outputs": [],
   "source": [
    "db = gffutils.FeatureDB(str(ref_path.resolve() / 'gencode.v47.basic.annotation.db'))"
   ]
  },
  {
   "cell_type": "code",
   "execution_count": null,
   "metadata": {},
   "outputs": [],
   "source": [
    "c = 0\n",
    "transcript_to_gene = {}\n",
    "for transcript in db.features_of_type('transcript'):\n",
    "    if transcript.id not in transcript_to_gene:\n",
    "        assert len(transcript['Parent']) == 1\n",
    "        assert len(transcript['gene_id']) == 1\n",
    "        assert transcript['gene_id'][0] == transcript['Parent'][0]\n",
    "        transcript_to_gene[transcript.id] = transcript['Parent'][0]\n",
    "    else:\n",
    "        print(transcript)"
   ]
  },
  {
   "cell_type": "code",
   "execution_count": null,
   "metadata": {},
   "outputs": [],
   "source": [
    "print(f'# of transcripts: {len(transcript_to_gene)}')"
   ]
  },
  {
   "cell_type": "code",
   "execution_count": null,
   "metadata": {},
   "outputs": [],
   "source": [
    "# import json\n",
    "# with open(ref_path / 'transcript_to_gene.json', 'w') as fout:\n",
    "#     json.dump(transcript_to_gene, fout)"
   ]
  },
  {
   "cell_type": "markdown",
   "metadata": {},
   "source": [
    "#### Some Checks"
   ]
  },
  {
   "cell_type": "code",
   "execution_count": null,
   "metadata": {},
   "outputs": [],
   "source": [
    "import json"
   ]
  },
  {
   "cell_type": "code",
   "execution_count": null,
   "metadata": {},
   "outputs": [],
   "source": [
    "with open(ref_path / 'transcript_to_gene.json', 'r') as file:\n",
    "    transcript_to_gene = json.load(file)\n",
    "\n",
    "transcript_to_gene_cleaned = {k.split('.')[0]:v.split('.')[0] for k,v in transcript_to_gene.items()}\n",
    "# transcript_to_gene_cleaned = {k:v.split('.')[0] for k,v in transcript_to_gene.items()}"
   ]
  },
  {
   "cell_type": "code",
   "execution_count": null,
   "metadata": {},
   "outputs": [],
   "source": [
    "len(transcript_to_gene), len(transcript_to_gene_cleaned)"
   ]
  },
  {
   "cell_type": "code",
   "execution_count": null,
   "metadata": {},
   "outputs": [],
   "source": [
    "len(set(transcript_to_gene.values())), len(set(transcript_to_gene_cleaned.values())) ## 78724 genes"
   ]
  },
  {
   "cell_type": "code",
   "execution_count": null,
   "metadata": {},
   "outputs": [],
   "source": [
    "df_expression = pd.read_csv(transcriptome_path / 'LTC_HepG2_MonoCal_FA.rep1.TPM.txt', sep='\\t', names=['id', 'expression'], header=0)\n",
    "df_expression['gene_id'] = df_expression['id'].str.split(':').str[0]\n",
    "df_expression.head()"
   ]
  },
  {
   "cell_type": "code",
   "execution_count": null,
   "metadata": {},
   "outputs": [],
   "source": [
    "df_expression['gene_id'].shape, df_expression['gene_id'].unique().shape"
   ]
  },
  {
   "cell_type": "code",
   "execution_count": null,
   "metadata": {},
   "outputs": [],
   "source": [
    "from collections import defaultdict"
   ]
  },
  {
   "cell_type": "code",
   "execution_count": null,
   "metadata": {},
   "outputs": [],
   "source": [
    "gene_to_transcript = defaultdict(list)\n",
    "for t, g in transcript_to_gene_cleaned.items():\n",
    "    gene_to_transcript[g].append(t)"
   ]
  },
  {
   "cell_type": "code",
   "execution_count": null,
   "metadata": {},
   "outputs": [],
   "source": [
    "len(gene_to_transcript)"
   ]
  },
  {
   "cell_type": "code",
   "execution_count": null,
   "metadata": {},
   "outputs": [],
   "source": [
    "mask_expressed = df_expression['expression'] > 0\n",
    "\n",
    "def get_transcripts_list(series, map):\n",
    "    t_list = []\n",
    "    for g in series:\n",
    "        t_list += map[g]\n",
    "\n",
    "    return t_list\n",
    "\n",
    "# transcript_expressed = [gene_to_transcript[gene] for gene in df_expression.loc[mask_expressed, 'gene_id'] if gene in gene_to_transcript]\n",
    "# transcript_not_expressed = [gene_to_transcript[gene] for gene in df_expression.loc[~mask_expressed, 'gene_id'] if gene in gene_to_transcript]\n",
    "\n",
    "transcript_expressed = get_transcripts_list(df_expression.loc[mask_expressed, 'gene_id'], gene_to_transcript)\n",
    "transcript_not_expressed = get_transcripts_list(df_expression.loc[~mask_expressed, 'gene_id'], gene_to_transcript)"
   ]
  },
  {
   "cell_type": "code",
   "execution_count": null,
   "metadata": {},
   "outputs": [],
   "source": [
    "len(transcript_expressed), len(transcript_not_expressed)"
   ]
  },
  {
   "cell_type": "code",
   "execution_count": null,
   "metadata": {},
   "outputs": [],
   "source": [
    "transcript_expressed[:10]"
   ]
  },
  {
   "cell_type": "code",
   "execution_count": null,
   "metadata": {},
   "outputs": [],
   "source": [
    "# 127625\n",
    "total_n_transcripts = 0\n",
    "for _id in df_expression['gene_id']:\n",
    "    assert _id in gene_to_transcript\n",
    "    total_n_transcripts += len(gene_to_transcript[_id])\n",
    "\n",
    "total_n_transcripts"
   ]
  },
  {
   "cell_type": "code",
   "execution_count": null,
   "metadata": {},
   "outputs": [],
   "source": []
  },
  {
   "cell_type": "code",
   "execution_count": null,
   "metadata": {},
   "outputs": [],
   "source": [
    "GRCh38_annotations = []\n",
    "with open(str(ref_path.resolve() / 'GRCh38.p14.annotations')) as fin:\n",
    "    for line in fin:\n",
    "        if line.startswith('ENST'):\n",
    "            GRCh38_annotations.append(line.split()[0])\n",
    "        else:\n",
    "            print(line)\n",
    "\n",
    "print(f'# of transcripts in ref used: {len(GRCh38_annotations)} | {len(set(GRCh38_annotations))}')\n",
    "c = 0\n",
    "for entry in GRCh38_annotations:\n",
    "    # if entry in transcript_to_gene_cleaned:\n",
    "    if entry.split('.')[0] in transcript_to_gene_cleaned:\n",
    "        c += 1\n",
    "\n",
    "print(f'# of transcripts present in map db: {c} of {len(GRCh38_annotations)}')\n",
    "\n",
    "c = 0\n",
    "for entry in GRCh38_annotations:\n",
    "    # if entry in transcript_expressed:\n",
    "    if entry.split('.')[0] in transcript_expressed:\n",
    "        c += 1\n",
    "\n",
    "print(f'# of transcripts expressed: {c} of {len(GRCh38_annotations)}')\n",
    "\n",
    "c = 0\n",
    "for entry in GRCh38_annotations:\n",
    "    # if entry in transcript_not_expressed:\n",
    "    if entry.split('.')[0] in transcript_not_expressed:\n",
    "        c += 1\n",
    "\n",
    "print(f'# of transcripts non-expressed: {c} of {len(GRCh38_annotations)}')"
   ]
  },
  {
   "cell_type": "code",
   "execution_count": null,
   "metadata": {},
   "outputs": [],
   "source": [
    "def get_no_transcripts(path, label):\n",
    "    transcripts = []\n",
    "    with open(path) as fin:\n",
    "        for line in fin:\n",
    "            transcripts.append(line.split()[3])\n",
    "    print(f'# of transcripts in {label} used: {len(transcripts)} | {len(set(transcripts))}')\n",
    "\n",
    "    c = 0\n",
    "    for entry in set(transcripts):\n",
    "        # if entry in transcript_to_gene_cleaned:\n",
    "        if entry.split('.')[0] in transcript_to_gene_cleaned:\n",
    "            c += 1\n",
    "    print(f'# of transcripts in {label} present in map db: {c} of {len(set(transcripts))}')\n",
    "\n",
    "    c = 0\n",
    "    for entry in set(transcripts):\n",
    "        # if entry in transcript_expressed:\n",
    "        if entry.split('.')[0] in transcript_expressed:\n",
    "            c += 1\n",
    "    print(f'# of transcripts in {label} expressed: {c} of {len(set(transcripts))}')\n",
    "\n",
    "    c = 0\n",
    "    for entry in set(transcripts):\n",
    "        # if entry in transcript_not_expressed:\n",
    "        if entry.split('.')[0] in transcript_not_expressed:\n",
    "            c += 1\n",
    "    print(f'# of transcripts in {label} non-expressed: {c} of {len(set(transcripts))}')\n",
    "    print(' ')\n",
    "\n",
    "get_no_transcripts(preprocessing_path / 'GRCh38.p14.promoter.sorted.bed', 'promoter')\n",
    "get_no_transcripts(preprocessing_path / 'GRCh38.p14.intron.1.start.sorted.bed', 'intron.1.start')\n",
    "get_no_transcripts(preprocessing_path / 'GRCh38.p14.intron.1.end.sorted.bed', 'intron.1.end')\n",
    "get_no_transcripts(preprocessing_path / 'GRCh38.p14.intron.2.start.sorted.bed', 'intron.2.start')"
   ]
  },
  {
   "cell_type": "code",
   "execution_count": null,
   "metadata": {},
   "outputs": [],
   "source": [
    "def get_no_transcripts(path, label):\n",
    "    transcripts = []\n",
    "    with open(path) as fin:\n",
    "        for line in fin:\n",
    "            transcripts.append(line.split()[3])\n",
    "    print(f'# of transcripts in {label} used: {len(transcripts)} | {len(set(transcripts))}')\n",
    "\n",
    "    c = 0\n",
    "    for entry in set(transcripts):\n",
    "        # if entry in transcript_to_gene_cleaned:\n",
    "        if entry.split('.')[0] in transcript_to_gene_cleaned:\n",
    "            c += 1\n",
    "    print(f'# of transcripts present in map db: {c} of {len(set(transcripts))}')\n",
    "\n",
    "    c = 0\n",
    "    for entry in set(transcripts):\n",
    "        # if entry in transcript_expressed:\n",
    "        if entry.split('.')[0] in transcript_expressed:\n",
    "            c += 1\n",
    "    print(f'# of transcripts in {label} expressed: {c} of {len(set(transcripts))}')\n",
    "\n",
    "    c = 0\n",
    "    for entry in set(transcripts):\n",
    "        # if entry in transcript_not_expressed:\n",
    "        if entry.split('.')[0] in transcript_not_expressed:\n",
    "            c += 1\n",
    "    print(f'# of transcripts in {label} non-expressed: {c} of {len(set(transcripts))}')\n",
    "    print(' ')\n",
    "\n",
    "for region in ['promoter', 'intron.1.start', 'intron.1.end', 'intron.2.start']:\n",
    "    get_no_transcripts(intersect_path / f'GCH.{region}.intersect.bed', f'GCH.{region}')\n",
    "    get_no_transcripts(intersect_path / f'HCG.{region}.intersect.bed', f'HCG.{region}')"
   ]
  },
  {
   "cell_type": "code",
   "execution_count": null,
   "metadata": {},
   "outputs": [],
   "source": []
  },
  {
   "cell_type": "code",
   "execution_count": null,
   "metadata": {},
   "outputs": [],
   "source": [
    "def get_no_transcripts(path, label):\n",
    "    transcripts = []\n",
    "    with open(path) as fin:\n",
    "        for line in fin:\n",
    "            transcripts.append(line.split()[3])\n",
    "\n",
    "    print(f'# of transcripts in {label} used: {len(transcripts)} | {len(set(transcripts))}')\n",
    "    c = 0\n",
    "    for entry in set(transcripts):\n",
    "        if entry in transcript_to_gene:\n",
    "            c += 1\n",
    "\n",
    "    print(f'# of transcripts present in map db: {c} of {len(set(transcripts))}')\n",
    "    print(' ')\n",
    "\n",
    "for region in ['promoter', 'intron.1.start', 'intron.1.end', 'intron.2.start']:\n",
    "    get_no_transcripts(intersect_path / f'NDR.{region}.intersect.bed', f'NDR.{region}')\n",
    "    get_no_transcripts(intersect_path / f'NOR.{region}.intersect.bed', f'NOR.{region}')"
   ]
  },
  {
   "cell_type": "code",
   "execution_count": null,
   "metadata": {},
   "outputs": [],
   "source": [
    "def get_no_transcripts(path, label):\n",
    "    transcripts = []\n",
    "    with open(path) as fin:\n",
    "        for line in fin:\n",
    "            transcripts.append(line.split()[3])\n",
    "\n",
    "    print(f'# of transcripts in {label} used: {len(transcripts)} | {len(set(transcripts))}')\n",
    "    c = 0\n",
    "    for entry in set(transcripts):\n",
    "        if entry in transcript_to_gene:\n",
    "            c += 1\n",
    "\n",
    "    print(f'# of transcripts present in map db: {c} of {len(set(transcripts))}')\n",
    "    print(' ')\n",
    "\n",
    "for region in ['promoter', 'intron.1.start', 'intron.1.end', 'intron.2.start']:\n",
    "    get_no_transcripts(intersect_path / f'HCG.{region}.intersect.bed', f'HCG.{region}')"
   ]
  },
  {
   "cell_type": "code",
   "execution_count": null,
   "metadata": {},
   "outputs": [],
   "source": [
    "def get_no_transcripts(path, label):\n",
    "    transcripts = []\n",
    "    with open(path) as fin:\n",
    "        for line in fin:\n",
    "            transcripts.append(line.split()[3])\n",
    "\n",
    "    print(f'# of transcripts in {label} used: {len(transcripts)} | {len(set(transcripts))}')\n",
    "    c = 0\n",
    "    for entry in set(transcripts):\n",
    "        if entry in transcript_to_gene:\n",
    "            c += 1\n",
    "\n",
    "    print(f'# of transcripts present in map db: {c} of {len(set(transcripts))}')\n",
    "    print(' ')\n",
    "\n",
    "for region in ['promoter', 'intron.1.start', 'intron.1.end', 'intron.2.start']:\n",
    "    get_no_transcripts(intersect_path / f'{region}.NDR.HCG.intersect.bed', f'NDR.HCG.{region}')\n",
    "    get_no_transcripts(intersect_path / f'{region}.NOR.HCG.intersect.bed', f'NOR.HCG.{region}')"
   ]
  },
  {
   "cell_type": "markdown",
   "metadata": {},
   "source": [
    "#### Read trancriptome data"
   ]
  },
  {
   "cell_type": "code",
   "execution_count": null,
   "metadata": {},
   "outputs": [],
   "source": [
    "df_expression = pd.read_csv(transcriptome_path / 'LTC_HepG2_MonoCal_FA.rep1.TPM.txt', sep='\\t', names=['id', 'expression'], header=0)"
   ]
  },
  {
   "cell_type": "code",
   "execution_count": null,
   "metadata": {},
   "outputs": [],
   "source": [
    "df_expression['gene_id'] = df_expression['id'].str.split(':').str[0]"
   ]
  },
  {
   "cell_type": "code",
   "execution_count": null,
   "metadata": {},
   "outputs": [],
   "source": [
    "df_expression.head()"
   ]
  },
  {
   "cell_type": "code",
   "execution_count": null,
   "metadata": {},
   "outputs": [],
   "source": [
    "df_expression['expression'].hist()\n",
    "plt.yscale('log')"
   ]
  },
  {
   "cell_type": "code",
   "execution_count": null,
   "metadata": {},
   "outputs": [],
   "source": [
    "df_expression.loc[df_expression['expression'] < 100, 'expression'].hist()\n",
    "plt.yscale('log')"
   ]
  },
  {
   "cell_type": "code",
   "execution_count": null,
   "metadata": {},
   "outputs": [],
   "source": [
    "df_expression['expression'].quantile(0.20), df_expression['expression'].quantile(0.80), df_expression['expression'].quantile(0.85)"
   ]
  },
  {
   "cell_type": "code",
   "execution_count": null,
   "metadata": {},
   "outputs": [],
   "source": [
    "df_expression.shape"
   ]
  },
  {
   "cell_type": "code",
   "execution_count": null,
   "metadata": {},
   "outputs": [],
   "source": [
    "genes = []\n",
    "for gene_id in transcript_to_gene.values():\n",
    "    genes.append(gene_id.split('.')[0])\n",
    "\n",
    "c = 0\n",
    "missing = []\n",
    "for gene_id in df_expression['gene_id']:\n",
    "    if gene_id in genes:\n",
    "        c += 1\n",
    "    else:\n",
    "        missing.append(gene_id)\n",
    "        \n",
    "print(f'genes from expression data present in map {c}')\n",
    "print(f\"genes missing {df_expression['gene_id'].shape[0] - c} | {len(missing)}\")"
   ]
  },
  {
   "cell_type": "code",
   "execution_count": null,
   "metadata": {},
   "outputs": [],
   "source": [
    "df_expression.loc[df_expression['gene_id'].isin(missing), 'expression'].hist()\n",
    "plt.yscale('log')"
   ]
  },
  {
   "cell_type": "code",
   "execution_count": null,
   "metadata": {},
   "outputs": [],
   "source": [
    "transcript_to_gene"
   ]
  },
  {
   "cell_type": "code",
   "execution_count": null,
   "metadata": {},
   "outputs": [],
   "source": []
  }
 ],
 "metadata": {
  "kernelspec": {
   "display_name": "helms-lab",
   "language": "python",
   "name": "python3"
  },
  "language_info": {
   "codemirror_mode": {
    "name": "ipython",
    "version": 3
   },
   "file_extension": ".py",
   "mimetype": "text/x-python",
   "name": "python",
   "nbconvert_exporter": "python",
   "pygments_lexer": "ipython3",
   "version": "3.9.0"
  }
 },
 "nbformat": 4,
 "nbformat_minor": 2
}
