{
 "cells": [
  {
   "cell_type": "code",
   "execution_count": null,
   "metadata": {},
   "outputs": [],
   "source": [
    "import matplotlib.pyplot as plt\n",
    "import numpy as np\n",
    "import pandas as pd\n",
    "from pathlib import Path"
   ]
  },
  {
   "cell_type": "code",
   "execution_count": null,
   "metadata": {},
   "outputs": [],
   "source": [
    "from workspace import nometools as nome"
   ]
  },
  {
   "cell_type": "code",
   "execution_count": null,
   "metadata": {},
   "outputs": [],
   "source": [
    "main_path = Path('..')\n",
    "preprocessing_path = main_path / 'Data' / 'Preprocessing_LNDR_HNDR'\n",
    "intersect_path = main_path / 'Data' / 'intersect_regions'\n",
    "\n",
    "transcriptome_path = main_path / 'Data' / 'transcriptome'\n",
    "ref_path = main_path / 'Data' / 'GRCh38genome'"
   ]
  },
  {
   "cell_type": "code",
   "execution_count": null,
   "metadata": {},
   "outputs": [],
   "source": []
  },
  {
   "cell_type": "markdown",
   "metadata": {},
   "source": [
    "#### Expression and Map"
   ]
  },
  {
   "cell_type": "code",
   "execution_count": null,
   "metadata": {},
   "outputs": [],
   "source": [
    "df_expression = pd.read_csv(transcriptome_path / 'LTC_HepG2_MonoCal_FA.rep1.TPM.txt', sep='\\t', names=['id', 'expression'], header=0)\n",
    "df_expression['gene_id'] = df_expression['id'].str.split(':').str[0]\n",
    "df_expression.head()"
   ]
  },
  {
   "cell_type": "code",
   "execution_count": null,
   "metadata": {},
   "outputs": [],
   "source": [
    "import json\n",
    "from collections import defaultdict"
   ]
  },
  {
   "cell_type": "code",
   "execution_count": null,
   "metadata": {},
   "outputs": [],
   "source": [
    "with open(ref_path / 'transcript_to_gene.json', 'r') as file:\n",
    "    transcript_to_gene = json.load(file)\n",
    "\n",
    "transcript_to_gene_cleaned = {k.split('.')[0]:v.split('.')[0] for k,v in transcript_to_gene.items()}"
   ]
  },
  {
   "cell_type": "code",
   "execution_count": null,
   "metadata": {},
   "outputs": [],
   "source": [
    "gene_to_transcript = defaultdict(list)\n",
    "for t, g in transcript_to_gene_cleaned.items():\n",
    "    gene_to_transcript[g].append(t)"
   ]
  },
  {
   "cell_type": "code",
   "execution_count": null,
   "metadata": {},
   "outputs": [],
   "source": [
    "len(gene_to_transcript)"
   ]
  },
  {
   "cell_type": "code",
   "execution_count": null,
   "metadata": {},
   "outputs": [],
   "source": [
    "mask_expressed = df_expression['expression'] > 0\n",
    "\n",
    "def get_transcripts_list(series, map):\n",
    "    t_list = []\n",
    "    for g in series:\n",
    "        t_list += map[g]\n",
    "\n",
    "    return t_list\n",
    "\n",
    "transcript_expressed = get_transcripts_list(df_expression.loc[mask_expressed, 'gene_id'], gene_to_transcript)\n",
    "transcript_not_expressed = get_transcripts_list(df_expression.loc[~mask_expressed, 'gene_id'], gene_to_transcript)"
   ]
  },
  {
   "cell_type": "code",
   "execution_count": null,
   "metadata": {},
   "outputs": [],
   "source": [
    "# (38772, 88853)\n",
    "len(transcript_expressed), len(transcript_not_expressed)"
   ]
  },
  {
   "cell_type": "code",
   "execution_count": null,
   "metadata": {},
   "outputs": [],
   "source": [
    "transcript_expressed[:10]"
   ]
  },
  {
   "cell_type": "code",
   "execution_count": null,
   "metadata": {},
   "outputs": [],
   "source": []
  },
  {
   "cell_type": "markdown",
   "metadata": {},
   "source": [
    "#### GpC methylation in regions"
   ]
  },
  {
   "cell_type": "code",
   "execution_count": null,
   "metadata": {},
   "outputs": [],
   "source": [
    "# region = 'promoter'\n",
    "# region = 'intron.1.start'\n",
    "# region = 'intron.1.end'\n",
    "region = 'intron.2.start'"
   ]
  },
  {
   "cell_type": "code",
   "execution_count": null,
   "metadata": {},
   "outputs": [],
   "source": [
    "expression = False\n",
    "rest = True"
   ]
  },
  {
   "cell_type": "code",
   "execution_count": null,
   "metadata": {},
   "outputs": [],
   "source": [
    "infile = intersect_path / f'GCH.{region}.intersect.bed'\n",
    "df_GCH_intersect = nome.get_methylation(infile, region=region)"
   ]
  },
  {
   "cell_type": "code",
   "execution_count": null,
   "metadata": {},
   "outputs": [],
   "source": [
    "df_GCH_intersect.head()"
   ]
  },
  {
   "cell_type": "code",
   "execution_count": null,
   "metadata": {},
   "outputs": [],
   "source": [
    "print(f\"trasncripts: {df_GCH_intersect['refid'].unique().shape}\")"
   ]
  },
  {
   "cell_type": "code",
   "execution_count": null,
   "metadata": {},
   "outputs": [],
   "source": [
    "if not rest:\n",
    "    if expression:\n",
    "        # df_GCH_intersect = df_GCH_intersect[df_GCH_intersect['refid'].isin(transcript_expressed)]\n",
    "        df_GCH_intersect = df_GCH_intersect[df_GCH_intersect['refid'].str.split('.').str[0].isin(transcript_expressed)]\n",
    "    else:\n",
    "        # df_GCH_intersect = df_GCH_intersect[df_GCH_intersect['refid'].isin(transcript_not_expressed)]\n",
    "        df_GCH_intersect = df_GCH_intersect[df_GCH_intersect['refid'].str.split('.').str[0].isin(transcript_not_expressed)]\n",
    "\n",
    "else:\n",
    "    print('Warning: rest')\n",
    "    rest_mask = ~df_GCH_intersect['refid'].str.split('.').str[0].isin(transcript_expressed+transcript_not_expressed)\n",
    "    df_GCH_intersect = df_GCH_intersect[rest_mask]"
   ]
  },
  {
   "cell_type": "code",
   "execution_count": null,
   "metadata": {},
   "outputs": [],
   "source": [
    "if not rest:\n",
    "    if expression:\n",
    "        print(f\"expressed trasncripts: {df_GCH_intersect['refid'].unique().shape}\")\n",
    "    else:\n",
    "        print(f\"non expressed trasncripts: {df_GCH_intersect['refid'].unique().shape}\")\n",
    "else:\n",
    "    print('Warning: rest')\n",
    "    print(f\"trasncripts: {df_GCH_intersect['refid'].unique().shape}\")"
   ]
  },
  {
   "cell_type": "code",
   "execution_count": null,
   "metadata": {},
   "outputs": [],
   "source": [
    "def plot_avg_methylation_levels(df, context, select_genes=[], fig = True, c = 'grey', label = None, rel=False, inter_start=None, inter_end=None):\n",
    "    \n",
    "    if len(select_genes) == 0: \n",
    "        all_meth_pos_rel = list(df['meth_pos_rel'])\n",
    "        all_meth_rate = list(df['meth_rate'])\n",
    "        all_coverage = list(df['coverage'])\n",
    "\n",
    "        assert len(all_meth_pos_rel) == len(all_meth_rate) == len(all_coverage)\n",
    "\n",
    "        av_dict = dict()\n",
    "        seen_pos = set()\n",
    "        for p in range(len(all_meth_pos_rel)):\n",
    "            rel_pos_x = all_meth_pos_rel[p]\n",
    "            meth_rate = all_meth_rate[p]\n",
    "            coverage = all_coverage[p]\n",
    "            \n",
    "            #AVERAGE\n",
    "            if rel_pos_x not in seen_pos:\n",
    "                seen_pos.add(rel_pos_x)\n",
    "                av_dict[rel_pos_x] = {}\n",
    "                av_dict[rel_pos_x]['meth'] = []\n",
    "                av_dict[rel_pos_x]['total'] = []\n",
    "            \n",
    "            if context == 'GCH':\n",
    "                av_dict[rel_pos_x]['meth'].append(coverage*(100-meth_rate)/100)\n",
    "                av_dict[rel_pos_x]['total'].append(coverage)\n",
    "            elif context == 'HCG':\n",
    "                av_dict[rel_pos_x]['meth'].append(meth_rate*coverage/100)\n",
    "                av_dict[rel_pos_x]['total'].append(coverage)\n",
    "            else:\n",
    "                print('Check context')\n",
    "                return\n",
    "    else:\n",
    "        av_dict = {}\n",
    "        seen_pos = set()\n",
    "        group = df[df['gene_name'].isin(select_genes)]\n",
    "        for rel_pos_x, meth_rate, coverage in zip(group['meth_pos_rel'], group['meth_rate'], group['coverage']):\n",
    "            if rel_pos_x not in seen_pos:\n",
    "                seen_pos.add(rel_pos_x)\n",
    "                av_dict[rel_pos_x] = {}\n",
    "                av_dict[rel_pos_x]['meth'] = []\n",
    "                av_dict[rel_pos_x]['total'] = []\n",
    "\n",
    "            if context == 'GCH':\n",
    "                av_dict[rel_pos_x]['meth'].append(coverage*(100-meth_rate)/100)\n",
    "                av_dict[rel_pos_x]['total'].append(coverage)\n",
    "            elif context == 'HCG':\n",
    "                av_dict[rel_pos_x]['meth'].append(meth_rate*coverage/100)\n",
    "                av_dict[rel_pos_x]['total'].append(coverage)\n",
    "            else:\n",
    "                print('Check context')\n",
    "                return\n",
    "            \n",
    "\n",
    "    if fig:\n",
    "        plt.figure(figsize=(15, 7), facecolor='w', edgecolor='k')\n",
    "\n",
    "    x = []\n",
    "    y = []\n",
    "\n",
    "    for rel_pos_x in sorted(av_dict.keys()):\n",
    "        if rel:\n",
    "            if rel_pos_x >= inter_start and rel_pos_x <= inter_end:\n",
    "                if len(av_dict[rel_pos_x]['meth']) >= 100: ## to remove artifact\n",
    "                # if len(av_dict[rel_pos_x]['meth']) >= 0: ## to remove artifact\n",
    "                    x.append(rel_pos_x)\n",
    "                    y.append(np.sum(av_dict[rel_pos_x]['meth'])*100/np.sum(av_dict[rel_pos_x]['total']))\n",
    "        else:\n",
    "            if len(av_dict[rel_pos_x]['meth']) >= 100: ## to remove artifact\n",
    "            # if len(av_dict[rel_pos_x]['meth']) >= 0: ## to remove artifact\n",
    "                x.append(rel_pos_x)\n",
    "                y.append(np.sum(av_dict[rel_pos_x]['meth'])*100/np.sum(av_dict[rel_pos_x]['total']))\n",
    "\n",
    "    plt.axvline(x=0, linestyle='--', c='dimgray')\n",
    "    if label is None:\n",
    "        plt.plot(x, y, \"-\", color=c, alpha=1.0)\n",
    "    else:\n",
    "        plt.plot(x, y, \"-\", color=c, label=label, alpha=0.7)\n",
    "        plt.legend()\n",
    "        \n",
    "    plt.xlabel(\"DNA position [bp]\", fontsize=22)\n",
    "    plt.xlim(-2000, 1000)\n",
    "    plt.xticks(fontsize=18)\n",
    "\n",
    "    if context == 'GCH':\n",
    "        ylab = \"100-GpC methylation level\"\n",
    "    if context == 'HCG':\n",
    "        ylab = \"CpG methylation level\"\n",
    "    plt.ylabel(ylab, fontsize=22)\n",
    "    # plt.ylim(bottom=68, top=80)\n",
    "    # plt.ylim(top=80)\n",
    "    plt.yticks(fontsize=18)"
   ]
  },
  {
   "cell_type": "code",
   "execution_count": null,
   "metadata": {},
   "outputs": [],
   "source": [
    "plot_avg_methylation_levels(df_GCH_intersect, 'GCH')"
   ]
  },
  {
   "cell_type": "code",
   "execution_count": null,
   "metadata": {},
   "outputs": [],
   "source": []
  },
  {
   "cell_type": "markdown",
   "metadata": {},
   "source": [
    "#### HNDR and LNDR positioning"
   ]
  },
  {
   "cell_type": "code",
   "execution_count": null,
   "metadata": {},
   "outputs": [],
   "source": [
    "# region = 'promoter'\n",
    "# region = 'intron.1.start'\n",
    "# region = 'intron.1.end'\n",
    "region = 'intron.2.start'"
   ]
  },
  {
   "cell_type": "code",
   "execution_count": null,
   "metadata": {},
   "outputs": [],
   "source": [
    "expression = False\n",
    "rest = True"
   ]
  },
  {
   "cell_type": "code",
   "execution_count": null,
   "metadata": {},
   "outputs": [],
   "source": [
    "infile = intersect_path / f'NDR.{region}.intersect.bed'\n",
    "df_NDR_pos = nome.get_nuc_positions(infile, region)"
   ]
  },
  {
   "cell_type": "code",
   "execution_count": null,
   "metadata": {},
   "outputs": [],
   "source": [
    "df_NDR_pos.head()"
   ]
  },
  {
   "cell_type": "code",
   "execution_count": null,
   "metadata": {},
   "outputs": [],
   "source": [
    "infile = intersect_path / f'NOR.{region}.intersect.bed'\n",
    "df_NOR_pos = nome.get_nuc_positions(infile, region)"
   ]
  },
  {
   "cell_type": "code",
   "execution_count": null,
   "metadata": {},
   "outputs": [],
   "source": [
    "df_NOR_pos.head()"
   ]
  },
  {
   "cell_type": "code",
   "execution_count": null,
   "metadata": {},
   "outputs": [],
   "source": [
    "df_NDR_pos.shape, df_NOR_pos.shape"
   ]
  },
  {
   "cell_type": "code",
   "execution_count": null,
   "metadata": {},
   "outputs": [],
   "source": [
    "print(f\"NDR trasncripts: {df_NDR_pos['refid'].unique().shape}\")\n",
    "print(f\"NOR trasncripts: {df_NOR_pos['refid'].unique().shape}\")"
   ]
  },
  {
   "cell_type": "code",
   "execution_count": null,
   "metadata": {},
   "outputs": [],
   "source": [
    "if not rest:\n",
    "    if expression:\n",
    "        df_NDR_pos = df_NDR_pos[df_NDR_pos['refid'].str.split('.').str[0].isin(transcript_expressed)]\n",
    "        df_NOR_pos = df_NOR_pos[df_NOR_pos['refid'].str.split('.').str[0].isin(transcript_expressed)]\n",
    "    else:\n",
    "        df_NDR_pos = df_NDR_pos[df_NDR_pos['refid'].str.split('.').str[0].isin(transcript_not_expressed)]\n",
    "        df_NOR_pos = df_NOR_pos[df_NOR_pos['refid'].str.split('.').str[0].isin(transcript_not_expressed)]\n",
    "\n",
    "else:\n",
    "    print('Warning: rest')\n",
    "    df_NDR_pos = df_NDR_pos[~df_NDR_pos['refid'].str.split('.').str[0].isin(transcript_expressed+transcript_not_expressed)]\n",
    "    df_NOR_pos = df_NOR_pos[~df_NOR_pos['refid'].str.split('.').str[0].isin(transcript_expressed+transcript_not_expressed)]"
   ]
  },
  {
   "cell_type": "code",
   "execution_count": null,
   "metadata": {},
   "outputs": [],
   "source": [
    "if not rest:\n",
    "    if expression:\n",
    "        print(f\"NDR expressed trasncripts: {df_NDR_pos['refid'].unique().shape}\")\n",
    "        print(f\"NOR expressed trasncripts: {df_NOR_pos['refid'].unique().shape}\")\n",
    "    else:\n",
    "        print(f\"NDR non expressed trasncripts: {df_NDR_pos['refid'].unique().shape}\")\n",
    "        print(f\"NOR non expressed trasncripts: {df_NOR_pos['refid'].unique().shape}\")\n",
    "else:\n",
    "    print('Warning: rest')\n",
    "    print(f\"NDR trasncripts: {df_NDR_pos['refid'].unique().shape}\")\n",
    "    print(f\"NOR trasncripts: {df_NOR_pos['refid'].unique().shape}\")"
   ]
  },
  {
   "cell_type": "code",
   "execution_count": null,
   "metadata": {},
   "outputs": [],
   "source": [
    "inter_start = -2000\n",
    "inter_end = 1000\n",
    "step = 200\n",
    "inter = range(inter_start,inter_end+1,step)\n",
    "\n",
    "plt.figure(figsize=(10, 7))\n",
    "\n",
    "plt.hist(df_NDR_pos['nuc_start_promo_rel'], bins=60, color='tab:orange', histtype='bar', density=False, label=\"LNDR start positions\", alpha = 0.7)\n",
    "plt.hist(df_NDR_pos['nuc_end_promo_rel'],  bins=60, color='tab:blue', histtype='bar', density=False, label=\"LNDR end positions\", alpha = 0.6)\n",
    "\n",
    "plt.xlabel(\"DNA position [bp]\", fontsize=22)\n",
    "plt.ylabel(\"Frequency\", fontsize=22)\n",
    "plt.xticks(fontsize=18)\n",
    "plt.yticks(fontsize=18)\n",
    "\n",
    "plt.xlim(-2000, 1000)\n",
    "plt.ylim(0, 500)\n",
    "plt.axvline(x=0, linestyle='--', c='dimgray')\n",
    "plt.axhline(y=300, linestyle='--', c='red')\n",
    "plt.legend(fontsize=20)\n",
    "plt.show()"
   ]
  },
  {
   "cell_type": "code",
   "execution_count": null,
   "metadata": {},
   "outputs": [],
   "source": [
    "plt.figure()\n",
    "\n",
    "plt.hist(df_NDR_pos['region_length'], bins=30, histtype='bar', density=False)  \n",
    "\n",
    "plt.xlabel(\"NDR length [bp]\")\n",
    "plt.ylabel(\"Density\")\n",
    "plt.show()"
   ]
  },
  {
   "cell_type": "code",
   "execution_count": null,
   "metadata": {},
   "outputs": [],
   "source": [
    "inter_start = -2000\n",
    "inter_end = 1000\n",
    "step = 200\n",
    "inter = range(inter_start,inter_end+1,step)\n",
    "\n",
    "plt.figure(figsize=(10, 7))\n",
    "\n",
    "plt.hist(df_NOR_pos['nuc_start_promo_rel'], bins=60, color='tab:orange', histtype='bar', density=False, label=\"HNDR start positions\", alpha = 0.7)\n",
    "plt.hist(df_NOR_pos['nuc_end_promo_rel'],  bins=60, color='tab:blue', histtype='bar', density=False, label=\"HNDR end positions\", alpha = 0.6)\n",
    "\n",
    "plt.xlabel(\"DNA position [bp]\", fontsize=22)\n",
    "plt.ylabel(\"Frequency\", fontsize=22)\n",
    "plt.xticks(fontsize=18)\n",
    "plt.yticks(fontsize=18)\n",
    "\n",
    "plt.xlim(-2000, 1000)\n",
    "plt.ylim(0, 100)\n",
    "plt.axvline(x=0, linestyle='--', c='dimgray')\n",
    "plt.axhline(y=60, linestyle='--', c='red')\n",
    "plt.legend(fontsize=20)\n",
    "plt.show()"
   ]
  },
  {
   "cell_type": "code",
   "execution_count": null,
   "metadata": {},
   "outputs": [],
   "source": [
    "plt.figure()\n",
    "\n",
    "plt.hist(df_NOR_pos['region_length'], bins=30, histtype='bar', density=False)  \n",
    "\n",
    "plt.xlabel(\"HNDR length [bp]\")\n",
    "plt.ylabel(\"Density\")\n",
    "plt.show()"
   ]
  },
  {
   "cell_type": "code",
   "execution_count": null,
   "metadata": {},
   "outputs": [],
   "source": []
  },
  {
   "cell_type": "markdown",
   "metadata": {},
   "source": [
    "#### CpG Methylation in regions"
   ]
  },
  {
   "cell_type": "code",
   "execution_count": null,
   "metadata": {},
   "outputs": [],
   "source": [
    "# region = 'promoter'\n",
    "# region = 'intron.1.start'\n",
    "# region = 'intron.1.end'\n",
    "region = 'intron.2.start'"
   ]
  },
  {
   "cell_type": "code",
   "execution_count": null,
   "metadata": {},
   "outputs": [],
   "source": [
    "expression = False\n",
    "rest = True"
   ]
  },
  {
   "cell_type": "code",
   "execution_count": null,
   "metadata": {},
   "outputs": [],
   "source": [
    "infile = intersect_path / f'HCG.{region}.intersect.bed'\n",
    "df_HCG_intersect = nome.get_methylation(infile, region=region)"
   ]
  },
  {
   "cell_type": "code",
   "execution_count": null,
   "metadata": {},
   "outputs": [],
   "source": [
    "infile = intersect_path / f'HCG.{region}.intersect.random.bed'\n",
    "df_HCG_intersect_random = nome.get_methylation(infile, region=region)"
   ]
  },
  {
   "cell_type": "code",
   "execution_count": null,
   "metadata": {},
   "outputs": [],
   "source": [
    "print(f\"trasncripts: {df_HCG_intersect['refid'].unique().shape}\")\n",
    "print(f\"trasncripts: {df_HCG_intersect_random['refid'].unique().shape}\")"
   ]
  },
  {
   "cell_type": "code",
   "execution_count": null,
   "metadata": {},
   "outputs": [],
   "source": [
    "if not rest:\n",
    "    if expression:\n",
    "        df_HCG_intersect = df_HCG_intersect[df_HCG_intersect['refid'].str.split('.').str[0].isin(transcript_expressed)]\n",
    "        df_HCG_intersect_random = df_HCG_intersect_random[df_HCG_intersect_random['refid'].str.split('.').str[0].isin(transcript_expressed)]\n",
    "    else:\n",
    "        df_HCG_intersect = df_HCG_intersect[df_HCG_intersect['refid'].str.split('.').str[0].isin(transcript_not_expressed)]\n",
    "        df_HCG_intersect_random = df_HCG_intersect_random[df_HCG_intersect_random['refid'].str.split('.').str[0].isin(transcript_not_expressed)]\n",
    "\n",
    "else:\n",
    "    print('Warning: rest')\n",
    "    df_HCG_intersect = df_HCG_intersect[~df_HCG_intersect['refid'].str.split('.').str[0].isin(transcript_expressed+transcript_not_expressed)]\n",
    "    df_HCG_intersect_random = df_HCG_intersect_random[~df_HCG_intersect_random['refid'].str.split('.').str[0].isin(transcript_expressed+transcript_not_expressed)]"
   ]
  },
  {
   "cell_type": "code",
   "execution_count": null,
   "metadata": {},
   "outputs": [],
   "source": [
    "if not rest:\n",
    "    if expression:\n",
    "        print(f\"expressed trasncripts: {df_HCG_intersect['refid'].unique().shape}\")\n",
    "        print(f\"expressed trasncripts: {df_HCG_intersect_random['refid'].unique().shape}\")\n",
    "    else:\n",
    "        print(f\"non expressed trasncripts: {df_HCG_intersect['refid'].unique().shape}\")\n",
    "        print(f\"non expressed trasncripts: {df_HCG_intersect_random['refid'].unique().shape}\")\n",
    "else:\n",
    "    print('Warning: rest')\n",
    "    print(f\"trasncripts: {df_HCG_intersect['refid'].unique().shape}\")\n",
    "    print(f\"trasncripts: {df_HCG_intersect_random['refid'].unique().shape}\")"
   ]
  },
  {
   "cell_type": "code",
   "execution_count": null,
   "metadata": {},
   "outputs": [],
   "source": [
    "def plot_avg_methylation_levels(df, context, select_genes=[], fig = True, c = 'grey', label = None, rel=False, inter_start=None, inter_end=None):\n",
    "    \n",
    "    if len(select_genes) == 0: \n",
    "        all_meth_pos_rel = list(df['meth_pos_rel'])\n",
    "        all_meth_rate = list(df['meth_rate'])\n",
    "        all_coverage = list(df['coverage'])\n",
    "\n",
    "        assert len(all_meth_pos_rel) == len(all_meth_rate) == len(all_coverage)\n",
    "\n",
    "        av_dict = dict()\n",
    "        seen_pos = set()\n",
    "        for p in range(len(all_meth_pos_rel)):\n",
    "            rel_pos_x = all_meth_pos_rel[p]\n",
    "            meth_rate = all_meth_rate[p]\n",
    "            coverage = all_coverage[p]\n",
    "            \n",
    "            #AVERAGE\n",
    "            if rel_pos_x not in seen_pos:\n",
    "                seen_pos.add(rel_pos_x)\n",
    "                av_dict[rel_pos_x] = {}\n",
    "                av_dict[rel_pos_x]['meth'] = []\n",
    "                av_dict[rel_pos_x]['total'] = []\n",
    "            \n",
    "            if context == 'GCH':\n",
    "                av_dict[rel_pos_x]['meth'].append(coverage*(100-meth_rate)/100)\n",
    "                av_dict[rel_pos_x]['total'].append(coverage)\n",
    "            elif context == 'HCG':\n",
    "                av_dict[rel_pos_x]['meth'].append(meth_rate*coverage/100)\n",
    "                av_dict[rel_pos_x]['total'].append(coverage)\n",
    "            else:\n",
    "                print('Check context')\n",
    "                return\n",
    "    else:\n",
    "        av_dict = {}\n",
    "        seen_pos = set()\n",
    "        group = df[df['gene_name'].isin(select_genes)]\n",
    "        for rel_pos_x, meth_rate, coverage in zip(group['meth_pos_rel'], group['meth_rate'], group['coverage']):\n",
    "            if rel_pos_x not in seen_pos:\n",
    "                seen_pos.add(rel_pos_x)\n",
    "                av_dict[rel_pos_x] = {}\n",
    "                av_dict[rel_pos_x]['meth'] = []\n",
    "                av_dict[rel_pos_x]['total'] = []\n",
    "\n",
    "            if context == 'GCH':\n",
    "                av_dict[rel_pos_x]['meth'].append(coverage*(100-meth_rate)/100)\n",
    "                av_dict[rel_pos_x]['total'].append(coverage)\n",
    "            elif context == 'HCG':\n",
    "                av_dict[rel_pos_x]['meth'].append(meth_rate*coverage/100)\n",
    "                av_dict[rel_pos_x]['total'].append(coverage)\n",
    "            else:\n",
    "                print('Check context')\n",
    "                return\n",
    "            \n",
    "\n",
    "    if fig:\n",
    "        plt.figure(figsize=(15, 7), facecolor='w', edgecolor='k')\n",
    "\n",
    "    x = []\n",
    "    y = []\n",
    "\n",
    "    for rel_pos_x in sorted(av_dict.keys()):\n",
    "        if rel:\n",
    "            if rel_pos_x >= inter_start and rel_pos_x <= inter_end:\n",
    "                if len(av_dict[rel_pos_x]['meth']) >= 100: ## to remove artifact\n",
    "                    x.append(rel_pos_x)\n",
    "                    y.append(np.sum(av_dict[rel_pos_x]['meth'])*100/np.sum(av_dict[rel_pos_x]['total']))\n",
    "        else:\n",
    "            if len(av_dict[rel_pos_x]['meth']) >= 100: ## to remove artifact\n",
    "                x.append(rel_pos_x)\n",
    "                y.append(np.sum(av_dict[rel_pos_x]['meth'])*100/np.sum(av_dict[rel_pos_x]['total']))\n",
    "\n",
    "    plt.axvline(x=0, linestyle='--', c='dimgray')\n",
    "    if label is None:\n",
    "        plt.plot(x, y, \"-\", color=c, alpha=1.0)\n",
    "    else:\n",
    "        plt.plot(x, y, \"-\", color=c, label=label, alpha=0.7)\n",
    "        plt.legend(fontsize=22)\n",
    "        \n",
    "    plt.xlabel(\"DNA position [bp]\", fontsize=22)\n",
    "    plt.xlim(-2000, 1000)\n",
    "    plt.xticks(fontsize=18)\n",
    "\n",
    "    if context == 'GCH':\n",
    "        ylab = \"100-GpC methylation level\"\n",
    "    if context == 'HCG':\n",
    "        ylab = \"CpG methylation level\"\n",
    "    plt.ylabel(ylab, fontsize=22)\n",
    "    # plt.ylim(bottom=68, top=80)\n",
    "    # plt.ylim(top=70)\n",
    "    plt.yticks(fontsize=18)"
   ]
  },
  {
   "cell_type": "code",
   "execution_count": null,
   "metadata": {},
   "outputs": [],
   "source": [
    "plot_avg_methylation_levels(df_HCG_intersect_random, 'HCG', fig=True, c='darkgray', label='random')\n",
    "plot_avg_methylation_levels(df_HCG_intersect, 'HCG', fig=False, c='dimgray', label='experimental')"
   ]
  },
  {
   "cell_type": "code",
   "execution_count": null,
   "metadata": {},
   "outputs": [],
   "source": []
  },
  {
   "cell_type": "markdown",
   "metadata": {},
   "source": [
    "#### Steric Clash Plot"
   ]
  },
  {
   "cell_type": "code",
   "execution_count": null,
   "metadata": {},
   "outputs": [],
   "source": [
    "import pickle"
   ]
  },
  {
   "cell_type": "code",
   "execution_count": null,
   "metadata": {},
   "outputs": [],
   "source": [
    "steric_path_1kx5 = main_path / 'superposition' / 'clash_1KX5'\n",
    "steric_path_7v9j = main_path / 'superposition' / 'clash_7V9J'"
   ]
  },
  {
   "cell_type": "code",
   "execution_count": null,
   "metadata": {},
   "outputs": [],
   "source": [
    "clash_dict_loc_1kx5 = steric_path_1kx5 / 'clash_dict'\n",
    "info_dict_loc_1kx5 = steric_path_1kx5 / 'info_nbr_dict'\n",
    "\n",
    "clash_dict_loc_7v9j = steric_path_7v9j / 'clash_dict'\n",
    "info_dict_loc_7v9j = steric_path_7v9j / 'info_nbr_dict'"
   ]
  },
  {
   "cell_type": "code",
   "execution_count": null,
   "metadata": {},
   "outputs": [],
   "source": [
    "with open(clash_dict_loc_1kx5, 'rb') as fin:\n",
    "    clash_dict_1kx5 = pickle.load(fin)\n",
    "with open(info_dict_loc_1kx5, 'rb') as fin:\n",
    "    info_nbr_dict_1kx5 = pickle.load(fin)\n",
    "\n",
    "with open(clash_dict_loc_7v9j, 'rb') as fin:\n",
    "    clash_dict_7v9j = pickle.load(fin)\n",
    "with open(info_dict_loc_7v9j, 'rb') as fin:\n",
    "    info_nbr_dict_7v9j = pickle.load(fin)"
   ]
  },
  {
   "cell_type": "code",
   "execution_count": null,
   "metadata": {},
   "outputs": [],
   "source": [
    "info_nbr_dict_1kx5"
   ]
  },
  {
   "cell_type": "code",
   "execution_count": null,
   "metadata": {},
   "outputs": [],
   "source": [
    "info_nbr_dict_7v9j"
   ]
  },
  {
   "cell_type": "code",
   "execution_count": null,
   "metadata": {},
   "outputs": [],
   "source": [
    "def get_x_y(clash_dict_, info_nbr_dict_):\n",
    "    dnmt_atoms_consider_clash = info_nbr_dict_[\"dnmt_atoms_consider_clash\"]\n",
    "    print('Dnmt atoms for clash', dnmt_atoms_consider_clash)\n",
    "    x = np.array(sorted(clash_dict_.keys()))\n",
    "    y = []\n",
    "\n",
    "    for pos in x:\n",
    "        all_clashes = 0\n",
    "        for clash_res in clash_dict_[pos]['steric_clash_list'].keys():\n",
    "            atom_clashes = clash_dict_[pos]['steric_clash_list'][clash_res]\n",
    "            nbr_clash_atoms = 0\n",
    "            seen_atoms = set()\n",
    "            for ac in atom_clashes: #['X_TYR923_N', 'A_ARG42_CD', 2.0103261]\n",
    "                dnmt_atom = ac[0]\n",
    "                nuc_atom = ac[1]\n",
    "                if dnmt_atom not in seen_atoms:\n",
    "                    seen_atoms.add(dnmt_atom)\n",
    "                    nbr_clash_atoms += 1\n",
    "            \n",
    "            all_clashes += nbr_clash_atoms\n",
    "\n",
    "        perc_clash_atoms = (float(all_clashes)/float(dnmt_atoms_consider_clash))*100\n",
    "        y.append(perc_clash_atoms)\n",
    "\n",
    "    y = np.array(y)\n",
    "\n",
    "    return x, y"
   ]
  },
  {
   "cell_type": "code",
   "execution_count": null,
   "metadata": {},
   "outputs": [],
   "source": [
    "x_1kx5, y_1kx5 = get_x_y(clash_dict_1kx5, info_nbr_dict_1kx5)\n",
    "x_7v9j, y_7v9j = get_x_y(clash_dict_7v9j, info_nbr_dict_7v9j)"
   ]
  },
  {
   "cell_type": "code",
   "execution_count": null,
   "metadata": {},
   "outputs": [],
   "source": [
    "plt.plot(x_1kx5, y_1kx5, marker='o')\n",
    "plt.plot(x_7v9j, y_7v9j, marker='o')"
   ]
  },
  {
   "cell_type": "code",
   "execution_count": null,
   "metadata": {},
   "outputs": [],
   "source": [
    "plt.plot(x_1kx5, y_1kx5, marker='o')\n",
    "plt.plot(x_7v9j-126, y_7v9j, marker='o')"
   ]
  },
  {
   "cell_type": "code",
   "execution_count": null,
   "metadata": {},
   "outputs": [],
   "source": [
    "def get_norm_accesibility(y):\n",
    "    #norm clashed st acc is probability between 0 and 1\n",
    "    max_clash = np.max(y)\n",
    "    min_clash = np.min(y)\n",
    "    print (\"max_clash\", max_clash)\n",
    "    print (\"min_clash\", min_clash)\n",
    "    diff = max_clash - min_clash\n",
    "    y_access = []\n",
    "    for y_val in y:\n",
    "        norm_val = 100-(float(y_val-min_clash)/float(diff))*100 #100- because is accessibility\n",
    "        y_access.append(norm_val)\n",
    "\n",
    "    return np.array(y_access)"
   ]
  },
  {
   "cell_type": "code",
   "execution_count": null,
   "metadata": {},
   "outputs": [],
   "source": [
    "y_access_1kx5 = get_norm_accesibility(y_1kx5)\n",
    "y_access_7v9j = get_norm_accesibility(y_7v9j)"
   ]
  },
  {
   "cell_type": "code",
   "execution_count": null,
   "metadata": {},
   "outputs": [],
   "source": [
    "plt.plot(x_1kx5, y_access_1kx5, marker='o')\n",
    "plt.plot(x_7v9j-126, y_access_7v9j, marker='o')"
   ]
  },
  {
   "cell_type": "code",
   "execution_count": null,
   "metadata": {},
   "outputs": [],
   "source": [
    "def get_x_y_dict(x, y, y_access):\n",
    "    x_y_acc_dict = dict() \n",
    "    x_y_dict = dict()\n",
    "    for i in range(0,len(x)):\n",
    "        x_y_dict[x[i]] = y[i]\n",
    "        x_y_acc_dict[x[i]] = y_access[i]\n",
    "    \n",
    "    return x_y_dict, x_y_acc_dict"
   ]
  },
  {
   "cell_type": "code",
   "execution_count": null,
   "metadata": {},
   "outputs": [],
   "source": [
    "x_y_dict_1kx5, _ = get_x_y_dict(x_1kx5, y_1kx5, y_access_1kx5)\n",
    "x_y_dict_7v9j, _ = get_x_y_dict(x_7v9j-126, y_7v9j, y_access_7v9j)"
   ]
  },
  {
   "cell_type": "code",
   "execution_count": null,
   "metadata": {},
   "outputs": [],
   "source": [
    "from workspace import utils"
   ]
  },
  {
   "cell_type": "code",
   "execution_count": null,
   "metadata": {},
   "outputs": [],
   "source": [
    "x_y_clash_dict_norm_1kx5 = utils.normalize_clash_dict(x_y_dict_1kx5)\n",
    "x_y_clash_dict_norm_7v9j = utils.normalize_clash_dict(x_y_dict_7v9j)"
   ]
  },
  {
   "cell_type": "code",
   "execution_count": null,
   "metadata": {},
   "outputs": [],
   "source": [
    "fig, ax = plt.subplots(1, 2, figsize=(15,5), layout='constrained')\n",
    "thresh = 10\n",
    "ax[0].plot(x_y_dict_1kx5.keys(), x_y_dict_1kx5.values(), marker='o', label='true')\n",
    "ax[0].plot(x_y_clash_dict_norm_1kx5.keys(), x_y_clash_dict_norm_1kx5.values(), marker='*', label='normalized')\n",
    "ax[0].set_title('1kx5')\n",
    "ax[0].axhline(y=thresh, ls='--', color='grey')\n",
    "ax[0].plot(np.array(list(x_y_dict_1kx5.keys()))[np.array(list(x_y_dict_1kx5.values())) < thresh], \n",
    "           np.array(list(x_y_dict_1kx5.values()))[np.array(list(x_y_dict_1kx5.values())) < thresh], 'o', color='red')\n",
    "ax[0].plot(np.array(list(x_y_clash_dict_norm_1kx5.keys()))[np.array(list(x_y_clash_dict_norm_1kx5.values())) < thresh], \n",
    "           np.array(list(x_y_clash_dict_norm_1kx5.values()))[np.array(list(x_y_clash_dict_norm_1kx5.values())) < thresh], '*', color='red')\n",
    "ax[0].legend()\n",
    "print(f'1kx5 pos under thresh true {(np.array(list(x_y_dict_1kx5.values())) < thresh).sum()}')\n",
    "print(f'1kx5 pos under thresh norm {(np.array(list(x_y_clash_dict_norm_1kx5.values())) < thresh).sum()}')\n",
    "\n",
    "ax[1].plot(x_y_dict_7v9j.keys(), x_y_dict_7v9j.values(), marker='o', label='true')\n",
    "ax[1].plot(x_y_clash_dict_norm_7v9j.keys(), x_y_clash_dict_norm_7v9j.values(), marker='*', label='normalized')\n",
    "ax[1].set_title('7v9j')\n",
    "ax[1].axhline(y=thresh, ls='--', color='grey')\n",
    "ax[1].plot(np.array(list(x_y_dict_7v9j.keys()))[np.array(list(x_y_dict_7v9j.values())) < thresh], \n",
    "           np.array(list(x_y_dict_7v9j.values()))[np.array(list(x_y_dict_7v9j.values())) < thresh], 'o', color='red')\n",
    "ax[1].plot(np.array(list(x_y_clash_dict_norm_7v9j.keys()))[np.array(list(x_y_clash_dict_norm_7v9j.values())) < thresh], \n",
    "           np.array(list(x_y_clash_dict_norm_7v9j.values()))[np.array(list(x_y_clash_dict_norm_7v9j.values())) < thresh], '*', color='red')\n",
    "ax[1].legend()\n",
    "\n",
    "print(f'7v9j pos under thresh true {(np.array(list(x_y_dict_7v9j.values())) < thresh).sum()}')\n",
    "print(f'7v9j pos under thresh norm {(np.array(list(x_y_clash_dict_norm_7v9j.values())) < thresh).sum()}')"
   ]
  },
  {
   "cell_type": "code",
   "execution_count": null,
   "metadata": {},
   "outputs": [],
   "source": [
    "fig, ax = plt.subplots(1, 2, figsize=(15,5), layout='constrained')\n",
    "thresh = 10\n",
    "ax[0].plot(x_y_dict_1kx5.keys(), x_y_dict_1kx5.values(), marker='o', label='1kx5')\n",
    "ax[0].plot(x_y_dict_7v9j.keys(), x_y_dict_7v9j.values(), marker='*', label='7v9j')\n",
    "ax[0].set_title('true')\n",
    "ax[0].axhline(y=thresh, ls='--', color='grey')\n",
    "ax[0].plot(np.array(list(x_y_dict_1kx5.keys()))[np.array(list(x_y_dict_1kx5.values())) < thresh], \n",
    "           np.array(list(x_y_dict_1kx5.values()))[np.array(list(x_y_dict_1kx5.values())) < thresh], 'o', color='red')\n",
    "ax[0].plot(np.array(list(x_y_dict_7v9j.keys()))[np.array(list(x_y_dict_7v9j.values())) < thresh], \n",
    "           np.array(list(x_y_dict_7v9j.values()))[np.array(list(x_y_dict_7v9j.values())) < thresh], '*', color='red')\n",
    "ax[0].legend()\n",
    "print(f'1kx5 pos under thresh true {(np.array(list(x_y_dict_1kx5.values())) < thresh).sum()}')\n",
    "print(f'7v9j pos under thresh true {(np.array(list(x_y_dict_7v9j.values())) < thresh).sum()}')\n",
    "\n",
    "ax[1].plot(x_y_clash_dict_norm_1kx5.keys(), x_y_clash_dict_norm_1kx5.values(), marker='o', label='1kx5')\n",
    "ax[1].plot(x_y_clash_dict_norm_7v9j.keys(), x_y_clash_dict_norm_7v9j.values(), marker='*', label='7v9j')\n",
    "ax[1].set_title('norm')\n",
    "ax[1].axhline(y=thresh, ls='--', color='grey')\n",
    "ax[1].plot(np.array(list(x_y_clash_dict_norm_1kx5.keys()))[np.array(list(x_y_clash_dict_norm_1kx5.values())) < thresh], \n",
    "           np.array(list(x_y_clash_dict_norm_1kx5.values()))[np.array(list(x_y_clash_dict_norm_1kx5.values())) < thresh], 'o', color='red')\n",
    "ax[1].plot(np.array(list(x_y_clash_dict_norm_7v9j.keys()))[np.array(list(x_y_clash_dict_norm_7v9j.values())) < thresh], \n",
    "           np.array(list(x_y_clash_dict_norm_7v9j.values()))[np.array(list(x_y_clash_dict_norm_7v9j.values())) < thresh], '*', color='red')\n",
    "ax[1].legend()\n",
    "\n",
    "print(f'1kx5 pos under thresh norm {(np.array(list(x_y_clash_dict_norm_1kx5.values())) < thresh).sum()}')\n",
    "print(f'7v9j pos under thresh norm {(np.array(list(x_y_clash_dict_norm_7v9j.values())) < thresh).sum()}')"
   ]
  },
  {
   "cell_type": "code",
   "execution_count": null,
   "metadata": {},
   "outputs": [],
   "source": [
    "# def save_dict(steric_path, x_y_dict):\n",
    "#     with open(steric_path / 'x_y_dict', 'wb') as fout:\n",
    "#         pickle.dump(x_y_dict, fout, -1)"
   ]
  },
  {
   "cell_type": "code",
   "execution_count": null,
   "metadata": {},
   "outputs": [],
   "source": [
    "# save_dict(steric_path_7v9j, x_y_dict_7v9j)"
   ]
  },
  {
   "cell_type": "code",
   "execution_count": null,
   "metadata": {},
   "outputs": [],
   "source": [
    "# with open(steric_path / 'x_y_perc_file_.txt', 'w') as fout:\n",
    "#     x_y_acc_dict = dict() \n",
    "#     x_y_dict = dict()\n",
    "#     for i in range(0,len(x)):\n",
    "#         fout.write(str(x[i]) + \"----\" + str(y[i]) + \"\\n\")\n",
    "#         x_y_dict[x[i]] = y[i]\n",
    "#         x_y_acc_dict[x[i]] = y_access[i]\n",
    "\n",
    "# with open(steric_path / 'x_y_dict_', 'wb') as fout:\n",
    "#     pickle.dump(x_y_dict, fout, -1)\n",
    "# with open(steric_path / 'x_y_acc_dict_', 'wb') as fout:\n",
    "#     pickle.dump(x_y_acc_dict, fout, -1)"
   ]
  },
  {
   "cell_type": "code",
   "execution_count": null,
   "metadata": {},
   "outputs": [],
   "source": [
    "def plot_nbr_clashs(steric_path, clash_dict_loc, info_dict_loc, save=False):\n",
    "    with open(clash_dict_loc, 'rb') as fin:\n",
    "        clash_dict = pickle.load(fin)\n",
    "    with open(info_dict_loc, 'rb') as fin:\n",
    "        info_nbr_dict = pickle.load(fin)\n",
    "\n",
    "    nbr_dnmt_residues = info_nbr_dict[\"model_dnmt_nbr_residues\"]\n",
    "    nbr_dnmt_atoms = info_nbr_dict[\"model_dnmt_nbr_atoms\"]\n",
    "    dnmt_atoms_consider_clash = info_nbr_dict[\"dnmt_atoms_consider_clash\"]\n",
    "    \n",
    "    x = sorted(clash_dict.keys())\n",
    "    #x = [12]\n",
    "    y = []\n",
    "\n",
    "    #lab_txt = []\n",
    "    for pos in x:\n",
    "        #nbr_clash_residues = len(clash_dict[pos]['steric_clash_list'].keys())\n",
    "        #perc_clash_res = (float(nbr_clash_residues)/float(nbr_dnmt_residues))*100\n",
    "        #rmsd = round(clash_dict[pos]['rmsd'],2)\n",
    "        all_clashes = 0\n",
    "        for clash_res in clash_dict[pos]['steric_clash_list'].keys():\n",
    "            atom_clashes = clash_dict[pos]['steric_clash_list'][clash_res]\n",
    "            nbr_clash_atoms = 0\n",
    "            seen_atoms = set()\n",
    "            for ac in atom_clashes: #['X_TYR923_N', 'A_ARG42_CD', 2.0103261]\n",
    "                dnmt_atom = ac[0]\n",
    "                nuc_atom = ac[1]\n",
    "                if dnmt_atom not in seen_atoms:\n",
    "                    seen_atoms.add(dnmt_atom)\n",
    "                    nbr_clash_atoms += 1\n",
    "            all_clashes += nbr_clash_atoms\n",
    "\n",
    "        perc_clash_atoms = (float(all_clashes)/float(dnmt_atoms_consider_clash))*100\n",
    "        y.append(perc_clash_atoms)\n",
    "    \n",
    "    #norm clashed st acc is probability between 0 and 1\n",
    "    max_clash = np.max(y)\n",
    "    min_clash = np.min(y)\n",
    "    print (\"max_clash\", max_clash)\n",
    "    print (\"min_clash\", min_clash)\n",
    "    diff = max_clash - min_clash\n",
    "    y_access = []\n",
    "    for y_val in y:\n",
    "        norm_val = 100-(float(y_val-min_clash)/float(diff))*100 #100- because is accessibility\n",
    "        y_access.append(norm_val)\n",
    "    \n",
    "    if save:\n",
    "        with open(steric_path / 'x_y_perc_file.txt', 'w') as fout:\n",
    "            x_y_acc_dict = dict() \n",
    "            x_y_dict = dict()\n",
    "            for i in range(0,len(x)):\n",
    "                fout.write(str(x[i]) + \"----\" + str(y[i]) + \"\\n\")\n",
    "                x_y_dict[x[i]] = y[i]\n",
    "                x_y_acc_dict[x[i]] = y_access[i]\n",
    "\n",
    "        with open(steric_path / 'x_y_dict', 'wb') as fout:\n",
    "            pickle.dump(x_y_dict, fout, -1)\n",
    "        with open(steric_path / 'x_y_acc_dict', 'wb') as fout:\n",
    "            pickle.dump(x_y_acc_dict, fout, -1)\n",
    "    \n",
    "    '''\n",
    "    % ATOMS CLASHED\n",
    "    '''\n",
    "    fig = plt.figure(figsize=(18, 7))\n",
    "    ax = plt.subplot(111)\n",
    "    \n",
    "    #plt.title('Superposition of DNMT1 (3PTA) and the nucleosome (1KX5)')\n",
    "    # print(sum(np.array(y) < 5))\n",
    "    ax.plot(x, y, linestyle=\"-\", marker=\"o\", linewidth=2)\n",
    "    # ax.plot(np.array(x)[np.array(y) < 5], np.array(y)[np.array(y) < 5], '*', color='red')\n",
    "    for pos in range(0,len(x)):\n",
    "        #ax.text(x[pos]+0.3,y[pos],rmsd_list[pos])\n",
    "        ax.text(x[pos]+0.2, y[pos]+0.7, x[pos], fontsize=12)\n",
    "        \n",
    "    plt.xlim(0,140)\n",
    "    plt.xticks(range(0,len(x)+5,5), fontsize=15)\n",
    "    plt.yticks(fontsize=15)\n",
    "    plt.xlabel(\"Nucleosome position [bp]\", fontsize=18)\n",
    "    plt.ylabel(\"DNMT1 atoms clashing [%]\", fontsize=18)\n",
    "    \n",
    "    ax.axvline(x=74,c=\"grey\",linewidth=2,linestyle=\"--\")#4169e1\n",
    "    \n",
    "    \n",
    "    '''\n",
    "    ACCESSIBILITY: 100-clasehd atoms\n",
    "    '''\n",
    "    fig = plt.figure(figsize=(15, 7))\n",
    "    ax = plt.subplot(111)\n",
    "    plt.title('Superposition of DNMT1 (3PTA) and the nucleosome (1KX5)')\n",
    "    ax.plot(x,y_access, linestyle=\"-\" ,marker=\"o\", linewidth=2)\n",
    "    for pos in range(0,len(x)):\n",
    "        ax.text(x[pos]+0.3, y_access[pos], x[pos])\n",
    "        \n",
    "    plt.xlim(0, 140)\n",
    "    plt.xticks(range(0,len(x)+5,5), fontsize=15)\n",
    "    plt.xlabel(\"Nucleosome position\")\n",
    "    plt.ylabel(\"Accessibility [%]\")\n",
    "    \n",
    "    ax.axvline(x=74,c=\"black\",linewidth=2,linestyle=\"-\")#4169e1\n",
    "    ax.axhline(y=95,c=\"black\",linewidth=2,linestyle=\"--\")#4169e1\n",
    "    ax.text(-1,94.5,'95')"
   ]
  },
  {
   "cell_type": "code",
   "execution_count": null,
   "metadata": {},
   "outputs": [],
   "source": [
    "clash_dict_loc = steric_path_1kx5 / 'clash_dict'\n",
    "info_dict_loc = steric_path_1kx5 / 'info_nbr_dict'\n",
    "plot_nbr_clashs(steric_path_1kx5, clash_dict_loc, info_dict_loc, save=False)"
   ]
  },
  {
   "cell_type": "code",
   "execution_count": null,
   "metadata": {},
   "outputs": [],
   "source": []
  }
 ],
 "metadata": {
  "kernelspec": {
   "display_name": "helms-lab-jupyter",
   "language": "python",
   "name": "helms-lab"
  },
  "language_info": {
   "codemirror_mode": {
    "name": "ipython",
    "version": 3
   },
   "file_extension": ".py",
   "mimetype": "text/x-python",
   "name": "python",
   "nbconvert_exporter": "python",
   "pygments_lexer": "ipython3",
   "version": "3.9.16"
  }
 },
 "nbformat": 4,
 "nbformat_minor": 2
}
