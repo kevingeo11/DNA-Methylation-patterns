{
 "cells": [
  {
   "cell_type": "code",
   "execution_count": 1,
   "metadata": {},
   "outputs": [],
   "source": [
    "from pathlib import Path\n",
    "import pandas as pd"
   ]
  },
  {
   "cell_type": "code",
   "execution_count": 2,
   "metadata": {},
   "outputs": [],
   "source": [
    "from workspace import nometools as nome\n",
    "from workspace import utils\n",
    "from workspace import bedtools"
   ]
  },
  {
   "cell_type": "code",
   "execution_count": 3,
   "metadata": {},
   "outputs": [],
   "source": [
    "main_path = Path('..')\n",
    "preprocessing_path = main_path / 'Data' / 'Preprocessing_LNDR_HNDR'\n",
    "intersect_path = main_path / 'Data' / 'intersect_regions'"
   ]
  },
  {
   "cell_type": "code",
   "execution_count": null,
   "metadata": {},
   "outputs": [],
   "source": []
  },
  {
   "cell_type": "markdown",
   "metadata": {},
   "source": [
    "#### Intersect/map GpC and CpG to defined regions"
   ]
  },
  {
   "cell_type": "code",
   "execution_count": 13,
   "metadata": {},
   "outputs": [],
   "source": [
    "region = 'promoter'\n",
    "# region = 'intron.1.start'\n",
    "# region = 'intron.1.end'\n",
    "# region = 'intron.2.start'"
   ]
  },
  {
   "cell_type": "code",
   "execution_count": 14,
   "metadata": {},
   "outputs": [],
   "source": [
    "region_sorted = preprocessing_path / f'GRCh38.p14.{region}.sorted.bed'\n",
    "gch_sorted = preprocessing_path / 'GCH.filtered.sorted.bed'\n",
    "outfile = intersect_path / f'GCH.{region}.intersect.bed'\n",
    "\n",
    "bedtools.intersect_bed(region_sorted, gch_sorted, outfile)"
   ]
  },
  {
   "cell_type": "code",
   "execution_count": 15,
   "metadata": {},
   "outputs": [],
   "source": [
    "region_sorted = preprocessing_path / f'GRCh38.p14.{region}.sorted.bed'\n",
    "hcg_sorted = preprocessing_path / 'HCG.filtered.sorted.bed'\n",
    "outfile = intersect_path / f'HCG.{region}.intersect.bed'\n",
    "\n",
    "bedtools.intersect_bed(region_sorted, hcg_sorted, outfile)"
   ]
  },
  {
   "cell_type": "code",
   "execution_count": null,
   "metadata": {},
   "outputs": [],
   "source": []
  },
  {
   "cell_type": "markdown",
   "metadata": {},
   "source": [
    "#### Randomize HCG Methylation"
   ]
  },
  {
   "cell_type": "code",
   "execution_count": 22,
   "metadata": {},
   "outputs": [],
   "source": [
    "# region = 'promoter'\n",
    "# region = 'intron.1.start'\n",
    "# region = 'intron.1.end'\n",
    "region = 'intron.2.start'"
   ]
  },
  {
   "cell_type": "code",
   "execution_count": 23,
   "metadata": {},
   "outputs": [],
   "source": [
    "infile = intersect_path / f'HCG.{region}.intersect.bed'\n",
    "cols = ['chrom', 'region_start', 'region_end', 'refid', \n",
    "        'TSS', 'TES', 'strand', 'chrom_', 'meth_start_genome', 'meth_end_genome', \n",
    "        'strand_', 'meth_rate', 'coverage', 'nt']\n",
    "df_HCG_intersect_random = pd.read_csv(infile, sep='\\t', names=cols)\n",
    "df_HCG_intersect_random['meth_rate'] = df_HCG_intersect_random['meth_rate'].sample(frac=1).reset_index(drop=True)\n",
    "outfile = intersect_path / f'HCG.{region}.intersect.random.bed'\n",
    "df_HCG_intersect_random.to_csv(outfile, sep='\\t', header=False, index=False)"
   ]
  },
  {
   "cell_type": "code",
   "execution_count": null,
   "metadata": {},
   "outputs": [],
   "source": []
  },
  {
   "cell_type": "markdown",
   "metadata": {},
   "source": [
    "#### Intersect/map NDR and NOR to defined regions"
   ]
  },
  {
   "cell_type": "code",
   "execution_count": 33,
   "metadata": {},
   "outputs": [],
   "source": [
    "# region = 'promoter'\n",
    "# region = 'intron.1.start'\n",
    "# region = 'intron.1.end'\n",
    "region = 'intron.2.start'"
   ]
  },
  {
   "cell_type": "code",
   "execution_count": 34,
   "metadata": {},
   "outputs": [],
   "source": [
    "region_sorted = preprocessing_path / f'GRCh38.p14.{region}.sorted.bed'\n",
    "ndrfile = preprocessing_path / 'NDR.bed'\n",
    "outfile = intersect_path / f'NDR.{region}.intersect.bed'\n",
    "\n",
    "bedtools.intersect_bed(region_sorted, ndrfile, outfile)"
   ]
  },
  {
   "cell_type": "code",
   "execution_count": 35,
   "metadata": {},
   "outputs": [],
   "source": [
    "region_sorted = preprocessing_path / f'GRCh38.p14.{region}.sorted.bed'\n",
    "norfile = preprocessing_path / 'NOR.bed'\n",
    "outfile = intersect_path / f'NOR.{region}.intersect.bed'\n",
    "\n",
    "bedtools.intersect_bed(region_sorted, norfile, outfile)"
   ]
  },
  {
   "cell_type": "code",
   "execution_count": null,
   "metadata": {},
   "outputs": [],
   "source": []
  },
  {
   "cell_type": "markdown",
   "metadata": {},
   "source": [
    "#### Mapping CpGs to NDRs and HNDRs of specified regions "
   ]
  },
  {
   "cell_type": "code",
   "execution_count": 56,
   "metadata": {},
   "outputs": [],
   "source": [
    "# region = 'promoter'\n",
    "# region = 'intron.1.start'\n",
    "# region = 'intron.1.end'\n",
    "region = 'intron.2.start'"
   ]
  },
  {
   "cell_type": "code",
   "execution_count": 57,
   "metadata": {},
   "outputs": [],
   "source": [
    "NDR_file = intersect_path / f'NDR.{region}.intersect.bed'\n",
    "HCG_file = intersect_path / f'HCG.{region}.intersect.bed'\n",
    "outfile = intersect_path / f'{region}.NDR.HCG.intersect.bed'\n",
    "bedtools.intersect_bed(NDR_file, HCG_file, outfile)"
   ]
  },
  {
   "cell_type": "code",
   "execution_count": 58,
   "metadata": {},
   "outputs": [],
   "source": [
    "NDR_file = intersect_path / f'NDR.{region}.intersect.bed'\n",
    "HCG_file = intersect_path / f'HCG.{region}.intersect.random.bed'\n",
    "outfile = intersect_path / f'{region}.NDR.HCG.random.intersect.bed'\n",
    "bedtools.intersect_bed(NDR_file, HCG_file, outfile)"
   ]
  },
  {
   "cell_type": "code",
   "execution_count": null,
   "metadata": {},
   "outputs": [],
   "source": [
    "NDR_file = intersect_path / f'NOR.{region}.intersect.bed'\n",
    "HCG_file = intersect_path / f'HCG.{region}.intersect.bed'\n",
    "outfile = intersect_path / f'{region}.NOR.HCG.intersect.bed'\n",
    "bedtools.intersect_bed(NDR_file, HCG_file, outfile)"
   ]
  },
  {
   "cell_type": "code",
   "execution_count": null,
   "metadata": {},
   "outputs": [],
   "source": [
    "NDR_file = intersect_path / f'NOR.{region}.intersect.bed'\n",
    "HCG_file = intersect_path / f'HCG.{region}.intersect.random.bed'\n",
    "outfile = intersect_path / f'{region}.NOR.HCG.random.intersect.bed'\n",
    "bedtools.intersect_bed(NDR_file, HCG_file, outfile)"
   ]
  },
  {
   "cell_type": "code",
   "execution_count": null,
   "metadata": {},
   "outputs": [],
   "source": []
  }
 ],
 "metadata": {
  "kernelspec": {
   "display_name": "helms-lab-jupyter",
   "language": "python",
   "name": "helms-lab"
  },
  "language_info": {
   "codemirror_mode": {
    "name": "ipython",
    "version": 3
   },
   "file_extension": ".py",
   "mimetype": "text/x-python",
   "name": "python",
   "nbconvert_exporter": "python",
   "pygments_lexer": "ipython3",
   "version": "3.9.16"
  }
 },
 "nbformat": 4,
 "nbformat_minor": 2
}
