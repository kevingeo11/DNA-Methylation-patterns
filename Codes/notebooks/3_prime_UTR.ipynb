{
 "cells": [
  {
   "cell_type": "code",
   "execution_count": 1,
   "metadata": {},
   "outputs": [],
   "source": [
    "import sys\n",
    "import os\n",
    "sys.path.append('..')"
   ]
  },
  {
   "cell_type": "code",
   "execution_count": 2,
   "metadata": {},
   "outputs": [],
   "source": [
    "from workspace import nometools as nome"
   ]
  },
  {
   "cell_type": "code",
   "execution_count": 3,
   "metadata": {},
   "outputs": [],
   "source": [
    "import random\n",
    "import pandas as pd\n",
    "import numpy as np\n",
    "import matplotlib.pyplot as plt\n",
    "from tqdm import tqdm\n",
    "import time\n",
    "from scipy.stats import pearsonr"
   ]
  },
  {
   "cell_type": "code",
   "execution_count": 4,
   "metadata": {},
   "outputs": [],
   "source": [
    "main_path = '/home/kevin/DNA-Methylation-patterns/'\n",
    "data_path = main_path + '3_prime_UTR/'\n",
    "steric_path = main_path + '3_prime_UTR/steric_clash/'"
   ]
  },
  {
   "cell_type": "code",
   "execution_count": 5,
   "metadata": {},
   "outputs": [],
   "source": [
    "np.random.seed(1234)"
   ]
  },
  {
   "cell_type": "markdown",
   "metadata": {},
   "source": [
    "#### Promoter annotation and sorting"
   ]
  },
  {
   "cell_type": "code",
   "execution_count": 56,
   "metadata": {},
   "outputs": [],
   "source": [
    "chroms = [str(i) for i in range(1,23)] + ['X', 'Y']\n",
    "df = pd.read_csv(data_path + 'utr_annotations.txt', sep='\\t')\n",
    "df = df[df['Chromosome/scaffold name'].isin(chroms)]\n",
    "df.sort_values(by=['Chromosome/scaffold name', 'Transcription start site (TSS)'], inplace=True)\n",
    "df['Chromosome/scaffold name'] = df['Chromosome/scaffold name'].apply(lambda x: 'chr' + x)\n",
    "df['Strand'] = df['Strand'].apply(lambda x: '+' if x == 1 else '-')\n",
    "df.dropna(inplace=True)\n",
    "df['3\\' UTR start'] = df['3\\' UTR start'].astype(int)\n",
    "df['3\\' UTR end'] = df['3\\' UTR end'].astype(int)"
   ]
  },
  {
   "cell_type": "code",
   "execution_count": 57,
   "metadata": {},
   "outputs": [
    {
     "data": {
      "text/plain": [
       "(132215, 9)"
      ]
     },
     "execution_count": 57,
     "metadata": {},
     "output_type": "execute_result"
    }
   ],
   "source": [
    "df.shape"
   ]
  },
  {
   "cell_type": "code",
   "execution_count": 58,
   "metadata": {},
   "outputs": [
    {
     "data": {
      "text/html": [
       "<div>\n",
       "<style scoped>\n",
       "    .dataframe tbody tr th:only-of-type {\n",
       "        vertical-align: middle;\n",
       "    }\n",
       "\n",
       "    .dataframe tbody tr th {\n",
       "        vertical-align: top;\n",
       "    }\n",
       "\n",
       "    .dataframe thead th {\n",
       "        text-align: right;\n",
       "    }\n",
       "</style>\n",
       "<table border=\"1\" class=\"dataframe\">\n",
       "  <thead>\n",
       "    <tr style=\"text-align: right;\">\n",
       "      <th></th>\n",
       "      <th>Chromosome/scaffold name</th>\n",
       "      <th>Transcription start site (TSS)</th>\n",
       "      <th>Transcript start (bp)</th>\n",
       "      <th>Transcript end (bp)</th>\n",
       "      <th>3' UTR start</th>\n",
       "      <th>3' UTR end</th>\n",
       "      <th>Strand</th>\n",
       "      <th>Gene name</th>\n",
       "      <th>Transcript stable ID</th>\n",
       "    </tr>\n",
       "  </thead>\n",
       "  <tbody>\n",
       "    <tr>\n",
       "      <th>258258</th>\n",
       "      <td>chr1</td>\n",
       "      <td>139379</td>\n",
       "      <td>134901</td>\n",
       "      <td>139379</td>\n",
       "      <td>137621</td>\n",
       "      <td>138529</td>\n",
       "      <td>-</td>\n",
       "      <td>AL627309.1</td>\n",
       "      <td>ENST00000423372</td>\n",
       "    </tr>\n",
       "    <tr>\n",
       "      <th>258259</th>\n",
       "      <td>chr1</td>\n",
       "      <td>139379</td>\n",
       "      <td>134901</td>\n",
       "      <td>139379</td>\n",
       "      <td>134901</td>\n",
       "      <td>135802</td>\n",
       "      <td>-</td>\n",
       "      <td>AL627309.1</td>\n",
       "      <td>ENST00000423372</td>\n",
       "    </tr>\n",
       "    <tr>\n",
       "      <th>258505</th>\n",
       "      <td>chr1</td>\n",
       "      <td>367640</td>\n",
       "      <td>367640</td>\n",
       "      <td>368634</td>\n",
       "      <td>368598</td>\n",
       "      <td>368634</td>\n",
       "      <td>+</td>\n",
       "      <td>OR4F29</td>\n",
       "      <td>ENST00000426406</td>\n",
       "    </tr>\n",
       "    <tr>\n",
       "      <th>258915</th>\n",
       "      <td>chr1</td>\n",
       "      <td>622053</td>\n",
       "      <td>621059</td>\n",
       "      <td>622053</td>\n",
       "      <td>621059</td>\n",
       "      <td>621095</td>\n",
       "      <td>-</td>\n",
       "      <td>OR4F16</td>\n",
       "      <td>ENST00000332831</td>\n",
       "    </tr>\n",
       "    <tr>\n",
       "      <th>260370</th>\n",
       "      <td>chr1</td>\n",
       "      <td>861118</td>\n",
       "      <td>861118</td>\n",
       "      <td>879955</td>\n",
       "      <td>879534</td>\n",
       "      <td>879955</td>\n",
       "      <td>+</td>\n",
       "      <td>SAMD11</td>\n",
       "      <td>ENST00000342066</td>\n",
       "    </tr>\n",
       "  </tbody>\n",
       "</table>\n",
       "</div>"
      ],
      "text/plain": [
       "       Chromosome/scaffold name  Transcription start site (TSS)  \\\n",
       "258258                     chr1                          139379   \n",
       "258259                     chr1                          139379   \n",
       "258505                     chr1                          367640   \n",
       "258915                     chr1                          622053   \n",
       "260370                     chr1                          861118   \n",
       "\n",
       "        Transcript start (bp)  Transcript end (bp)  3' UTR start  3' UTR end  \\\n",
       "258258                 134901               139379        137621      138529   \n",
       "258259                 134901               139379        134901      135802   \n",
       "258505                 367640               368634        368598      368634   \n",
       "258915                 621059               622053        621059      621095   \n",
       "260370                 861118               879955        879534      879955   \n",
       "\n",
       "       Strand   Gene name Transcript stable ID  \n",
       "258258      -  AL627309.1      ENST00000423372  \n",
       "258259      -  AL627309.1      ENST00000423372  \n",
       "258505      +      OR4F29      ENST00000426406  \n",
       "258915      -      OR4F16      ENST00000332831  \n",
       "260370      +      SAMD11      ENST00000342066  "
      ]
     },
     "execution_count": 58,
     "metadata": {},
     "output_type": "execute_result"
    }
   ],
   "source": [
    "df.head()"
   ]
  },
  {
   "cell_type": "code",
   "execution_count": 84,
   "metadata": {},
   "outputs": [
    {
     "data": {
      "image/png": "[encoded data removed]",
      "text/plain": [
       "<Figure size 640x480 with 1 Axes>"
      ]
     },
     "metadata": {},
     "output_type": "display_data"
    }
   ],
   "source": [
    "length = (df['3\\' UTR end'] - df['3\\' UTR start']).to_numpy()\n",
    "_ = plt.hist(np.log(length[length > 0]))\n",
    "_ = plt.xlabel(\"log scale\")"
   ]
  },
  {
   "cell_type": "code",
   "execution_count": 87,
   "metadata": {},
   "outputs": [],
   "source": [
    "# start_offset = 2000\n",
    "# end_offset = 1000\n",
    "# df_annotations = df.copy()\n",
    "# df_annotations['start'] = df_annotations['3\\' UTR start']\n",
    "# df_annotations['end'] = df_annotations['3\\' UTR start']\n",
    "# df_annotations.loc[df_annotations[df_annotations['Strand'] == '+'].index, 'start'] = df_annotations['3\\' UTR start'][df_annotations['Strand'] == '+'] - start_offset\n",
    "# df_annotations.loc[df_annotations[df_annotations['Strand'] == '+'].index, 'end'] = df_annotations['3\\' UTR start'][df_annotations['Strand'] == '+'] + end_offset\n",
    "# df_annotations.loc[df_annotations[df_annotations['Strand'] == '-'].index, 'start'] = df_annotations['3\\' UTR end'][df_annotations['Strand'] == '-'] - end_offset\n",
    "# df_annotations.loc[df_annotations[df_annotations['Strand'] == '-'].index, 'end'] = df_annotations['3\\' UTR end'][df_annotations['Strand'] == '-'] + start_offset\n",
    "\n",
    "# cols = ['Chromosome/scaffold name', 'start', 'end', 'Transcript stable ID', 'Gene name', 'Transcript start (bp)', 'Transcript end (bp)', 'Strand']\n",
    "# df_annotations[cols].to_csv(data_path + 'refGene.3utr_start.bed', sep='\\t', index=False, header=False)"
   ]
  },
  {
   "cell_type": "code",
   "execution_count": 88,
   "metadata": {},
   "outputs": [],
   "source": [
    "# start_offset = 2000\n",
    "# end_offset = 1000\n",
    "# df_annotations = df.copy()\n",
    "# df_annotations['start'] = df_annotations['3\\' UTR end']\n",
    "# df_annotations['end'] = df_annotations['3\\' UTR end']\n",
    "# df_annotations.loc[df_annotations[df_annotations['Strand'] == '+'].index, 'start'] = df_annotations['3\\' UTR end'][df_annotations['Strand'] == '+'] - start_offset\n",
    "# df_annotations.loc[df_annotations[df_annotations['Strand'] == '+'].index, 'end'] = df_annotations['3\\' UTR end'][df_annotations['Strand'] == '+'] + end_offset\n",
    "# df_annotations.loc[df_annotations[df_annotations['Strand'] == '-'].index, 'start'] = df_annotations['3\\' UTR start'][df_annotations['Strand'] == '-'] - end_offset\n",
    "# df_annotations.loc[df_annotations[df_annotations['Strand'] == '-'].index, 'end'] = df_annotations['3\\' UTR start'][df_annotations['Strand'] == '-'] + start_offset\n",
    "\n",
    "# cols = ['Chromosome/scaffold name', 'start', 'end', 'Transcript stable ID', 'Gene name', 'Transcript start (bp)', 'Transcript end (bp)', 'Strand']\n",
    "# df_annotations[cols].to_csv(data_path + 'refGene.3utr_end.bed', sep='\\t', index=False, header=False)"
   ]
  },
  {
   "cell_type": "code",
   "execution_count": 89,
   "metadata": {},
   "outputs": [
    {
     "name": "stdout",
     "output_type": "stream",
     "text": [
      "no of introns : 132215\n"
     ]
    }
   ],
   "source": [
    "outfile = data_path + 'refGene.3utr_start.bed'\n",
    "print('no of introns :', nome.get_num_reads(outfile))"
   ]
  },
  {
   "cell_type": "code",
   "execution_count": 90,
   "metadata": {},
   "outputs": [
    {
     "name": "stdout",
     "output_type": "stream",
     "text": [
      "no of introns : 132215\n"
     ]
    }
   ],
   "source": [
    "outfile = data_path + 'refGene.3utr_end.bed'\n",
    "print('no of introns :', nome.get_num_reads(outfile))"
   ]
  },
  {
   "cell_type": "code",
   "execution_count": 96,
   "metadata": {},
   "outputs": [],
   "source": [
    "# # sorting bed files introns\n",
    "\n",
    "# infile = data_path + 'refGene.3utr_end.bed'\n",
    "# outfile = data_path + 'refGene.3utr_end.sorted.bed'\n",
    "\n",
    "# nome.sort_bed(infile, outfile)"
   ]
  },
  {
   "cell_type": "markdown",
   "metadata": {},
   "source": [
    "#### GCH filtering and intersection"
   ]
  },
  {
   "cell_type": "code",
   "execution_count": null,
   "metadata": {},
   "outputs": [],
   "source": [
    "# # Filtering GCH file\n",
    "# # Filtering for reads with coverage >= 3\n",
    "\n",
    "# infile = data_path + 'cpg.raw.sort.GCH.bed'\n",
    "# outfile = data_path + 'GCH.filtered.bed'\n",
    "\n",
    "# nome.filter_bed_files(infile, outfile)"
   ]
  },
  {
   "cell_type": "code",
   "execution_count": null,
   "metadata": {},
   "outputs": [],
   "source": [
    "# infile = data_path + 'cpg.raw.sort.GCH.bed'\n",
    "# outfile = data_path + 'GCH.filtered.bed'\n",
    "# ni = nome.get_num_reads(infile)\n",
    "# no = nome.get_num_reads(outfile)\n",
    "# print('no of reads in GCH file :', ni)\n",
    "# print('no of reads in filtered GCH file :', no)\n",
    "# print('percentage of reads remaining {}%'.format(round(no*100/ni, 2)))"
   ]
  },
  {
   "cell_type": "code",
   "execution_count": null,
   "metadata": {},
   "outputs": [],
   "source": [
    "## sorting bed files GCH\n",
    "\n",
    "# infile = data_path + 'GCH.filtered.bed'\n",
    "# outfile = data_path + 'GCH.filtered.sorted.bed'\n",
    "\n",
    "# nome.sort_bed(infile, outfile)"
   ]
  },
  {
   "cell_type": "code",
   "execution_count": 98,
   "metadata": {},
   "outputs": [],
   "source": [
    "# # GCH intersect with introns\n",
    "\n",
    "# introns_sorted = data_path + 'refGene.3utr_end.sorted.bed'\n",
    "# gch_sorted = data_path + 'GCH.filtered.sorted.bed'\n",
    "# outfile = data_path + 'GCH.3utr_end.intersect.bed'\n",
    "\n",
    "# nome.intersect_bed(introns_sorted, gch_sorted, outfile)"
   ]
  },
  {
   "cell_type": "code",
   "execution_count": 130,
   "metadata": {},
   "outputs": [
    {
     "name": "stdout",
     "output_type": "stream",
     "text": [
      "no of reads in introns region : 13599462\n"
     ]
    }
   ],
   "source": [
    "outfile = data_path + 'GCH.3utr_start.intersect.bed'\n",
    "print('no of reads in introns region :', nome.get_num_reads(outfile))"
   ]
  },
  {
   "cell_type": "code",
   "execution_count": 131,
   "metadata": {},
   "outputs": [
    {
     "name": "stdout",
     "output_type": "stream",
     "text": [
      "no of introns : 132215\n"
     ]
    }
   ],
   "source": [
    "outfile = data_path + 'refGene.3utr_start.sorted.bed'\n",
    "print('no of introns :', nome.get_num_reads(outfile))"
   ]
  },
  {
   "cell_type": "code",
   "execution_count": 132,
   "metadata": {},
   "outputs": [],
   "source": [
    "def get_intron_methylation(infile):\n",
    "    inter_dict = dict()\n",
    "    seen_ids = set()\n",
    "\n",
    "    with open(infile) as f:\n",
    "        for line in f:\n",
    "            line_s = line.strip().split('\\t')\n",
    "\n",
    "            chrom = line_s[0]            \n",
    "            intron_start = int(line_s[1])\n",
    "            intron_end = int(line_s[2])\n",
    "            refid = line_s[3]\n",
    "            gene_name = line_s[4]\n",
    "            TSS = int(line_s[5])\n",
    "            TES = int(line_s[6])\n",
    "            strand = line_s[7]\n",
    "            meth_start = int(line_s[9])\n",
    "            meth_end = int(line_s[10])\n",
    "            meth_rate = float(line_s[12])\n",
    "            coverage = int(line_s[13])\n",
    "\n",
    "            dict_id = refid + \"-\" + str(intron_start)\n",
    "            \n",
    "            ## We are checking + and -ve strands based on promoter\n",
    "            if strand == \"+\":\n",
    "                intron_abs_pos = meth_start - intron_start\n",
    "            if strand == \"-\":\n",
    "                intron_abs_pos = intron_end - meth_end\n",
    "        \n",
    "            rel_pos = intron_abs_pos - 2000\n",
    "        \n",
    "            if dict_id not in seen_ids:\n",
    "                seen_ids.add(dict_id)\n",
    "                inter_dict[dict_id] = dict()\n",
    "            \n",
    "            inter_dict[dict_id][meth_start] = dict()\n",
    "            \n",
    "            inter_dict[dict_id][meth_start][\"chrom\"] = chrom\n",
    "            inter_dict[dict_id][meth_start][\"intron_start\"] = intron_start\n",
    "            inter_dict[dict_id][meth_start][\"intron_end\"] = intron_end\n",
    "            inter_dict[dict_id][meth_start][\"gene_name\"] = gene_name\n",
    "            inter_dict[dict_id][meth_start][\"TSS\"] = TSS\n",
    "            inter_dict[dict_id][meth_start][\"TES\"] = TES\n",
    "            inter_dict[dict_id][meth_start][\"strand\"] = strand\n",
    "            \n",
    "            inter_dict[dict_id][meth_start][\"meth_start_genome\"] = meth_start\n",
    "            inter_dict[dict_id][meth_start][\"meth_end_genome\"] = meth_end\n",
    "            inter_dict[dict_id][meth_start][\"meth_pos_intron_abs\"] = intron_abs_pos\n",
    "            inter_dict[dict_id][meth_start][\"meth_pos_intron_rel\"] = rel_pos\n",
    "                        \n",
    "            inter_dict[dict_id][meth_start][\"meth_rate\"] = meth_rate\n",
    "            inter_dict[dict_id][meth_start][\"coverage\"] = coverage\n",
    "\n",
    "    column_names = ['trans_id', 'refid', 'gene_name', 'chrom', 'intron_start', 'intron_end', \n",
    "                    'TSS', 'TES', 'strand', 'meth_start_genome', 'meth_end_genome', 'meth_pos_intron_abs', 'meth_pos_intron_rel', 'meth_rate', 'coverage']\n",
    "\n",
    "    info_dict = dict()\n",
    "    for col in column_names:\n",
    "        info_dict[col] = []\n",
    "\n",
    "    ## Can create a filter for no of GCH or HCG in a promoter\n",
    "    for dict_id in inter_dict.keys():\n",
    "        refid = dict_id.split(\"-\")[0]\n",
    "        for promo_start in inter_dict[dict_id].keys():\n",
    "            info_dict[\"trans_id\"].append(dict_id)\n",
    "            info_dict[\"refid\"].append(refid)\n",
    "            info_dict[\"gene_name\"].append(inter_dict[dict_id][promo_start][\"gene_name\"])\n",
    "            info_dict[\"chrom\"].append(inter_dict[dict_id][promo_start][\"chrom\"])\n",
    "            info_dict[\"intron_start\"].append(inter_dict[dict_id][promo_start][\"intron_start\"])\n",
    "            info_dict[\"intron_end\"].append(inter_dict[dict_id][promo_start][\"intron_end\"])\n",
    "            info_dict[\"TSS\"].append(inter_dict[dict_id][promo_start][\"TSS\"])\n",
    "            info_dict[\"TES\"].append(inter_dict[dict_id][promo_start][\"TES\"])\n",
    "            info_dict[\"strand\"].append(inter_dict[dict_id][promo_start][\"strand\"])\n",
    "            \n",
    "            info_dict[\"meth_start_genome\"].append(inter_dict[dict_id][promo_start][\"meth_start_genome\"])\n",
    "            info_dict[\"meth_end_genome\"].append(inter_dict[dict_id][promo_start][\"meth_end_genome\"])\n",
    "            info_dict[\"meth_pos_intron_abs\"].append(inter_dict[dict_id][promo_start][\"meth_pos_intron_abs\"])\n",
    "            info_dict[\"meth_pos_intron_rel\"].append(inter_dict[dict_id][promo_start][\"meth_pos_intron_rel\"])\n",
    "            \n",
    "            info_dict[\"meth_rate\"].append(inter_dict[dict_id][promo_start][\"meth_rate\"])\n",
    "            info_dict[\"coverage\"].append(inter_dict[dict_id][promo_start][\"coverage\"])\n",
    "\n",
    "    # Built dataframe\n",
    "    df = pd.DataFrame(0, index = np.arange(len(info_dict[\"refid\"])), columns = column_names)\n",
    "    for feat in column_names:\n",
    "        df[feat] = info_dict[feat]  \n",
    "        \n",
    "    df = df.sort_values(by = ['chrom', 'intron_start'], ascending = [True, True])\n",
    "\n",
    "    return df"
   ]
  },
  {
   "cell_type": "code",
   "execution_count": 133,
   "metadata": {},
   "outputs": [],
   "source": [
    "infile = data_path + 'GCH.3utr_start.intersect.bed'\n",
    "df = get_intron_methylation(infile)"
   ]
  },
  {
   "cell_type": "code",
   "execution_count": 134,
   "metadata": {},
   "outputs": [
    {
     "data": {
      "text/html": [
       "<div>\n",
       "<style scoped>\n",
       "    .dataframe tbody tr th:only-of-type {\n",
       "        vertical-align: middle;\n",
       "    }\n",
       "\n",
       "    .dataframe tbody tr th {\n",
       "        vertical-align: top;\n",
       "    }\n",
       "\n",
       "    .dataframe thead th {\n",
       "        text-align: right;\n",
       "    }\n",
       "</style>\n",
       "<table border=\"1\" class=\"dataframe\">\n",
       "  <thead>\n",
       "    <tr style=\"text-align: right;\">\n",
       "      <th></th>\n",
       "      <th>trans_id</th>\n",
       "      <th>refid</th>\n",
       "      <th>gene_name</th>\n",
       "      <th>chrom</th>\n",
       "      <th>intron_start</th>\n",
       "      <th>intron_end</th>\n",
       "      <th>TSS</th>\n",
       "      <th>TES</th>\n",
       "      <th>strand</th>\n",
       "      <th>meth_start_genome</th>\n",
       "      <th>meth_end_genome</th>\n",
       "      <th>meth_pos_intron_abs</th>\n",
       "      <th>meth_pos_intron_rel</th>\n",
       "      <th>meth_rate</th>\n",
       "      <th>coverage</th>\n",
       "    </tr>\n",
       "  </thead>\n",
       "  <tbody>\n",
       "    <tr>\n",
       "      <th>0</th>\n",
       "      <td>ENST00000423372-137529</td>\n",
       "      <td>ENST00000423372</td>\n",
       "      <td>AL627309.1</td>\n",
       "      <td>chr1</td>\n",
       "      <td>137529</td>\n",
       "      <td>140529</td>\n",
       "      <td>134901</td>\n",
       "      <td>139379</td>\n",
       "      <td>-</td>\n",
       "      <td>138408</td>\n",
       "      <td>138409</td>\n",
       "      <td>2120</td>\n",
       "      <td>120</td>\n",
       "      <td>66.67</td>\n",
       "      <td>3</td>\n",
       "    </tr>\n",
       "    <tr>\n",
       "      <th>1</th>\n",
       "      <td>ENST00000423372-137529</td>\n",
       "      <td>ENST00000423372</td>\n",
       "      <td>AL627309.1</td>\n",
       "      <td>chr1</td>\n",
       "      <td>137529</td>\n",
       "      <td>140529</td>\n",
       "      <td>134901</td>\n",
       "      <td>139379</td>\n",
       "      <td>-</td>\n",
       "      <td>138414</td>\n",
       "      <td>138415</td>\n",
       "      <td>2114</td>\n",
       "      <td>114</td>\n",
       "      <td>66.67</td>\n",
       "      <td>3</td>\n",
       "    </tr>\n",
       "    <tr>\n",
       "      <th>2</th>\n",
       "      <td>ENST00000423372-137529</td>\n",
       "      <td>ENST00000423372</td>\n",
       "      <td>AL627309.1</td>\n",
       "      <td>chr1</td>\n",
       "      <td>137529</td>\n",
       "      <td>140529</td>\n",
       "      <td>134901</td>\n",
       "      <td>139379</td>\n",
       "      <td>-</td>\n",
       "      <td>138521</td>\n",
       "      <td>138522</td>\n",
       "      <td>2007</td>\n",
       "      <td>7</td>\n",
       "      <td>25.00</td>\n",
       "      <td>4</td>\n",
       "    </tr>\n",
       "    <tr>\n",
       "      <th>3</th>\n",
       "      <td>ENST00000423372-137529</td>\n",
       "      <td>ENST00000423372</td>\n",
       "      <td>AL627309.1</td>\n",
       "      <td>chr1</td>\n",
       "      <td>137529</td>\n",
       "      <td>140529</td>\n",
       "      <td>134901</td>\n",
       "      <td>139379</td>\n",
       "      <td>-</td>\n",
       "      <td>138541</td>\n",
       "      <td>138542</td>\n",
       "      <td>1987</td>\n",
       "      <td>-13</td>\n",
       "      <td>0.00</td>\n",
       "      <td>4</td>\n",
       "    </tr>\n",
       "    <tr>\n",
       "      <th>4</th>\n",
       "      <td>ENST00000423372-137529</td>\n",
       "      <td>ENST00000423372</td>\n",
       "      <td>AL627309.1</td>\n",
       "      <td>chr1</td>\n",
       "      <td>137529</td>\n",
       "      <td>140529</td>\n",
       "      <td>134901</td>\n",
       "      <td>139379</td>\n",
       "      <td>-</td>\n",
       "      <td>138551</td>\n",
       "      <td>138552</td>\n",
       "      <td>1977</td>\n",
       "      <td>-23</td>\n",
       "      <td>0.00</td>\n",
       "      <td>4</td>\n",
       "    </tr>\n",
       "  </tbody>\n",
       "</table>\n",
       "</div>"
      ],
      "text/plain": [
       "                 trans_id            refid   gene_name chrom  intron_start  \\\n",
       "0  ENST00000423372-137529  ENST00000423372  AL627309.1  chr1        137529   \n",
       "1  ENST00000423372-137529  ENST00000423372  AL627309.1  chr1        137529   \n",
       "2  ENST00000423372-137529  ENST00000423372  AL627309.1  chr1        137529   \n",
       "3  ENST00000423372-137529  ENST00000423372  AL627309.1  chr1        137529   \n",
       "4  ENST00000423372-137529  ENST00000423372  AL627309.1  chr1        137529   \n",
       "\n",
       "   intron_end     TSS     TES strand  meth_start_genome  meth_end_genome  \\\n",
       "0      140529  134901  139379      -             138408           138409   \n",
       "1      140529  134901  139379      -             138414           138415   \n",
       "2      140529  134901  139379      -             138521           138522   \n",
       "3      140529  134901  139379      -             138541           138542   \n",
       "4      140529  134901  139379      -             138551           138552   \n",
       "\n",
       "   meth_pos_intron_abs  meth_pos_intron_rel  meth_rate  coverage  \n",
       "0                 2120                  120      66.67         3  \n",
       "1                 2114                  114      66.67         3  \n",
       "2                 2007                    7      25.00         4  \n",
       "3                 1987                  -13       0.00         4  \n",
       "4                 1977                  -23       0.00         4  "
      ]
     },
     "execution_count": 134,
     "metadata": {},
     "output_type": "execute_result"
    }
   ],
   "source": [
    "df.head()"
   ]
  },
  {
   "cell_type": "code",
   "execution_count": 135,
   "metadata": {},
   "outputs": [
    {
     "data": {
      "image/png": "[encoded data removed]",
      "text/plain": [
       "<Figure size 1500x500 with 2 Axes>"
      ]
     },
     "metadata": {},
     "output_type": "display_data"
    }
   ],
   "source": [
    "plt.figure(figsize=(15,5))\n",
    "plt.subplot(1,2,1)\n",
    "plt.hist(df['meth_pos_intron_rel'], bins=3000)\n",
    "plt.subplot(1,2,2)\n",
    "plt.hist(df['meth_pos_intron_rel'][np.all(pd.concat((df['meth_pos_intron_rel'] > -50, df['meth_pos_intron_rel'] < 50), axis=1), axis=1)], bins=100)\n",
    "plt.show()"
   ]
  },
  {
   "cell_type": "code",
   "execution_count": 136,
   "metadata": {},
   "outputs": [
    {
     "data": {
      "text/plain": [
       "(13555430, 15)"
      ]
     },
     "execution_count": 136,
     "metadata": {},
     "output_type": "execute_result"
    }
   ],
   "source": [
    "df.shape"
   ]
  },
  {
   "cell_type": "code",
   "execution_count": 137,
   "metadata": {},
   "outputs": [
    {
     "name": "stdout",
     "output_type": "stream",
     "text": [
      "no of introns :  (130736,)\n"
     ]
    }
   ],
   "source": [
    "print('no of introns : ', df['trans_id'].unique().shape)"
   ]
  },
  {
   "cell_type": "code",
   "execution_count": 138,
   "metadata": {},
   "outputs": [
    {
     "name": "stdout",
     "output_type": "stream",
     "text": [
      "no of introns :  (19315,)\n"
     ]
    }
   ],
   "source": [
    "print('no of introns : ', df['gene_name'].unique().shape)"
   ]
  },
  {
   "cell_type": "code",
   "execution_count": 139,
   "metadata": {},
   "outputs": [
    {
     "name": "stdout",
     "output_type": "stream",
     "text": [
      "no of introns :  (19315,)\n"
     ]
    }
   ],
   "source": [
    "temp = pd.read_csv(data_path + 'refGene.3utr_start.bed', sep='\\t', header=None, names=['chr',\t'intron_start',\t'intron_end', 'trans_id',\n",
    "                                                                                     'gene_name', 'TSS', 'TES', 'strand'])\n",
    "print('no of introns : ', df['gene_name'].unique().shape)"
   ]
  },
  {
   "cell_type": "code",
   "execution_count": 140,
   "metadata": {},
   "outputs": [],
   "source": [
    "def plot_avg_methylation_levels(df, context, select_genes=[], fig = True, c = 'grey', label = None, rel=False, inter_start=None, inter_end=None):\n",
    "    \n",
    "    if len(select_genes) == 0: \n",
    "        all_meth_pos_promo_rel = list(df['meth_pos_intron_rel'])\n",
    "        all_meth_rate = list(df['meth_rate'])\n",
    "        all_coverage = list(df['coverage'])\n",
    "\n",
    "        assert len(all_meth_pos_promo_rel) == len(all_meth_rate) == len(all_coverage)\n",
    "\n",
    "        av_dict = dict()\n",
    "        seen_pos = set()\n",
    "        for p in range(len(all_meth_pos_promo_rel)):\n",
    "            rel_pos_x = all_meth_pos_promo_rel[p]\n",
    "            meth_rate = all_meth_rate[p]\n",
    "            coverage = all_coverage[p]\n",
    "            \n",
    "            #AVERAGE\n",
    "            if rel_pos_x not in seen_pos:\n",
    "                seen_pos.add(rel_pos_x)\n",
    "                av_dict[rel_pos_x] = {}\n",
    "                av_dict[rel_pos_x]['meth'] = []\n",
    "                av_dict[rel_pos_x]['total'] = []\n",
    "            \n",
    "            if context == 'GCH':\n",
    "                av_dict[rel_pos_x]['meth'].append(coverage*(100-meth_rate)/100)\n",
    "                av_dict[rel_pos_x]['total'].append(coverage)\n",
    "            elif context == 'HCG':\n",
    "                av_dict[rel_pos_x]['meth'].append(meth_rate*coverage/100)\n",
    "                av_dict[rel_pos_x]['total'].append(coverage)\n",
    "            else:\n",
    "                print('Check context')\n",
    "                return\n",
    "    else:\n",
    "        av_dict = {}\n",
    "        seen_pos = set()\n",
    "        # group = df[df['refid'].isin(select_genes)]\n",
    "        group = df[df['gene_name'].isin(select_genes)]\n",
    "        for rel_pos_x, meth_rate, coverage in zip(group['meth_pos_intron_rel'], group['meth_rate'], group['coverage']):\n",
    "            if rel_pos_x not in seen_pos:\n",
    "                seen_pos.add(rel_pos_x)\n",
    "                av_dict[rel_pos_x] = {}\n",
    "                av_dict[rel_pos_x]['meth'] = []\n",
    "                av_dict[rel_pos_x]['total'] = []\n",
    "\n",
    "            if context == 'GCH':\n",
    "                av_dict[rel_pos_x]['meth'].append(coverage*(100-meth_rate)/100)\n",
    "                av_dict[rel_pos_x]['total'].append(coverage)\n",
    "            elif context == 'HCG':\n",
    "                av_dict[rel_pos_x]['meth'].append(meth_rate*coverage/100)\n",
    "                av_dict[rel_pos_x]['total'].append(coverage)\n",
    "            else:\n",
    "                print('Check context')\n",
    "                return\n",
    "            \n",
    "\n",
    "    if fig:\n",
    "        plt.figure(figsize=(15, 7), facecolor='w', edgecolor='k')\n",
    "\n",
    "    x = []\n",
    "    y = []\n",
    "\n",
    "    for rel_pos_x in sorted(av_dict.keys()):\n",
    "        if rel:\n",
    "            if rel_pos_x >= inter_start and rel_pos_x <= inter_end:\n",
    "                if len(av_dict[rel_pos_x]['meth']) >= 3:\n",
    "                    x.append(rel_pos_x)\n",
    "                    y.append(np.sum(av_dict[rel_pos_x]['meth'])*100/np.sum(av_dict[rel_pos_x]['total']))\n",
    "        else:\n",
    "            if len(av_dict[rel_pos_x]['meth']) >= 3:\n",
    "                x.append(rel_pos_x)\n",
    "                y.append(np.sum(av_dict[rel_pos_x]['meth'])*100/np.sum(av_dict[rel_pos_x]['total']))\n",
    "\n",
    "    if label is None:\n",
    "        plt.plot(x, y, \"-\", color=c, alpha=1.0)\n",
    "    else:\n",
    "        plt.plot(x, y, \"-\", color=c, label=label, alpha=0.7)\n",
    "        plt.legend()\n",
    "        \n",
    "    plt.xlabel(\"DNA position [bp]\")\n",
    "\n",
    "    if context == 'GCH':\n",
    "        ylab = \"100-GpC methylation level\"\n",
    "    if context == 'HCG':\n",
    "        ylab = \"CpG methylation level\"\n",
    "    plt.ylabel(ylab)"
   ]
  },
  {
   "cell_type": "code",
   "execution_count": 141,
   "metadata": {},
   "outputs": [
    {
     "data": {
      "image/png": "[encoded data removed]",
      "text/plain": [
       "<Figure size 1500x700 with 1 Axes>"
      ]
     },
     "metadata": {},
     "output_type": "display_data"
    }
   ],
   "source": [
    "plot_avg_methylation_levels(df, 'GCH')"
   ]
  },
  {
   "cell_type": "code",
   "execution_count": null,
   "metadata": {},
   "outputs": [],
   "source": [
    "# plot_avg_methylation_levels(df, 'GCH', rel=True, inter_start=0, inter_end=1000)"
   ]
  },
  {
   "cell_type": "code",
   "execution_count": null,
   "metadata": {},
   "outputs": [],
   "source": [
    "df.head()"
   ]
  },
  {
   "cell_type": "code",
   "execution_count": null,
   "metadata": {},
   "outputs": [],
   "source": [
    "print('no of introns : ', df['gene_name'].unique().shape)"
   ]
  },
  {
   "cell_type": "code",
   "execution_count": null,
   "metadata": {},
   "outputs": [],
   "source": [
    "gene_groups = df.groupby('gene_name')\n",
    "\n",
    "\n",
    "for i, (name, group) in enumerate(gene_groups):\n",
    "    plt.figure()\n",
    "    plt.plot(group['meth_pos_intron_rel'], 100-group['meth_rate'], 'o')\n",
    "\n",
    "    pdata = {}\n",
    "    for rel, rate, cov in zip(group['meth_pos_intron_rel'], group['meth_rate'], group['coverage']):\n",
    "        if rel not in pdata:\n",
    "            pdata[rel] = []\n",
    "            pdata[rel].append(100-rate)\n",
    "        else:\n",
    "            pdata[rel].append(100-rate)\n",
    "\n",
    "    x = []\n",
    "    y = []\n",
    "    for rel_pos_x in sorted(pdata.keys()):\n",
    "        if rel_pos_x >= -2000 and rel_pos_x <= 1000:\n",
    "            x.append(rel_pos_x)\n",
    "            y.append(np.mean(pdata[rel_pos_x]))\n",
    "    \n",
    "    plt.plot(x, y, 'o-')\n",
    "    \n",
    "    if i==5:\n",
    "        break"
   ]
  },
  {
   "cell_type": "code",
   "execution_count": null,
   "metadata": {},
   "outputs": [],
   "source": [
    "context = 'GCH'\n",
    "av_dict = dict()\n",
    "seen_pos = set()\n",
    "for i, (rel_pos_x, meth_rate, coverage) in enumerate(zip(df['meth_pos_intron_rel'], df['meth_rate'], df['coverage'])):\n",
    "    if rel_pos_x not in seen_pos:\n",
    "        seen_pos.add(rel_pos_x)\n",
    "        av_dict[rel_pos_x] = {}\n",
    "        av_dict[rel_pos_x]['meth'] = []\n",
    "        av_dict[rel_pos_x]['total'] = []\n",
    "    \n",
    "    if context == 'GCH':\n",
    "        av_dict[rel_pos_x]['meth'].append(int(coverage*(100-meth_rate)/100))\n",
    "        av_dict[rel_pos_x]['total'].append(coverage)\n",
    "    elif context == 'HCG':\n",
    "        av_dict[rel_pos_x]['meth'].append(meth_rate*coverage)\n",
    "        av_dict[rel_pos_x]['total'].append(coverage)\n",
    "    else:\n",
    "        print('Check context')\n",
    "    \n",
    "x = []\n",
    "y = []\n",
    "\n",
    "for rel_pos_x in sorted(av_dict.keys()):\n",
    "    if rel_pos_x >= -2000 and rel_pos_x <= 1000:\n",
    "        x.append(rel_pos_x)\n",
    "        y.append(np.sum(av_dict[rel_pos_x]['meth'])*100/np.sum(av_dict[rel_pos_x]['total']))\n",
    "\n",
    "\n",
    "gch_meth = np.ones(3001) * np.inf\n",
    "mask = np.zeros(3001, dtype=bool)\n",
    "mask[np.array(x) + 2000] = True\n",
    "gch_meth[np.array(x) + 2000] = np.array(y)\n",
    "\n",
    "gene_groups = df.groupby('gene_name')\n",
    "counter = 0\n",
    "gene_corr = {}\n",
    "for i, (name, group) in enumerate(gene_groups):\n",
    "    pdata = {}\n",
    "    for rel, rate, cov in zip(group['meth_pos_intron_rel'], group['meth_rate'], group['coverage']):\n",
    "        if rel not in pdata:\n",
    "            pdata[rel] = []\n",
    "            pdata[rel].append(100-rate)\n",
    "        else:\n",
    "            pdata[rel].append(100-rate)\n",
    "\n",
    "    x = []\n",
    "    y = []\n",
    "    for rel_pos_x in sorted(pdata.keys()):\n",
    "        if rel_pos_x >= -2000 and rel_pos_x <= 1000:\n",
    "            x.append(rel_pos_x)\n",
    "            y.append(np.mean(pdata[rel_pos_x]))\n",
    "\n",
    "    if len(x) < 3:\n",
    "        ## min one deg of freedom\n",
    "        continue\n",
    "    \n",
    "    gene_corr[name] = {}\n",
    "\n",
    "    gch_meth_gene = np.ones(3001) * np.inf\n",
    "    mask_gene = np.zeros(3001, dtype=bool)\n",
    "    mask_gene[np.array(x) + 2000] = True\n",
    "    gch_meth_gene[np.array(x) + 2000] = np.array(y)\n",
    "\n",
    "    # corr = np.corrcoef(gch_meth_gene[mask_gene], gch_meth[mask_gene])[0][1]\n",
    "    # weighted_coor = corr*np.sum(mask_gene)/mask_gene.shape[0]\n",
    "\n",
    "    corr, p_value = pearsonr(gch_meth_gene[mask_gene], gch_meth[mask_gene], alternative='greater')\n",
    "    weighted_coor = corr*np.sum(mask_gene)/mask_gene.shape[0]\n",
    "\n",
    "    assert corr - np.corrcoef(gch_meth_gene[mask_gene], gch_meth[mask_gene])[0][1] < 1e-3\n",
    "\n",
    "    gene_corr[name]['corr'] = corr\n",
    "    gene_corr[name]['n'] = np.sum(mask_gene)\n",
    "    gene_corr[name]['weighted_corr'] = weighted_coor\n",
    "\n",
    "    if weighted_coor > 0.01:\n",
    "        counter += 1\n",
    "        print(i, weighted_coor, corr, p_value, np.sum(mask_gene))\n",
    "        plt.figure(figsize=(10,5))\n",
    "        plt.subplot(1,2,1)\n",
    "        plt.plot(x, gch_meth_gene[mask_gene])\n",
    "        plt.plot(x, gch_meth[mask_gene])\n",
    "        plt.subplot(1,2,2)\n",
    "        plt.scatter(gch_meth_gene[mask_gene], gch_meth[mask_gene])\n",
    "        plt.show()\n",
    "\n",
    "        if counter > 5:\n",
    "            break\n",
    "    "
   ]
  },
  {
   "cell_type": "code",
   "execution_count": null,
   "metadata": {},
   "outputs": [],
   "source": [
    "df.head()"
   ]
  },
  {
   "cell_type": "code",
   "execution_count": null,
   "metadata": {},
   "outputs": [],
   "source": [
    "context = 'GCH'\n",
    "av_dict = dict()\n",
    "seen_pos = set()\n",
    "for i, (rel_pos_x, meth_rate, coverage) in enumerate(zip(df['meth_pos_intron_rel'], df['meth_rate'], df['coverage'])):\n",
    "    if rel_pos_x not in seen_pos:\n",
    "        seen_pos.add(rel_pos_x)\n",
    "        av_dict[rel_pos_x] = {}\n",
    "        av_dict[rel_pos_x]['meth'] = []\n",
    "        av_dict[rel_pos_x]['total'] = []\n",
    "    \n",
    "    if context == 'GCH':\n",
    "        av_dict[rel_pos_x]['meth'].append(int(coverage*(100-meth_rate)/100))\n",
    "        av_dict[rel_pos_x]['total'].append(coverage)\n",
    "    elif context == 'HCG':\n",
    "        av_dict[rel_pos_x]['meth'].append(meth_rate*coverage)\n",
    "        av_dict[rel_pos_x]['total'].append(coverage)\n",
    "    else:\n",
    "        print('Check context')\n",
    "    \n",
    "x = []\n",
    "y = []\n",
    "\n",
    "for rel_pos_x in sorted(av_dict.keys()):\n",
    "    if rel_pos_x >= -2000 and rel_pos_x <= 1000:\n",
    "        x.append(rel_pos_x)\n",
    "        y.append(np.sum(av_dict[rel_pos_x]['meth'])*100/np.sum(av_dict[rel_pos_x]['total']))\n",
    "\n",
    "gch_meth = np.ones(3001) * np.inf\n",
    "mask = np.zeros(3001, dtype=bool)\n",
    "mask[np.array(x) + 2000] = True\n",
    "gch_meth[np.array(x) + 2000] = np.array(y)\n",
    "\n",
    "gene_groups = df.groupby('gene_name')\n",
    "counter = 0\n",
    "gene_corr = {}\n",
    "for i, (name, group) in enumerate(gene_groups):\n",
    "    \n",
    "    # if len(group['TSS'].unique()) > 4:\n",
    "    #     print(group)\n",
    "    #     print('gene name = ', name)\n",
    "    #     print(group['refid'].unique())\n",
    "    #     print(group[['refid', 'intron_start', 'intron_end']].drop_duplicates())\n",
    "    #     break\n",
    "\n",
    "    pdata = {}\n",
    "    for rel, rate, cov in zip(group['meth_pos_intron_rel'], group['meth_rate'], group['coverage']):\n",
    "        if rel not in pdata:\n",
    "            pdata[rel] = []\n",
    "            pdata[rel].append(100-rate)\n",
    "        else:\n",
    "            pdata[rel].append(100-rate)\n",
    "\n",
    "    x = []\n",
    "    y = []\n",
    "    for rel_pos_x in sorted(pdata.keys()):\n",
    "        if rel_pos_x >= -2000 and rel_pos_x <= 1000:\n",
    "            x.append(rel_pos_x)\n",
    "            y.append(np.mean(pdata[rel_pos_x]))\n",
    "\n",
    "    if len(x) < 3:\n",
    "        ## min one deg of freedom\n",
    "        continue\n",
    "    \n",
    "    gene_corr[name] = {}\n",
    "\n",
    "    gch_meth_gene = np.ones(3001) * np.inf\n",
    "    mask_gene = np.zeros(3001, dtype=bool)\n",
    "    mask_gene[np.array(x) + 2000] = True\n",
    "    gch_meth_gene[np.array(x) + 2000] = np.array(y)\n",
    "\n",
    "    corr, p_value = pearsonr(gch_meth_gene[mask_gene], gch_meth[mask_gene], alternative='greater')\n",
    "    weighted_coor = corr*np.sum(mask_gene)/mask_gene.shape[0]\n",
    "\n",
    "    gene_corr[name]['corr'] = corr\n",
    "    gene_corr[name]['n'] = np.sum(mask_gene)\n",
    "    gene_corr[name]['weighted_corr'] = weighted_coor    \n",
    "    gene_corr[name]['p_value'] = p_value"
   ]
  },
  {
   "cell_type": "code",
   "execution_count": null,
   "metadata": {},
   "outputs": [],
   "source": [
    "n_tests = len(gene_corr)\n",
    "for gene in gene_corr:\n",
    "    gene_corr[gene]['corrected_p_value'] = n_tests*gene_corr[gene]['p_value']"
   ]
  },
  {
   "cell_type": "markdown",
   "metadata": {},
   "source": [
    "Distribution of correlation and p values"
   ]
  },
  {
   "cell_type": "code",
   "execution_count": null,
   "metadata": {},
   "outputs": [],
   "source": [
    "x = []\n",
    "for key in gene_corr:\n",
    "    x.append(gene_corr[key]['corr'])\n",
    "\n",
    "plt.title('correlation')\n",
    "plt.hist(x, bins=50)\n",
    "plt.show()\n",
    "\n",
    "x = []\n",
    "for key in gene_corr:\n",
    "    x.append(gene_corr[key]['weighted_corr'])\n",
    "\n",
    "plt.title('weighted correlation')\n",
    "plt.hist(x, bins=50)\n",
    "plt.show()\n",
    "\n",
    "x = []\n",
    "for key in gene_corr:\n",
    "    x.append(gene_corr[key]['p_value'])\n",
    "\n",
    "plt.title('p value')\n",
    "plt.hist(x, bins=50)\n",
    "plt.show()"
   ]
  },
  {
   "cell_type": "code",
   "execution_count": null,
   "metadata": {},
   "outputs": [],
   "source": [
    "selected_genes = []\n",
    "not_selected_genes = []\n",
    "x = {}\n",
    "for gene in gene_corr:\n",
    "    for key in gene_corr[gene]:\n",
    "        x[key] = []\n",
    "\n",
    "    break\n",
    "\n",
    "for gene in gene_corr:\n",
    "    if gene_corr[gene]['weighted_corr'] > 0.01:\n",
    "        selected_genes.append(gene)\n",
    "        for key in x:\n",
    "            x[key].append(gene_corr[gene][key])\n",
    "    else:\n",
    "        not_selected_genes.append(gene)\n",
    "\n",
    "print(f'# selected genes = {len(selected_genes)}')\n",
    "\n",
    "for key in x:\n",
    "    plt.figure()\n",
    "    plt.title(key)\n",
    "    plt.hist(x[key], bins=50)\n",
    "\n",
    "plt.show()"
   ]
  },
  {
   "cell_type": "code",
   "execution_count": null,
   "metadata": {},
   "outputs": [],
   "source": [
    "# selected_genes = []\n",
    "# not_selected_genes = []\n",
    "# x = {}\n",
    "# for gene in gene_corr:\n",
    "#     for key in gene_corr[gene]:\n",
    "#         x[key] = []\n",
    "\n",
    "#     break\n",
    "\n",
    "# for gene in gene_corr:\n",
    "#     if gene_corr[gene]['corrected_p_value'] < 0.05:\n",
    "#         selected_genes.append(gene)\n",
    "#         for key in x:\n",
    "#             x[key].append(gene_corr[gene][key])\n",
    "#     else:\n",
    "#         not_selected_genes.append(gene)\n",
    "\n",
    "# print(f'# selected genes = {len(selected_genes)}')\n",
    "\n",
    "# for key in x:\n",
    "#     plt.figure()\n",
    "#     plt.title(key)\n",
    "#     plt.hist(x[key], bins=50)\n",
    "\n",
    "# plt.show()"
   ]
  },
  {
   "cell_type": "code",
   "execution_count": null,
   "metadata": {},
   "outputs": [],
   "source": [
    "plot_avg_methylation_levels(df, 'GCH', select_genes=selected_genes)"
   ]
  },
  {
   "cell_type": "code",
   "execution_count": null,
   "metadata": {},
   "outputs": [],
   "source": [
    "plot_avg_methylation_levels(df, 'GCH', select_genes=selected_genes, fig = True, c = 'grey', label = 'selected genes')\n",
    "plot_avg_methylation_levels(df, 'GCH', select_genes=not_selected_genes, fig = False, c = '#333232', label = 'not selected genes')"
   ]
  },
  {
   "cell_type": "code",
   "execution_count": null,
   "metadata": {},
   "outputs": [],
   "source": [
    "# outfile = data_path + 'selected_genes_introns.txt'\n",
    "# with open(outfile, 'w') as fout:\n",
    "#     for gene in selected_genes:\n",
    "#         fout.write(gene + '\\n')"
   ]
  },
  {
   "cell_type": "markdown",
   "metadata": {},
   "source": [
    "Filter out the pos of introns for the selected genes"
   ]
  },
  {
   "cell_type": "code",
   "execution_count": null,
   "metadata": {},
   "outputs": [],
   "source": [
    "'''\n",
    "    Write out selection annotations into bed file\n",
    "'''\n",
    "# infile = data_path + 'refGene.introns.anchor_start.sorted.bed'\n",
    "# outfile = data_path + 'refGene.introns.anchor_start.sorted.selection.bed'\n",
    "# with open(outfile, 'w') as fout:\n",
    "#     with open(infile, 'r') as fin: \n",
    "#         for line in fin:\n",
    "#             line_s = line.strip().split('\\t')\n",
    "#             gene = line_s[4]\n",
    "\n",
    "#             if gene in selected_genes:\n",
    "#                 fout.write(line)"
   ]
  },
  {
   "cell_type": "markdown",
   "metadata": {},
   "source": [
    "GCH intersection and profile on selection \\\n",
    "Should have the same profile as before - sanity check"
   ]
  },
  {
   "cell_type": "code",
   "execution_count": null,
   "metadata": {},
   "outputs": [],
   "source": [
    "# # GCH intersect with promoter\n",
    "\n",
    "# promoters_sorted = data_path + 'refGene.introns.anchor_start.sorted.selection.bed'\n",
    "# gch_sorted = data_path + 'GCH.filtered.sorted.bed'\n",
    "# outfile = data_path + 'GCH.introns.intersect.selection.bed'\n",
    "\n",
    "# nome.intersect_bed(promoters_sorted, gch_sorted, outfile)"
   ]
  },
  {
   "cell_type": "code",
   "execution_count": null,
   "metadata": {},
   "outputs": [],
   "source": [
    "infile = data_path + 'GCH.introns.intersect.selection.bed'\n",
    "df = get_intron_methylation(infile)"
   ]
  },
  {
   "cell_type": "code",
   "execution_count": null,
   "metadata": {},
   "outputs": [],
   "source": [
    "df.head()"
   ]
  },
  {
   "cell_type": "code",
   "execution_count": null,
   "metadata": {},
   "outputs": [],
   "source": [
    "plot_avg_methylation_levels(df, 'GCH')"
   ]
  },
  {
   "cell_type": "markdown",
   "metadata": {},
   "source": [
    "#### HCG part"
   ]
  },
  {
   "cell_type": "code",
   "execution_count": 112,
   "metadata": {},
   "outputs": [],
   "source": [
    "# # HCG intersect with promoter\n",
    "\n",
    "# introns_sorted = data_path + 'refGene.3utr_end.sorted.bed'\n",
    "# hcg_sorted = data_path + 'HCG.filtered.sorted.bed'\n",
    "# outfile = data_path + 'HCG.3utr_end.intersect.bed'\n",
    "\n",
    "# nome.intersect_bed(introns_sorted, hcg_sorted, outfile)"
   ]
  },
  {
   "cell_type": "code",
   "execution_count": 116,
   "metadata": {},
   "outputs": [],
   "source": [
    "infile = data_path + 'HCG.3utr_end.intersect.bed'\n",
    "df = get_intron_methylation(infile)"
   ]
  },
  {
   "cell_type": "code",
   "execution_count": 117,
   "metadata": {},
   "outputs": [
    {
     "data": {
      "text/html": [
       "<div>\n",
       "<style scoped>\n",
       "    .dataframe tbody tr th:only-of-type {\n",
       "        vertical-align: middle;\n",
       "    }\n",
       "\n",
       "    .dataframe tbody tr th {\n",
       "        vertical-align: top;\n",
       "    }\n",
       "\n",
       "    .dataframe thead th {\n",
       "        text-align: right;\n",
       "    }\n",
       "</style>\n",
       "<table border=\"1\" class=\"dataframe\">\n",
       "  <thead>\n",
       "    <tr style=\"text-align: right;\">\n",
       "      <th></th>\n",
       "      <th>trans_id</th>\n",
       "      <th>refid</th>\n",
       "      <th>gene_name</th>\n",
       "      <th>chrom</th>\n",
       "      <th>intron_start</th>\n",
       "      <th>intron_end</th>\n",
       "      <th>TSS</th>\n",
       "      <th>TES</th>\n",
       "      <th>strand</th>\n",
       "      <th>meth_start_genome</th>\n",
       "      <th>meth_end_genome</th>\n",
       "      <th>meth_pos_intron_abs</th>\n",
       "      <th>meth_pos_intron_rel</th>\n",
       "      <th>meth_rate</th>\n",
       "      <th>coverage</th>\n",
       "    </tr>\n",
       "  </thead>\n",
       "  <tbody>\n",
       "    <tr>\n",
       "      <th>0</th>\n",
       "      <td>ENST00000423372-136621</td>\n",
       "      <td>ENST00000423372</td>\n",
       "      <td>AL627309.1</td>\n",
       "      <td>chr1</td>\n",
       "      <td>136621</td>\n",
       "      <td>139621</td>\n",
       "      <td>134901</td>\n",
       "      <td>139379</td>\n",
       "      <td>-</td>\n",
       "      <td>138429</td>\n",
       "      <td>138430</td>\n",
       "      <td>1191</td>\n",
       "      <td>-809</td>\n",
       "      <td>100.00</td>\n",
       "      <td>3</td>\n",
       "    </tr>\n",
       "    <tr>\n",
       "      <th>1</th>\n",
       "      <td>ENST00000423372-136621</td>\n",
       "      <td>ENST00000423372</td>\n",
       "      <td>AL627309.1</td>\n",
       "      <td>chr1</td>\n",
       "      <td>136621</td>\n",
       "      <td>139621</td>\n",
       "      <td>134901</td>\n",
       "      <td>139379</td>\n",
       "      <td>-</td>\n",
       "      <td>138780</td>\n",
       "      <td>138781</td>\n",
       "      <td>840</td>\n",
       "      <td>-1160</td>\n",
       "      <td>80.00</td>\n",
       "      <td>5</td>\n",
       "    </tr>\n",
       "    <tr>\n",
       "      <th>2</th>\n",
       "      <td>ENST00000423372-136621</td>\n",
       "      <td>ENST00000423372</td>\n",
       "      <td>AL627309.1</td>\n",
       "      <td>chr1</td>\n",
       "      <td>136621</td>\n",
       "      <td>139621</td>\n",
       "      <td>134901</td>\n",
       "      <td>139379</td>\n",
       "      <td>-</td>\n",
       "      <td>139029</td>\n",
       "      <td>139030</td>\n",
       "      <td>591</td>\n",
       "      <td>-1409</td>\n",
       "      <td>33.33</td>\n",
       "      <td>3</td>\n",
       "    </tr>\n",
       "    <tr>\n",
       "      <th>3</th>\n",
       "      <td>ENST00000423372-136621</td>\n",
       "      <td>ENST00000423372</td>\n",
       "      <td>AL627309.1</td>\n",
       "      <td>chr1</td>\n",
       "      <td>136621</td>\n",
       "      <td>139621</td>\n",
       "      <td>134901</td>\n",
       "      <td>139379</td>\n",
       "      <td>-</td>\n",
       "      <td>139058</td>\n",
       "      <td>139059</td>\n",
       "      <td>562</td>\n",
       "      <td>-1438</td>\n",
       "      <td>33.33</td>\n",
       "      <td>3</td>\n",
       "    </tr>\n",
       "    <tr>\n",
       "      <th>4</th>\n",
       "      <td>ENST00000455979-877639</td>\n",
       "      <td>ENST00000455979</td>\n",
       "      <td>SAMD11</td>\n",
       "      <td>chr1</td>\n",
       "      <td>877639</td>\n",
       "      <td>880639</td>\n",
       "      <td>874655</td>\n",
       "      <td>879639</td>\n",
       "      <td>+</td>\n",
       "      <td>878141</td>\n",
       "      <td>878142</td>\n",
       "      <td>502</td>\n",
       "      <td>-1498</td>\n",
       "      <td>33.33</td>\n",
       "      <td>3</td>\n",
       "    </tr>\n",
       "  </tbody>\n",
       "</table>\n",
       "</div>"
      ],
      "text/plain": [
       "                 trans_id            refid   gene_name chrom  intron_start  \\\n",
       "0  ENST00000423372-136621  ENST00000423372  AL627309.1  chr1        136621   \n",
       "1  ENST00000423372-136621  ENST00000423372  AL627309.1  chr1        136621   \n",
       "2  ENST00000423372-136621  ENST00000423372  AL627309.1  chr1        136621   \n",
       "3  ENST00000423372-136621  ENST00000423372  AL627309.1  chr1        136621   \n",
       "4  ENST00000455979-877639  ENST00000455979      SAMD11  chr1        877639   \n",
       "\n",
       "   intron_end     TSS     TES strand  meth_start_genome  meth_end_genome  \\\n",
       "0      139621  134901  139379      -             138429           138430   \n",
       "1      139621  134901  139379      -             138780           138781   \n",
       "2      139621  134901  139379      -             139029           139030   \n",
       "3      139621  134901  139379      -             139058           139059   \n",
       "4      880639  874655  879639      +             878141           878142   \n",
       "\n",
       "   meth_pos_intron_abs  meth_pos_intron_rel  meth_rate  coverage  \n",
       "0                 1191                 -809     100.00         3  \n",
       "1                  840                -1160      80.00         5  \n",
       "2                  591                -1409      33.33         3  \n",
       "3                  562                -1438      33.33         3  \n",
       "4                  502                -1498      33.33         3  "
      ]
     },
     "execution_count": 117,
     "metadata": {},
     "output_type": "execute_result"
    }
   ],
   "source": [
    "df.head()"
   ]
  },
  {
   "cell_type": "code",
   "execution_count": 118,
   "metadata": {},
   "outputs": [
    {
     "data": {
      "image/png": "[encoded data removed]",
      "text/plain": [
       "<Figure size 1500x700 with 1 Axes>"
      ]
     },
     "metadata": {},
     "output_type": "display_data"
    }
   ],
   "source": [
    "plot_avg_methylation_levels(df, 'HCG')"
   ]
  },
  {
   "cell_type": "code",
   "execution_count": null,
   "metadata": {},
   "outputs": [],
   "source": [
    "# plot_avg_methylation_levels(df, 'HCG', select_genes=selected_genes, fig = True, c = 'grey', label = 'selected genes')\n",
    "# plot_avg_methylation_levels(df, 'HCG', select_genes=not_selected_genes, fig = False, c = '#333232', label = 'not selected genes')"
   ]
  },
  {
   "cell_type": "code",
   "execution_count": null,
   "metadata": {},
   "outputs": [],
   "source": [
    "df_random = df.copy()\n",
    "df_random['meth_rate'] = df_random['meth_rate'].sample(frac=1).reset_index(drop=True)"
   ]
  },
  {
   "cell_type": "code",
   "execution_count": null,
   "metadata": {},
   "outputs": [],
   "source": [
    "outfile = data_path + 'HCG.random.introns.intersect.bed'\n",
    "cols = ['chrom', 'intron_start', 'intron_end', 'refid', 'gene_name', 'TSS', 'TES', 'strand', 'chrom', 'meth_start_genome', 'meth_end_genome', 'strand', 'meth_rate', 'coverage']\n",
    "df_random[cols].to_csv(outfile, sep='\\t', header=False, index=False)"
   ]
  },
  {
   "cell_type": "code",
   "execution_count": null,
   "metadata": {},
   "outputs": [],
   "source": [
    "infile = data_path + 'HCG.random.introns.intersect.bed'\n",
    "df_random = get_intron_methylation(infile)"
   ]
  },
  {
   "cell_type": "code",
   "execution_count": null,
   "metadata": {},
   "outputs": [],
   "source": [
    "plot_avg_methylation_levels(df, 'HCG', label='exp')\n",
    "plot_avg_methylation_levels(df_random, 'HCG', fig=False, c='#333232', label='random')"
   ]
  },
  {
   "cell_type": "markdown",
   "metadata": {},
   "source": [
    "We have a good profile in the not selected set - What should we focus on when we do selection"
   ]
  },
  {
   "cell_type": "markdown",
   "metadata": {},
   "source": [
    "HCG intersection and profile on selection"
   ]
  },
  {
   "cell_type": "code",
   "execution_count": null,
   "metadata": {},
   "outputs": [],
   "source": [
    "# # HCG intersect with promoter\n",
    "\n",
    "# introns_sorted = data_path + 'refGene.introns.anchor_start.sorted.selection.bed'\n",
    "# hcg_sorted = data_path + 'HCG.filtered.sorted.bed'\n",
    "# outfile = data_path + 'HCG.introns.intersect.selection.bed'\n",
    "\n",
    "# nome.intersect_bed(introns_sorted, hcg_sorted, outfile)"
   ]
  },
  {
   "cell_type": "code",
   "execution_count": null,
   "metadata": {},
   "outputs": [],
   "source": [
    "infile = data_path + 'HCG.introns.intersect.selection.bed'\n",
    "df = get_intron_methylation(infile)"
   ]
  },
  {
   "cell_type": "code",
   "execution_count": null,
   "metadata": {},
   "outputs": [],
   "source": [
    "df.head()"
   ]
  },
  {
   "cell_type": "code",
   "execution_count": null,
   "metadata": {},
   "outputs": [],
   "source": [
    "plot_avg_methylation_levels(df, 'HCG')"
   ]
  },
  {
   "cell_type": "code",
   "execution_count": null,
   "metadata": {},
   "outputs": [],
   "source": [
    "# df_random = df.copy()\n",
    "# df_random['meth_rate'] = df_random['meth_rate'].sample(frac=1).reset_index(drop=True)"
   ]
  },
  {
   "cell_type": "code",
   "execution_count": null,
   "metadata": {},
   "outputs": [],
   "source": [
    "# outfile = data_path + 'HCG.random.introns.intersect.selection.bed'\n",
    "# cols = ['chrom', 'intron_start', 'intron_end', 'refid', 'gene_name', 'TSS', 'TES', 'strand', 'chrom', 'meth_start_genome', 'meth_end_genome', 'strand', 'meth_rate', 'coverage']\n",
    "# df_random[cols].to_csv(outfile, sep='\\t', header=False, index=False)"
   ]
  },
  {
   "cell_type": "code",
   "execution_count": null,
   "metadata": {},
   "outputs": [],
   "source": [
    "infile = data_path + 'HCG.random.introns.intersect.selection.bed'\n",
    "df_random = get_intron_methylation(infile)"
   ]
  },
  {
   "cell_type": "code",
   "execution_count": null,
   "metadata": {},
   "outputs": [],
   "source": [
    "df_random.head()"
   ]
  },
  {
   "cell_type": "code",
   "execution_count": null,
   "metadata": {},
   "outputs": [],
   "source": [
    "plot_avg_methylation_levels(df, 'HCG', label='exp')\n",
    "plot_avg_methylation_levels(df_random, 'HCG', fig=False, c='#333232', label='random')"
   ]
  },
  {
   "cell_type": "markdown",
   "metadata": {},
   "source": [
    "#### Rest of pipeline for the full genome"
   ]
  },
  {
   "cell_type": "code",
   "execution_count": null,
   "metadata": {},
   "outputs": [],
   "source": [
    "def plot_CpG_CpG_dist(df, max_dist=20, c='grey'):\n",
    "    dist_list = []\n",
    "    chroms = ['chr' + str(i) for i in range(1,23)] + ['chrX', 'chrY']\n",
    "    for chrom in chroms:\n",
    "        #### ALL methylated pos\n",
    "        all_meth_pos = list(df.loc[(df[\"meth_rate\"] != 0) & \n",
    "                                                    (df[\"chrom\"] == chrom)][\"meth_start_genome\"])\n",
    "        all_meth_pos_sorted = sorted(list(set(all_meth_pos))) # since mapped to promoter, CpG can be twice if promoter overlap, make set\n",
    "\n",
    "        for pos in range(len(all_meth_pos_sorted) - 1):\n",
    "            start = all_meth_pos_sorted[pos]\n",
    "            next_start = all_meth_pos_sorted[pos+1]\n",
    "            dist = next_start - start - 1 # is number of bases inbetween\n",
    "            \n",
    "            if dist <= max_dist:\n",
    "                dist_list.append(dist)\n",
    "\n",
    "    y = []\n",
    "    for r in range(max_dist+1):\n",
    "        freq = float(dist_list.count(r))/float(len(dist_list))*100\n",
    "        y.append(freq)\n",
    "\n",
    "\n",
    "    plt.figure(figsize=(10, 8), facecolor='w', edgecolor='k')\n",
    "\n",
    "    x = np.arange(len(y))\n",
    "    plt.bar(x, y, align='center', color=c)\n",
    "\n",
    "    plt.xlabel(\"Distance to next 5meC [bp]\")\n",
    "    plt.ylabel(\"Percentage [%]\")\n",
    "    plt.xlim(1, max_dist+1)\n",
    "    plt.xticks(x, range(max_dist+1))\n",
    "    plt.ylim(0, 10)"
   ]
  },
  {
   "cell_type": "code",
   "execution_count": null,
   "metadata": {},
   "outputs": [],
   "source": [
    "plot_CpG_CpG_dist(df)\n",
    "plot_CpG_CpG_dist(df_random, c='#333232')"
   ]
  },
  {
   "cell_type": "code",
   "execution_count": null,
   "metadata": {},
   "outputs": [],
   "source": [
    "## we can use same NOR and NDR file"
   ]
  },
  {
   "cell_type": "code",
   "execution_count": null,
   "metadata": {},
   "outputs": [],
   "source": [
    "promoters_sorted = data_path + 'refGene.introns_2_start.sorted.bed'\n",
    "ndrfile = data_path + 'NDR.bed'\n",
    "outfile = data_path + 'NDR.introns.intersect.bed'\n",
    "nome.intersect_bed(promoters_sorted, ndrfile, outfile)"
   ]
  },
  {
   "cell_type": "code",
   "execution_count": null,
   "metadata": {},
   "outputs": [],
   "source": [
    "infile = data_path + 'NDR.introns.intersect.bed'\n",
    "df = nome.get_nuc_positions(infile)"
   ]
  },
  {
   "cell_type": "code",
   "execution_count": null,
   "metadata": {},
   "outputs": [],
   "source": [
    "df.head()"
   ]
  },
  {
   "cell_type": "code",
   "execution_count": null,
   "metadata": {},
   "outputs": [],
   "source": [
    "df_filtered = df.copy()"
   ]
  },
  {
   "cell_type": "code",
   "execution_count": null,
   "metadata": {},
   "outputs": [],
   "source": [
    "inter_start = -2000\n",
    "inter_end = 1000\n",
    "step = 200\n",
    "inter = range(inter_start,inter_end+1,step)\n",
    "\n",
    "plt.figure()\n",
    "\n",
    "plt.hist(df_filtered['nuc_end_promo_rel'],  bins = 60, histtype='bar', density=True, label=\"End positions\", alpha = 0.8)  \n",
    "plt.hist(df_filtered['nuc_start_promo_rel'], bins = 60, histtype='bar', density=True, label=\"Start positions\", alpha = 0.5)   \n",
    "\n",
    "plt.xlabel(\"DNA position [bp]\")\n",
    "plt.ylabel(\"Density\")\n",
    "\n",
    "plt.xlim(-2000,1000)\n",
    "plt.axvline(x=0, linestyle='dashed', linewidth=2, color='grey')\n",
    "plt.legend()\n",
    "plt.show()"
   ]
  },
  {
   "cell_type": "code",
   "execution_count": null,
   "metadata": {},
   "outputs": [],
   "source": [
    "plt.figure()\n",
    "\n",
    "plt.hist(df_filtered['region_length'], bins=10, histtype='bar', density=True)  \n",
    "\n",
    "plt.xlabel(\"NDR length [bp]\")\n",
    "plt.ylabel(\"Density\")\n",
    "plt.show()"
   ]
  },
  {
   "cell_type": "code",
   "execution_count": null,
   "metadata": {},
   "outputs": [],
   "source": [
    "promoters_sorted = data_path + 'refGene.introns_2_start.sorted.bed'\n",
    "ndrfile = data_path + 'NOR.bed'\n",
    "outfile = data_path + 'NOR.introns.intersect.bed'\n",
    "nome.intersect_bed(promoters_sorted, ndrfile, outfile)"
   ]
  },
  {
   "cell_type": "code",
   "execution_count": null,
   "metadata": {},
   "outputs": [],
   "source": [
    "infile = data_path + 'NOR.introns.intersect.bed'\n",
    "df = nome.get_nuc_positions(infile)"
   ]
  },
  {
   "cell_type": "code",
   "execution_count": null,
   "metadata": {},
   "outputs": [],
   "source": [
    "df.head()"
   ]
  },
  {
   "cell_type": "code",
   "execution_count": null,
   "metadata": {},
   "outputs": [],
   "source": [
    "df_filtered = df[df['region_length'] > 147].copy()\n",
    "# df_filtered = df.copy()"
   ]
  },
  {
   "cell_type": "code",
   "execution_count": null,
   "metadata": {},
   "outputs": [],
   "source": [
    "inter_start = -2000\n",
    "inter_end = 1000\n",
    "step = 200\n",
    "inter = range(inter_start,inter_end+1,step)\n",
    "\n",
    "plt.figure()\n",
    "\n",
    "plt.hist(df_filtered['nuc_end_promo_rel'],  bins = 60, histtype='bar', density=True, label=\"End positions\", alpha = 0.8)  \n",
    "plt.hist(df_filtered['nuc_start_promo_rel'], bins = 60, histtype='bar', density=True, label=\"Start positions\", alpha = 0.5)   \n",
    "\n",
    "plt.xlabel(\"DNA position [bp]\")\n",
    "plt.ylabel(\"Density\")\n",
    "\n",
    "plt.xlim(-2000,1000)\n",
    "plt.axvline(x=0, linestyle='dashed', linewidth=2, color='grey')\n",
    "plt.legend()\n",
    "plt.show()"
   ]
  },
  {
   "cell_type": "code",
   "execution_count": null,
   "metadata": {},
   "outputs": [],
   "source": [
    "plt.figure()\n",
    "\n",
    "plt.hist(df_filtered['region_length'], bins=10, histtype='bar', density=True)  \n",
    "\n",
    "plt.xlabel(\"NOR length [bp]\")\n",
    "plt.ylabel(\"Density\")\n",
    "plt.show()"
   ]
  },
  {
   "cell_type": "code",
   "execution_count": null,
   "metadata": {},
   "outputs": [],
   "source": [
    "# promo_NDR_file = data_path + 'NDR.introns.intersect.bed'\n",
    "# promo_HCG_file = data_path + 'HCG.introns.intersect.bed'\n",
    "# outfile = data_path + 'introns.NDR.HCG.intersect.bed'\n",
    "# nome.intersect_bed(promo_NDR_file, promo_HCG_file, outfile)"
   ]
  },
  {
   "cell_type": "code",
   "execution_count": null,
   "metadata": {},
   "outputs": [],
   "source": [
    "## inconsistant ordering error\n",
    "## sort random file\n",
    "\n",
    "# # sorting bed files introns\n",
    "\n",
    "infile = data_path + 'HCG.random.introns.intersect.bed'\n",
    "outfile = data_path + 'HCG.random.introns.intersect.sorted.bed'\n",
    "\n",
    "nome.sort_bed(infile, outfile)"
   ]
  },
  {
   "cell_type": "code",
   "execution_count": null,
   "metadata": {},
   "outputs": [],
   "source": [
    "# promo_NDR_file = data_path + 'NDR.introns.intersect.bed'\n",
    "# promo_HCG_file = data_path + 'HCG.random.introns.intersect.sorted.bed'\n",
    "# outfile = data_path + 'introns.NDR.HCG.random.intersect.bed'\n",
    "# nome.intersect_bed(promo_NDR_file, promo_HCG_file, outfile)"
   ]
  },
  {
   "cell_type": "code",
   "execution_count": null,
   "metadata": {},
   "outputs": [],
   "source": [
    "promo_NDR_file = data_path + 'NOR.introns.intersect.bed'\n",
    "promo_HCG_file = data_path + 'HCG.introns.intersect.bed'\n",
    "outfile = data_path + 'introns.NOR.HCG.intersect.bed'\n",
    "nome.intersect_bed(promo_NDR_file, promo_HCG_file, outfile)"
   ]
  },
  {
   "cell_type": "code",
   "execution_count": null,
   "metadata": {},
   "outputs": [],
   "source": [
    "# promo_NDR_file = data_path + 'NOR.introns.intersect.bed'\n",
    "# promo_HCG_file = data_path + 'HCG.random.introns.intersect.sorted.bed'\n",
    "# outfile = data_path + 'introns.NOR.HCG.random.intersect.bed'\n",
    "# nome.intersect_bed(promo_NDR_file, promo_HCG_file, outfile)"
   ]
  },
  {
   "cell_type": "code",
   "execution_count": null,
   "metadata": {},
   "outputs": [],
   "source": [
    "def normalize_clash_dict(x_y_clash_dict):\n",
    "    min_clash = min(x_y_clash_dict.values())\n",
    "    max_clash = max(x_y_clash_dict.values())\n",
    "\n",
    "    x_y_clash_dict_norm = {k: (float(v-min_clash)/float(max_clash-min_clash))*100 for k, v in x_y_clash_dict.items()}\n",
    "    return x_y_clash_dict_norm"
   ]
  },
  {
   "cell_type": "code",
   "execution_count": null,
   "metadata": {},
   "outputs": [],
   "source": [
    "import pickle\n",
    "import scipy\n",
    "from scipy import stats"
   ]
  },
  {
   "cell_type": "code",
   "execution_count": null,
   "metadata": {},
   "outputs": [],
   "source": [
    "infile = steric_path + 'x_y_dict'\n",
    "with open(infile, 'rb') as fin:\n",
    "    x_y_clash_dict = pickle.load(fin)\n",
    "\n",
    "x_y_clash_dict_norm = normalize_clash_dict(x_y_clash_dict)\n",
    "\n",
    "meth_thres_range = [0, 10, 20]\n",
    "clash_thres_range = [5, 10, 20, 50]\n",
    "\n",
    "params = []\n",
    "for clash_thres in clash_thres_range:\n",
    "    for meth_thres in meth_thres_range:\n",
    "        k = \"c\" + str(clash_thres) + \"m\" + str(meth_thres)\n",
    "        params.append(k)"
   ]
  },
  {
   "cell_type": "code",
   "execution_count": null,
   "metadata": {},
   "outputs": [],
   "source": [
    "def make_sliding_windows_file(df_promo_nuc_WGBS, x_y_clash_dict_norm):\n",
    "    column_names = [\"trans_id\", \"refid\", \"NOR_nbr\", \"window_nbr\", \"nbr_meth_CpGs\", \"nuc_region_length\", \"meth_rates_window\"] \n",
    "    info_dict = dict()\n",
    "    for col in column_names:\n",
    "        info_dict[col] = []\n",
    "        \n",
    "    all_nuc_pos = x_y_clash_dict_norm.keys()\n",
    "    nbr_bases_nuc = len(all_nuc_pos)\n",
    "    \n",
    "    all_trans_ids = list(set(list(df_promo_nuc_WGBS[\"trans_id\"])))\n",
    "    \n",
    "    c = 0\n",
    "    for trans_id in all_trans_ids:\n",
    "        refid = trans_id.split(\"-\")[0]\n",
    "        c += 1\n",
    "        \n",
    "        df_WGBS_tmp = df_promo_nuc_WGBS.loc[df_promo_nuc_WGBS[\"trans_id\"] == trans_id]\n",
    "        \n",
    "        NOR_number = 1\n",
    "        nuc_region_starts = list(set(list(df_WGBS_tmp[\"nuc_region_start_genome\"])))\n",
    "        for NOR_start in nuc_region_starts:\n",
    "            df_NOR_tmp = df_WGBS_tmp.loc[df_WGBS_tmp[\"nuc_region_start_genome\"] == NOR_start]\n",
    "            \n",
    "            start = NOR_start\n",
    "            win_nbr = 1\n",
    "                    \n",
    "            list_meth_positions = list(df_NOR_tmp[\"meth_start_genome\"])\n",
    "            list_meth_rates = list(df_NOR_tmp[\"meth_rate\"])\n",
    "            meth_dict_promoter = dict(zip(list_meth_positions, list_meth_rates))\n",
    "    \n",
    "            NOR_end = list(df_NOR_tmp[\"nuc_region_end_genome\"])[0]\n",
    "            \n",
    "            while start + nbr_bases_nuc - 1 <= NOR_end:\n",
    "                #get relative and absolute position+methylation\n",
    "                window_start = start\n",
    "                window_end = window_start+nbr_bases_nuc-1\n",
    "                \n",
    "                meth_in_window_tmp = dict()\n",
    "                for meth_start_genome in meth_dict_promoter.keys():\n",
    "                    if (window_start <= meth_start_genome) & (meth_start_genome <= window_end):\n",
    "                        rel_pos = meth_start_genome-window_start+1\n",
    "                        \n",
    "                        meth_rate = meth_dict_promoter[meth_start_genome]\n",
    "                        meth_in_window_tmp[rel_pos] = meth_rate\n",
    "                \n",
    "                if len(meth_in_window_tmp) != 0:\n",
    "                    #exp\n",
    "                    info_dict[\"trans_id\"].append(trans_id)\n",
    "                    info_dict[\"refid\"].append(refid)\n",
    "                    info_dict[\"NOR_nbr\"].append(NOR_number)\n",
    "                    info_dict[\"window_nbr\"].append(win_nbr)\n",
    "                    info_dict[\"nbr_meth_CpGs\"].append(len(meth_in_window_tmp.keys()))\n",
    "                    info_dict[\"nuc_region_length\"].append(np.abs(NOR_end-NOR_start)+1)\n",
    "                    info_dict[\"meth_rates_window\"].append(meth_in_window_tmp)\n",
    "                \n",
    "                start += 1\n",
    "                win_nbr += 1\n",
    "        \n",
    "            NOR_number += 1\n",
    "                \n",
    "                \n",
    "    #Built dataframe\n",
    "    df = pd.DataFrame(0, index = np.arange(len(info_dict[\"trans_id\"])),columns = column_names)\n",
    "    for feat in column_names:\n",
    "        df[feat] = info_dict[feat]\n",
    "\n",
    "    return df"
   ]
  },
  {
   "cell_type": "code",
   "execution_count": null,
   "metadata": {},
   "outputs": [],
   "source": [
    "def calc_perc_exp_clash_ident(x_y_clash_dict_norm, meth_in_window_tmp, meth_thres, clash_thres):    \n",
    "    count_ident = 0\n",
    "    cpg_positions = meth_in_window_tmp.keys()\n",
    "    for meth_pos in cpg_positions:\n",
    "        meth_rate = meth_in_window_tmp[meth_pos]\n",
    "        clash_perc = x_y_clash_dict[meth_pos] \n",
    "        \n",
    "        if meth_rate > meth_thres:\n",
    "            if clash_perc <= clash_thres:\n",
    "                count_ident += 1\n",
    "        else:\n",
    "            if clash_perc > clash_thres:\n",
    "                count_ident += 1\n",
    "                \n",
    "    nbr_cpgs = len(cpg_positions)\n",
    "    perc_exp_clash_ident = float(count_ident)/float(nbr_cpgs)\n",
    "    \n",
    "    return perc_exp_clash_ident"
   ]
  },
  {
   "cell_type": "code",
   "execution_count": null,
   "metadata": {},
   "outputs": [],
   "source": [
    "import re\n",
    "\n",
    "def calc_score_lists(df_sliding_windows, x_y_clash_dict_norm, params):\n",
    "    column_names = [\"refid_NOR\", \"trans_id\", \"refid\", \"NOR_nbr\", \"window_nbr\", \"nbr_CpGs\", \"nuc_region_length\"] + params\n",
    "    info_dict = dict()\n",
    "    for col in column_names:\n",
    "        info_dict[col] = []\n",
    "        \n",
    "    all_refids = list(df_sliding_windows[\"refid\"])\n",
    "    all_NOR_nbrs = list(df_sliding_windows[\"NOR_nbr\"])\n",
    "    refid_NORs = []\n",
    "    for ref, nor in zip(all_refids, all_NOR_nbrs):\n",
    "        refid_NORs.append(str(ref)+\"-\"+str(nor))\n",
    "    \n",
    "    info_dict[\"refid_NOR\"].extend(refid_NORs)\n",
    "    info_dict[\"trans_id\"].extend(list(df_sliding_windows[\"trans_id\"]))\n",
    "    info_dict[\"refid\"].extend(all_refids)\n",
    "    info_dict[\"NOR_nbr\"].extend(all_NOR_nbrs)\n",
    "    info_dict[\"window_nbr\"].extend( list(df_sliding_windows[\"window_nbr\"]))\n",
    "    info_dict[\"nbr_CpGs\"].extend(list(df_sliding_windows[\"nbr_meth_CpGs\"])  )\n",
    "    info_dict[\"nuc_region_length\"].extend(list(df_sliding_windows[\"nuc_region_length\"]))\n",
    "\n",
    "    all_scores =  list(df_sliding_windows[\"meth_rates_window\"]) #{34: 0.0, 35: 0.0,...}\n",
    "    c = 0\n",
    "    for row_df in range(len(all_scores)):\n",
    "        c += 1\n",
    "        \n",
    "        # meth_rates_window = ast.literal_eval(all_scores[row_df])\n",
    "        meth_rates_window = all_scores[row_df]\n",
    "    \n",
    "        for param_str in params:\n",
    "            clash_thres = float(re.findall(r'\\d+', param_str)[0]) #c5m0\n",
    "            meth_thres = float(re.findall(r'\\d+', param_str)[1])\n",
    "            \n",
    "            perc_clash_ident = calc_perc_exp_clash_ident(x_y_clash_dict_norm, meth_rates_window, meth_thres, clash_thres)\n",
    "            info_dict[param_str].append(perc_clash_ident)\n",
    "            \n",
    "    #Built dataframe \n",
    "    df_scores = pd.DataFrame(0, index = np.arange(len(info_dict[column_names[0]])),columns = column_names)\n",
    "    for feat in column_names:\n",
    "        df_scores[feat] = info_dict[feat]\n",
    "\n",
    "    return df_scores"
   ]
  },
  {
   "cell_type": "code",
   "execution_count": null,
   "metadata": {},
   "outputs": [],
   "source": [
    "def calculate_cohens_d(list_EXP,list_RAND):\n",
    "    mEXP = np.mean(list_EXP)\n",
    "    sdEXP = np.std(list_EXP)\n",
    "    \n",
    "    mRAND = np.mean(list_RAND)\n",
    "    sdRAND = np.std(list_RAND)\n",
    "    \n",
    "    denom = np.sqrt(float(sdEXP**2 + sdRAND**2)/2.0)\n",
    "    cohens_d = float(mEXP-mRAND)/float(denom)\n",
    "    \n",
    "    return cohens_d\n",
    "\n",
    "def make_df_p_vals_cohens_d(df_scores_EXP, df_scores_RAND, params):\n",
    "    column_names = [\"nbr_CpGs\", \"parameter\", \"N_EXP\", \"N_RAND\", \"mean_EXP\", \"median_EXP\", \"std_EXP\", \"mean_RAND\",\n",
    "                    \"median_RAND\", \"std_RAND\", \"cohens_d\", \"is_normal_EXP\", \"is_normal_RAND\", \"pval_ttest\",\n",
    "                    \"t_stat\", \"pval_ranksums\", \"pval_ks_2samp\"]\n",
    "    info_dict = dict()\n",
    "    for col in column_names:\n",
    "        info_dict[col] = []\n",
    "\n",
    "    nbr_CpGs_list = list(set(list(df_scores_EXP[\"nbr_CpGs\"])))\n",
    "\n",
    "    for nbr_CpGs in nbr_CpGs_list:\n",
    "        df_scores_EXP_tmp = df_scores_EXP.loc[df_scores_EXP[\"nbr_CpGs\"] == nbr_CpGs]\n",
    "        df_scores_RAND_tmp = df_scores_RAND.loc[df_scores_RAND[\"nbr_CpGs\"] == nbr_CpGs]\n",
    "                    \n",
    "        for p in range(len(params)):\n",
    "            par_name = params[p]\n",
    "            EXP_scores = list(df_scores_EXP_tmp[par_name])\n",
    "            RAND_scores = list(df_scores_RAND_tmp[par_name])\n",
    "            \n",
    "            info_dict[\"nbr_CpGs\"].append(nbr_CpGs)\n",
    "            info_dict[\"parameter\"].append(par_name)\n",
    "            \n",
    "            info_dict[\"N_EXP\"].append(len(EXP_scores))\n",
    "            info_dict[\"N_RAND\"].append(len(RAND_scores))\n",
    "            \n",
    "            info_dict[\"mean_EXP\"].append(np.mean(EXP_scores))\n",
    "            info_dict[\"median_EXP\"].append(np.median(EXP_scores))\n",
    "            info_dict[\"std_EXP\"].append(np.std(EXP_scores))\n",
    "            \n",
    "            info_dict[\"mean_RAND\"].append(np.mean(RAND_scores))\n",
    "            info_dict[\"median_RAND\"].append(np.median(RAND_scores))\n",
    "            info_dict[\"std_RAND\"].append(np.std(RAND_scores))\n",
    "            \n",
    "            #EFFECT SIZE\n",
    "            cohens_d = calculate_cohens_d(EXP_scores, RAND_scores)\n",
    "            info_dict[\"cohens_d\"].append(cohens_d)\n",
    "            \n",
    "            #STAT TESTS\n",
    "            #is normal distributed? This function tests the null hypothesis that a sample comes from a normal distribution. If small -> ost likely not normal dustributed\n",
    "            pval_normal_EXP = stats.normaltest(EXP_scores)[1] if len(EXP_scores) >= 8 else -1\n",
    "            pval_normal_RAND = stats.normaltest(RAND_scores)[1] if len(EXP_scores) >= 8 else -1\n",
    "            \n",
    "            #students t\n",
    "            ttest_res = stats.ttest_ind(EXP_scores,RAND_scores,equal_var = False)\n",
    "            t_stat = ttest_res[0]\n",
    "            p_val_ttest = float(ttest_res[1])/2.0\n",
    "            \n",
    "            #ranksums, kstest\n",
    "            ranksums = scipy.stats.ranksums(EXP_scores,RAND_scores)[1]\n",
    "            ks_2samp = scipy.stats.ks_2samp(EXP_scores,RAND_scores)[1]\n",
    "    \n",
    "            info_dict[\"is_normal_EXP\"].append(pval_normal_EXP)\n",
    "            info_dict[\"is_normal_RAND\"].append(pval_normal_RAND)\n",
    "            info_dict[\"pval_ttest\"].append(p_val_ttest)\n",
    "            info_dict[\"t_stat\"].append(t_stat)\n",
    "            info_dict[\"pval_ranksums\"].append(ranksums)\n",
    "            info_dict[\"pval_ks_2samp\"].append(ks_2samp)\n",
    "            \n",
    "    #Built dataframe\n",
    "    df = pd.DataFrame(0, index = np.arange(len(info_dict[\"nbr_CpGs\"])),columns = column_names)\n",
    "    for feat in column_names:\n",
    "        df[feat] = info_dict[feat]\n",
    "\n",
    "    return df"
   ]
  },
  {
   "cell_type": "code",
   "execution_count": null,
   "metadata": {},
   "outputs": [],
   "source": [
    "def plot_nbr_CpGs_cohensd(df_values, params):\n",
    "    plt.figure(figsize=(15,7))\n",
    "    ax = plt.subplot(1,1,1)\n",
    "    \n",
    "    nbr_CpGs_list = sorted(list(set(list(df_values[\"nbr_CpGs\"]))))\n",
    "\n",
    "    for par_name in params:\n",
    "        \n",
    "        df_values_tmp = df_values.loc[df_values[\"parameter\"] == par_name]\n",
    "        \n",
    "        x_nbr_cpg_vals = list(df_values_tmp[\"nbr_CpGs\"])\n",
    "        y_cohens_d_vals = list(df_values_tmp[\"cohens_d\"])\n",
    "        \n",
    "        if \"m0\" in par_name:\n",
    "            c = \"#117A65\"\n",
    "        if \"m10\" in par_name:\n",
    "            c = \"#45B39D\"\n",
    "        if \"m20\" in par_name:\n",
    "            c = \"#EB984E\"\n",
    "        if \"c5\" in par_name:\n",
    "            m = \"*\"\n",
    "            ms = 15\n",
    "        if \"c10\" in par_name:\n",
    "            m = \"^\"\n",
    "            ms = 10\n",
    "        if \"c20\" in par_name:\n",
    "            m = \"s\"\n",
    "            ms = 10\n",
    "        if \"c50\" in par_name:\n",
    "            m = \"o\"\n",
    "            ms = 10\n",
    "        \n",
    "        \n",
    "        plt.plot(x_nbr_cpg_vals, y_cohens_d_vals, linestyle=\"-\", color=c, marker=m, markersize=ms, label=par_name)\n",
    "    \n",
    "    \n",
    "    plt.axhline(y=0.2, linewidth=1, color = '#2C3E50',linestyle='--')\n",
    "    plt.axhline(y=0.5, linewidth=1, color = '#2C3E50',linestyle='--')\n",
    "    plt.axhline(y=0.8, linewidth=1, color = '#2C3E50',linestyle='--')\n",
    "    \n",
    "    e = 0.02\n",
    "    ax.text(-1.8,0.2+e,\"Small ES\")\n",
    "    ax.text(-1.8,0.5+e,\"Medium ES\")\n",
    "    ax.text(-1.8,0.8+e,\"Large ES\")\n",
    "\n",
    "    ax.set_ylabel(\"Cohen's d\")\n",
    "    ax.set_xlabel(\"Number of CpGs in sliding window\")   \n",
    "\n",
    "    plt.xlim(-2,35)\n",
    "    plt.ylim(-3,3)\n",
    "\n",
    "    legend = ax.legend(loc=\"lower left\",ncol=4,frameon = 1,prop={'size':14})\n",
    "    legend.get_frame().set_facecolor('white')"
   ]
  },
  {
   "cell_type": "code",
   "execution_count": null,
   "metadata": {},
   "outputs": [],
   "source": [
    "def plot_pvals_cohensd(df_values,params):\n",
    "    \n",
    "    plt.figure(figsize=(20,7))\n",
    "    ax = plt.subplot(1,1,1)\n",
    "    \n",
    "    nbr_CpGs_list = sorted(list(set(list(df_values[\"nbr_CpGs\"]))))\n",
    "    \n",
    "    for par_name in params:\n",
    "        df_values_tmp = df_values.loc[df_values[\"parameter\"] == par_name]\n",
    "        \n",
    "        x_nbr_cpg_vals = list(df_values_tmp[\"nbr_CpGs\"])\n",
    "        y_pvals_vals = list(df_values_tmp[\"pval_ranksums\"])\n",
    "        \n",
    "        y_pvals_log = [-np.log10(p_val) if p_val != 0.0 else 310 for p_val in y_pvals_vals]\n",
    "        \n",
    "        if \"m0\" in par_name:\n",
    "            c = \"#117A65\"\n",
    "        if \"m10\" in par_name:\n",
    "            c = \"#45B39D\"\n",
    "        if \"m20\" in par_name:\n",
    "            c = \"#EB984E\"\n",
    "        if \"c5\" in par_name:\n",
    "            m = \"*\"\n",
    "            ms = 15\n",
    "        if \"c10\" in par_name:\n",
    "            m = \"^\"\n",
    "            ms = 10\n",
    "        if \"c20\" in par_name:\n",
    "            m = \"s\"\n",
    "            ms = 10\n",
    "        if \"c50\" in par_name:\n",
    "            m = \"o\"\n",
    "            ms = 10\n",
    "        \n",
    "        \n",
    "        plt.plot(x_nbr_cpg_vals,y_pvals_log,linestyle=\"-\",color=c,marker=m,markersize=ms,label=par_name)\n",
    "    \n",
    "    \n",
    "    #plt.axhline(y=-np.log10(0.05), linewidth=1, color = '#5D6D7E',linestyle='-')\n",
    "    #plt.axhline(y=-np.log10(0.01), linewidth=1, color = '#515A5A',linestyle='-')\n",
    "\n",
    "    ax.set_ylabel(\"-log10(p-value)\")\n",
    "    ax.set_xlabel(\"Number of CpGs in sliding window\")   \n",
    "\n",
    "    # plt.xlim(-2,35)\n",
    "    # plt.ylim(0,450)\n",
    "\n",
    "    legend = ax.legend(loc=\"upper right\",ncol=4,frameon = 1,prop={'size':14})\n",
    "    legend.get_frame().set_facecolor('white')"
   ]
  },
  {
   "cell_type": "code",
   "execution_count": null,
   "metadata": {},
   "outputs": [],
   "source": [
    "def plot_score_distribution(df_scores_EXP,df_scores_RAND,params):\n",
    "\n",
    "    fig = plt.figure(figsize=(15,15))\n",
    "    for idx, p in enumerate(range(len(params))):\n",
    "        par_name = params[p]\n",
    "        EXP_scores = list(df_scores_EXP[par_name])\n",
    "        RAND_scores = list(df_scores_RAND[par_name])\n",
    "                \n",
    "        ttest_res = stats.ttest_ind(EXP_scores,RAND_scores,equal_var = False)\n",
    "        t = ttest_res[0]\n",
    "        p_val = float(ttest_res[1])/2.0\n",
    "        \n",
    "        \n",
    "        ranksums = scipy.stats.ranksums(EXP_scores,RAND_scores)[1]\n",
    "        ks_2samp = scipy.stats.ks_2samp(EXP_scores,RAND_scores)[1]\n",
    "\n",
    "        #EFFECT SIZE\n",
    "        cohens_d = calculate_cohens_d(EXP_scores,RAND_scores)\n",
    "        \n",
    "        #test for normal ditribution\n",
    "        pval_normal_EXP = stats.normaltest(EXP_scores)[1] if len(EXP_scores) >= 8 else -1   #This function tests the null hypothesis that a sample comes from a normal distribution. If small -> ost likely not normal dustributed\n",
    "        pval_normal_RAND = stats.normaltest(RAND_scores)[1] if len(EXP_scores) >= 8 else -1\n",
    "                \n",
    "        #PLOTTING\n",
    "        bins = 20    \n",
    "        \n",
    "        ax = plt.subplot(4, 3, idx + 1)\n",
    "        \n",
    "        c1 = \"#5499C7\"\n",
    "        c2 = \"#7DCEA0\"\n",
    "        \n",
    "        ax.annotate(par_name, xy=(0, 1), xycoords='axes fraction', fontsize=10, xytext=(5, -5), textcoords='offset points',ha='left', va='top') #region_name+\" - \"+\n",
    "\n",
    "        plt.hist(np.array(EXP_scores), bins=bins, color=c1, label=\"Experimental\", alpha=0.8)\n",
    "        plt.hist(np.array(RAND_scores), bins=bins, color=c2, label=\"Random\", alpha=0.8)\n",
    "        \n",
    "        # legend = ax.legend(loc=\"upper right\",frameon = 1,prop={'size':16})\n",
    "        # legend.get_frame().set_facecolor('white')\n",
    "        \n",
    "        plt.xlim(0,1)\n",
    "        \n",
    "        ax.set_xlabel(\"Matching score\")\n",
    "        ax.set_ylabel(\"Density\")"
   ]
  },
  {
   "cell_type": "code",
   "execution_count": null,
   "metadata": {},
   "outputs": [],
   "source": [
    "def plot_hist_distr_CpGs(df_scores):  \n",
    "    \n",
    "    nbr_CpG_list = list(df_scores[\"nbr_CpGs\"])\n",
    "    x = sorted(list(set(nbr_CpG_list)))  \n",
    "    y = [nbr_CpG_list.count(c) for c in x]  \n",
    "    \n",
    "    tot = len(nbr_CpG_list)\n",
    "    p = 0\n",
    "    for nbr_cpg,freq in zip(x,y):\n",
    "        perc = (float(freq)/float(tot))*100\n",
    "        p += perc\n",
    "    \n",
    "    for nbr_cpg_pos in range(len(x)):\n",
    "        nbr_cpg = x[nbr_cpg_pos]\n",
    "        freq = sum(y[nbr_cpg_pos:])\n",
    "        perc = (float(freq)/float(tot))*100\n",
    "    \n",
    "    #PLOTTING\n",
    "    bins = len(set(nbr_CpG_list))   \n",
    "    \n",
    "    fig = plt.figure()\n",
    "    ax = plt.subplot(111)\n",
    "    \n",
    "    c1 = \"#515A5A\"\n",
    "    c2 = \"#7DCEA0\"\n",
    "    \n",
    "    plt.hist(np.array(nbr_CpG_list), bins=bins, color=c1)\n",
    "    # sns.distplot(np.array(nbr_CpG_list),norm_hist=True,kde=False,bins=bins,color=c1)   # norm_hist : bool, otional If True, the histogram height shows a density rather than a count. This is implied if a KDE or fitted density is plotted.\n",
    "        \n",
    "    ax.set_xlabel(\"Number of CpGs\")\n",
    "    ax.set_ylabel(\"Density\")\n",
    "    \n",
    "    xticks = range(0,len(set(nbr_CpG_list)),5)\n",
    "    plt.xlim(0,len(set(nbr_CpG_list))+1)\n",
    "    plt.xticks([i+0.2 for i in xticks],xticks)\n"
   ]
  },
  {
   "cell_type": "code",
   "execution_count": null,
   "metadata": {},
   "outputs": [],
   "source": [
    "infile = data_path + 'introns.NDR.HCG.intersect.bed'\n",
    "df = nome.get_nuc_pos_methylation(infile)\n",
    "\n",
    "infile = data_path + 'introns.NDR.HCG.random.intersect.bed'\n",
    "df_random = nome.get_nuc_pos_methylation(infile)"
   ]
  },
  {
   "cell_type": "code",
   "execution_count": null,
   "metadata": {},
   "outputs": [],
   "source": [
    "df.head()"
   ]
  },
  {
   "cell_type": "code",
   "execution_count": null,
   "metadata": {},
   "outputs": [],
   "source": [
    "df_random.head()"
   ]
  },
  {
   "cell_type": "code",
   "execution_count": null,
   "metadata": {},
   "outputs": [],
   "source": [
    "df_sliding_windows = make_sliding_windows_file(df, x_y_clash_dict_norm)\n",
    "df_sliding_windows_random = make_sliding_windows_file(df_random, x_y_clash_dict_norm)"
   ]
  },
  {
   "cell_type": "code",
   "execution_count": null,
   "metadata": {},
   "outputs": [],
   "source": [
    "df_sliding_windows.head()"
   ]
  },
  {
   "cell_type": "code",
   "execution_count": null,
   "metadata": {},
   "outputs": [],
   "source": [
    "df_sliding_windows_random.head()"
   ]
  },
  {
   "cell_type": "code",
   "execution_count": null,
   "metadata": {},
   "outputs": [],
   "source": [
    "df_score_exp = calc_score_lists(df_sliding_windows, x_y_clash_dict_norm, params)\n",
    "df_score_random = calc_score_lists(df_sliding_windows_random, x_y_clash_dict_norm, params)"
   ]
  },
  {
   "cell_type": "code",
   "execution_count": null,
   "metadata": {},
   "outputs": [],
   "source": [
    "df_score_exp.head()"
   ]
  },
  {
   "cell_type": "code",
   "execution_count": null,
   "metadata": {},
   "outputs": [],
   "source": [
    "df_score_random.head()"
   ]
  },
  {
   "cell_type": "code",
   "execution_count": null,
   "metadata": {},
   "outputs": [],
   "source": [
    "df_pvalues = make_df_p_vals_cohens_d(df_score_exp, df_score_random, params)"
   ]
  },
  {
   "cell_type": "code",
   "execution_count": null,
   "metadata": {},
   "outputs": [],
   "source": [
    "df_pvalues.head()"
   ]
  },
  {
   "cell_type": "code",
   "execution_count": null,
   "metadata": {},
   "outputs": [],
   "source": [
    "plot_nbr_CpGs_cohensd(df_pvalues, params)"
   ]
  },
  {
   "cell_type": "code",
   "execution_count": null,
   "metadata": {},
   "outputs": [],
   "source": [
    "plot_pvals_cohensd(df_pvalues, params)"
   ]
  },
  {
   "cell_type": "code",
   "execution_count": null,
   "metadata": {},
   "outputs": [],
   "source": [
    "plot_score_distribution(df_score_exp,df_score_random,params)"
   ]
  },
  {
   "cell_type": "code",
   "execution_count": null,
   "metadata": {},
   "outputs": [],
   "source": [
    "plot_hist_distr_CpGs(df_score_exp)"
   ]
  },
  {
   "cell_type": "code",
   "execution_count": null,
   "metadata": {},
   "outputs": [],
   "source": [
    "infile = data_path + 'introns.NOR.HCG.intersect.bed'\n",
    "df = nome.get_nuc_pos_methylation(infile)\n",
    "\n",
    "infile = data_path + 'introns.NOR.HCG.random.intersect.bed'\n",
    "df_random = nome.get_nuc_pos_methylation(infile)"
   ]
  },
  {
   "cell_type": "code",
   "execution_count": null,
   "metadata": {},
   "outputs": [],
   "source": [
    "df_sliding_windows = make_sliding_windows_file(df, x_y_clash_dict_norm)\n",
    "df_sliding_windows_random = make_sliding_windows_file(df_random, x_y_clash_dict_norm)"
   ]
  },
  {
   "cell_type": "code",
   "execution_count": null,
   "metadata": {},
   "outputs": [],
   "source": [
    "df_score_exp = calc_score_lists(df_sliding_windows, x_y_clash_dict_norm, params)\n",
    "df_score_random = calc_score_lists(df_sliding_windows_random, x_y_clash_dict_norm, params)"
   ]
  },
  {
   "cell_type": "code",
   "execution_count": null,
   "metadata": {},
   "outputs": [],
   "source": [
    "df_pvalues = make_df_p_vals_cohens_d(df_score_exp, df_score_random, params)"
   ]
  },
  {
   "cell_type": "code",
   "execution_count": null,
   "metadata": {},
   "outputs": [],
   "source": [
    "plot_nbr_CpGs_cohensd(df_pvalues, params)"
   ]
  },
  {
   "cell_type": "code",
   "execution_count": null,
   "metadata": {},
   "outputs": [],
   "source": [
    "plot_pvals_cohensd(df_pvalues, params)"
   ]
  },
  {
   "cell_type": "code",
   "execution_count": null,
   "metadata": {},
   "outputs": [],
   "source": [
    "plot_score_distribution(df_score_exp,df_score_random,params)"
   ]
  },
  {
   "cell_type": "code",
   "execution_count": null,
   "metadata": {},
   "outputs": [],
   "source": [
    "plot_hist_distr_CpGs(df_score_exp)"
   ]
  },
  {
   "cell_type": "code",
   "execution_count": null,
   "metadata": {},
   "outputs": [],
   "source": []
  },
  {
   "cell_type": "code",
   "execution_count": null,
   "metadata": {},
   "outputs": [],
   "source": []
  }
 ],
 "metadata": {
  "kernelspec": {
   "display_name": "helms-lab-jupyter",
   "language": "python",
   "name": "helms-lab"
  },
  "language_info": {
   "codemirror_mode": {
    "name": "ipython",
    "version": 3
   },
   "file_extension": ".py",
   "mimetype": "text/x-python",
   "name": "python",
   "nbconvert_exporter": "python",
   "pygments_lexer": "ipython3",
   "version": "3.9.16"
  },
  "orig_nbformat": 4
 },
 "nbformat": 4,
 "nbformat_minor": 2
}
