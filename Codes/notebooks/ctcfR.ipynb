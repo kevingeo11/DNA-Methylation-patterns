{
 "cells": [
  {
   "cell_type": "code",
   "execution_count": 1,
   "metadata": {
    "vscode": {
     "languageId": "r"
    }
   },
   "outputs": [],
   "source": [
    "# if (!require(\"BiocManager\", quietly = TRUE))\n",
    "#     install.packages(\"BiocManager\")\n",
    "\n",
    "# BiocManager::install(\"CTCF\")"
   ]
  },
  {
   "cell_type": "code",
   "execution_count": 2,
   "metadata": {
    "vscode": {
     "languageId": "r"
    }
   },
   "outputs": [],
   "source": [
    "# BiocManager::install(\"Bioconductor/BiocFileCache\")"
   ]
  },
  {
   "cell_type": "code",
   "execution_count": 3,
   "metadata": {
    "vscode": {
     "languageId": "r"
    }
   },
   "outputs": [],
   "source": [
    "# BiocManager::install(\"AnnotationHub\", update = FALSE) \n",
    "# BiocManager::install(\"GenomicRanges\", update = FALSE)\n",
    "# BiocManager::install(\"plyranges\", update = FALSE)"
   ]
  },
  {
   "cell_type": "code",
   "execution_count": 4,
   "metadata": {
    "vscode": {
     "languageId": "r"
    }
   },
   "outputs": [
    {
     "name": "stderr",
     "output_type": "stream",
     "text": [
      "snapshotDate(): 2022-10-31\n",
      "\n"
     ]
    },
    {
     "data": {
      "text/plain": [
       "AnnotationHub with 51 records\n",
       "# snapshotDate(): 2022-10-31\n",
       "# $dataprovider: JASPAR 2022, CTCFBSDB 2.0, SwissRegulon, Jolma 2013, HOCOMO...\n",
       "# $species: Homo sapiens, Mus musculus\n",
       "# $rdataclass: GRanges\n",
       "# additional mcols(): taxonomyid, genome, description,\n",
       "#   coordinate_1_based, maintainer, rdatadateadded, preparerclass, tags,\n",
       "#   rdatapath, sourceurl, sourcetype \n",
       "# retrieve records with, e.g., 'object[[\"AH104716\"]]' \n",
       "\n",
       "             title                                                 \n",
       "  AH104716 | T2T.CIS_BP_2.00_Homo_sapiens.RData                    \n",
       "  AH104717 | T2T.CTCFBSDB_PWM.RData                                \n",
       "  AH104718 | T2T.HOCOMOCOv11_core_HUMAN_mono_meme_format.RData     \n",
       "  AH104719 | T2T.JASPAR2022_CORE_vertebrates_non_redundant_v2.RData\n",
       "  AH104720 | T2T.Jolma2013.RData                                   \n",
       "  ...        ...                                                   \n",
       "  AH104762 | mm9.JASPAR2022_CORE_vertebrates_non_redundant_v2.RData\n",
       "  AH104763 | mm9.Jolma2013.RData                                   \n",
       "  AH104764 | mm9.MA0139.1.RData                                    \n",
       "  AH104765 | mm9.SwissRegulon_human_and_mouse.RData                \n",
       "  AH104766 | mm8.CTCFBSDB.CTCF_predicted_mouse.RData               "
      ]
     },
     "metadata": {},
     "output_type": "display_data"
    }
   ],
   "source": [
    "suppressMessages(library(AnnotationHub))\n",
    "ah <- AnnotationHub()\n",
    "#> snapshotDate(): 2022-10-31\n",
    "query_data <- subset(ah, preparerclass == \"CTCF\")\n",
    "# Explore the AnnotationHub object\n",
    "query_data"
   ]
  },
  {
   "cell_type": "code",
   "execution_count": 5,
   "metadata": {
    "vscode": {
     "languageId": "r"
    }
   },
   "outputs": [
    {
     "data": {
      "text/plain": [
       ".\n",
       "          CIS-BP     CTCFBSDB 2.0 ENCODE SCREEN v3     HOCOMOCO v11 \n",
       "               6               12                2                6 \n",
       "     JASPAR 2022       Jolma 2013     SwissRegulon \n",
       "              13                6                6 "
      ]
     },
     "metadata": {},
     "output_type": "display_data"
    }
   ],
   "source": [
    "query_data$dataprovider %>% table()"
   ]
  },
  {
   "cell_type": "code",
   "execution_count": 7,
   "metadata": {
    "vscode": {
     "languageId": "r"
    }
   },
   "outputs": [
    {
     "data": {
      "text/plain": [
       "AnnotationHub with 2 records\n",
       "# snapshotDate(): 2022-10-31\n",
       "# $dataprovider: JASPAR 2022\n",
       "# $species: Homo sapiens\n",
       "# $rdataclass: GRanges\n",
       "# additional mcols(): taxonomyid, genome, description,\n",
       "#   coordinate_1_based, maintainer, rdatadateadded, preparerclass, tags,\n",
       "#   rdatapath, sourceurl, sourcetype \n",
       "# retrieve records with, e.g., 'object[[\"AH104736\"]]' \n",
       "\n",
       "             title                                                  \n",
       "  AH104736 | hg19.JASPAR2022_CORE_vertebrates_non_redundant_v2.RData\n",
       "  AH104738 | hg19.MA0139.1.RData                                    "
      ]
     },
     "metadata": {},
     "output_type": "display_data"
    }
   ],
   "source": [
    "subset(query_data, species == \"Homo sapiens\" & \n",
    "                   genome == \"hg19\" & \n",
    "                   dataprovider == \"JASPAR 2022\")"
   ]
  },
  {
   "cell_type": "code",
   "execution_count": 10,
   "metadata": {
    "vscode": {
     "languageId": "r"
    }
   },
   "outputs": [
    {
     "name": "stderr",
     "output_type": "stream",
     "text": [
      "loading from cache\n",
      "\n"
     ]
    }
   ],
   "source": [
    "CTCF_hg19 <- query_data[[\"AH104738\"]]"
   ]
  },
  {
   "cell_type": "code",
   "execution_count": 11,
   "metadata": {
    "vscode": {
     "languageId": "r"
    }
   },
   "outputs": [
    {
     "data": {
      "text/plain": [
       "GRanges object with 871136 ranges and 5 metadata columns:\n",
       "           seqnames            ranges strand |        name     score    pvalue\n",
       "              <Rle>         <IRanges>  <Rle> | <character> <numeric> <numeric>\n",
       "       [1]     chr1       11414-11432      + |    MA0139.1   9.11475  5.65e-05\n",
       "       [2]     chr1       14316-14334      + |    MA0139.1   7.83607  9.71e-05\n",
       "       [3]     chr1       15439-15457      + |    MA0139.1   8.00000  9.08e-05\n",
       "       [4]     chr1       16603-16621      + |    MA0139.1   8.04918  8.89e-05\n",
       "       [5]     chr1       16651-16669      + |    MA0139.1  11.42620  1.97e-05\n",
       "       ...      ...               ...    ... .         ...       ...       ...\n",
       "  [871132]     chrY 59356069-59356087      - |    MA0139.1  11.42620  1.97e-05\n",
       "  [871133]     chrY 59356117-59356135      - |    MA0139.1   8.04918  8.89e-05\n",
       "  [871134]     chrY 59357284-59357302      - |    MA0139.1   8.00000  9.08e-05\n",
       "  [871135]     chrY 59358407-59358425      - |    MA0139.1   7.83607  9.71e-05\n",
       "  [871136]     chrY 59361297-59361315      - |    MA0139.1   9.11475  5.65e-05\n",
       "              qvalue            sequence\n",
       "           <numeric>         <character>\n",
       "       [1]     0.564 ctggcagctggggacactg\n",
       "       [2]     0.605 GGACCAACAGGGGCAGGAG\n",
       "       [3]     0.603 TAGCCTCCAGAGGCCTCAG\n",
       "       [4]     0.601 CCACCTGAAGGAGACGCGC\n",
       "       [5]     0.530 TGGCCTACAGGGGCCGCGG\n",
       "       ...       ...                 ...\n",
       "  [871132]     0.655 TGGCCTACAGGGGCCGCGG\n",
       "  [871133]     0.762 CCACCTGAAGGAGACGCGC\n",
       "  [871134]     0.762 TAGCCTCCAGAGGCCTCAG\n",
       "  [871135]     0.762 GGACCAACAGGGGCAGGAG\n",
       "  [871136]     0.723 CTGGCAGCTGGGGACACTG\n",
       "  -------\n",
       "  seqinfo: 24 sequences from hg19 genome"
      ]
     },
     "metadata": {},
     "output_type": "display_data"
    }
   ],
   "source": [
    "CTCF_hg19"
   ]
  },
  {
   "cell_type": "code",
   "execution_count": 12,
   "metadata": {
    "vscode": {
     "languageId": "r"
    }
   },
   "outputs": [],
   "source": [
    "suppressMessages(library(plyranges))"
   ]
  },
  {
   "cell_type": "code",
   "execution_count": 18,
   "metadata": {
    "vscode": {
     "languageId": "r"
    }
   },
   "outputs": [],
   "source": [
    "CTCF_hg19 <- CTCF_hg19 %>% keepStandardChromosomes() %>% sort()"
   ]
  },
  {
   "cell_type": "code",
   "execution_count": 19,
   "metadata": {
    "vscode": {
     "languageId": "r"
    }
   },
   "outputs": [
    {
     "data": {
      "text/plain": [
       "GRanges object with 871136 ranges and 5 metadata columns:\n",
       "           seqnames            ranges strand |        name     score    pvalue\n",
       "              <Rle>         <IRanges>  <Rle> | <character> <numeric> <numeric>\n",
       "       [1]     chr1       11414-11432      + |    MA0139.1   9.11475  5.65e-05\n",
       "       [2]     chr1       14316-14334      + |    MA0139.1   7.83607  9.71e-05\n",
       "       [3]     chr1       15439-15457      + |    MA0139.1   8.00000  9.08e-05\n",
       "       [4]     chr1       16603-16621      + |    MA0139.1   8.04918  8.89e-05\n",
       "       [5]     chr1       16651-16669      + |    MA0139.1  11.42620  1.97e-05\n",
       "       ...      ...               ...    ... .         ...       ...       ...\n",
       "  [871132]     chrY 59356069-59356087      - |    MA0139.1  11.42620  1.97e-05\n",
       "  [871133]     chrY 59356117-59356135      - |    MA0139.1   8.04918  8.89e-05\n",
       "  [871134]     chrY 59357284-59357302      - |    MA0139.1   8.00000  9.08e-05\n",
       "  [871135]     chrY 59358407-59358425      - |    MA0139.1   7.83607  9.71e-05\n",
       "  [871136]     chrY 59361297-59361315      - |    MA0139.1   9.11475  5.65e-05\n",
       "              qvalue            sequence\n",
       "           <numeric>         <character>\n",
       "       [1]     0.564 ctggcagctggggacactg\n",
       "       [2]     0.605 GGACCAACAGGGGCAGGAG\n",
       "       [3]     0.603 TAGCCTCCAGAGGCCTCAG\n",
       "       [4]     0.601 CCACCTGAAGGAGACGCGC\n",
       "       [5]     0.530 TGGCCTACAGGGGCCGCGG\n",
       "       ...       ...                 ...\n",
       "  [871132]     0.655 TGGCCTACAGGGGCCGCGG\n",
       "  [871133]     0.762 CCACCTGAAGGAGACGCGC\n",
       "  [871134]     0.762 TAGCCTCCAGAGGCCTCAG\n",
       "  [871135]     0.762 GGACCAACAGGGGCAGGAG\n",
       "  [871136]     0.723 CTGGCAGCTGGGGACACTG\n",
       "  -------\n",
       "  seqinfo: 24 sequences from hg19 genome"
      ]
     },
     "metadata": {},
     "output_type": "display_data"
    }
   ],
   "source": [
    "CTCF_hg19"
   ]
  },
  {
   "cell_type": "code",
   "execution_count": 20,
   "metadata": {
    "vscode": {
     "languageId": "r"
    }
   },
   "outputs": [
    {
     "data": {
      "text/html": [
       "<table class=\"dataframe\">\n",
       "<caption>A data.frame: 871136 × 10</caption>\n",
       "<thead>\n",
       "\t<tr><th scope=col>seqnames</th><th scope=col>start</th><th scope=col>end</th><th scope=col>width</th><th scope=col>strand</th><th scope=col>name</th><th scope=col>score</th><th scope=col>pvalue</th><th scope=col>qvalue</th><th scope=col>sequence</th></tr>\n",
       "\t<tr><th scope=col>&lt;fct&gt;</th><th scope=col>&lt;int&gt;</th><th scope=col>&lt;int&gt;</th><th scope=col>&lt;int&gt;</th><th scope=col>&lt;fct&gt;</th><th scope=col>&lt;chr&gt;</th><th scope=col>&lt;dbl&gt;</th><th scope=col>&lt;dbl&gt;</th><th scope=col>&lt;dbl&gt;</th><th scope=col>&lt;chr&gt;</th></tr>\n",
       "</thead>\n",
       "<tbody>\n",
       "\t<tr><td>chr1</td><td> 11414</td><td> 11432</td><td>19</td><td>+</td><td>MA0139.1</td><td> 9.11475</td><td>5.65e-05</td><td>0.564</td><td>ctggcagctggggacactg</td></tr>\n",
       "\t<tr><td>chr1</td><td> 14316</td><td> 14334</td><td>19</td><td>+</td><td>MA0139.1</td><td> 7.83607</td><td>9.71e-05</td><td>0.605</td><td>GGACCAACAGGGGCAGGAG</td></tr>\n",
       "\t<tr><td>chr1</td><td> 15439</td><td> 15457</td><td>19</td><td>+</td><td>MA0139.1</td><td> 8.00000</td><td>9.08e-05</td><td>0.603</td><td>TAGCCTCCAGAGGCCTCAG</td></tr>\n",
       "\t<tr><td>chr1</td><td> 16603</td><td> 16621</td><td>19</td><td>+</td><td>MA0139.1</td><td> 8.04918</td><td>8.89e-05</td><td>0.601</td><td>CCACCTGAAGGAGACGCGC</td></tr>\n",
       "\t<tr><td>chr1</td><td> 16651</td><td> 16669</td><td>19</td><td>+</td><td>MA0139.1</td><td>11.42620</td><td>1.97e-05</td><td>0.530</td><td>TGGCCTACAGGGGCCGCGG</td></tr>\n",
       "\t<tr><td>chr1</td><td> 17092</td><td> 17110</td><td>19</td><td>+</td><td>MA0139.1</td><td>10.85250</td><td>2.58e-05</td><td>0.548</td><td>GGACCTGCAGGGGCAGCCA</td></tr>\n",
       "\t<tr><td>chr1</td><td> 17820</td><td> 17838</td><td>19</td><td>+</td><td>MA0139.1</td><td> 8.18033</td><td>8.42e-05</td><td>0.596</td><td>CCTCCTCTGGGGGACAGAA</td></tr>\n",
       "\t<tr><td>chr1</td><td> 18120</td><td> 18138</td><td>19</td><td>+</td><td>MA0139.1</td><td> 9.50820</td><td>4.76e-05</td><td>0.563</td><td>TTGGCAGGAGAGGGTGGAG</td></tr>\n",
       "\t<tr><td>chr1</td><td> 22562</td><td> 22580</td><td>19</td><td>+</td><td>MA0139.1</td><td> 9.65574</td><td>4.46e-05</td><td>0.563</td><td>CCAGCACGAGGTGGAGCAC</td></tr>\n",
       "\t<tr><td>chr1</td><td> 23447</td><td> 23465</td><td>19</td><td>+</td><td>MA0139.1</td><td> 7.88525</td><td>9.52e-05</td><td>0.605</td><td>TTCCCAGTTGGTGACAGAA</td></tr>\n",
       "\t<tr><td>chr1</td><td> 34942</td><td> 34960</td><td>19</td><td>+</td><td>MA0139.1</td><td> 9.40984</td><td>4.97e-05</td><td>0.563</td><td>TGATCAGGAGGTGGAGAAA</td></tr>\n",
       "\t<tr><td>chr1</td><td> 36203</td><td> 36221</td><td>19</td><td>+</td><td>MA0139.1</td><td> 8.80328</td><td>6.47e-05</td><td>0.577</td><td>CTGCCACAAGTTGGAAGGC</td></tr>\n",
       "\t<tr><td>chr1</td><td> 38970</td><td> 38988</td><td>19</td><td>+</td><td>MA0139.1</td><td>10.83610</td><td>2.60e-05</td><td>0.548</td><td>tggtctgtaggggacagag</td></tr>\n",
       "\t<tr><td>chr1</td><td> 79175</td><td> 79193</td><td>19</td><td>+</td><td>MA0139.1</td><td>10.19670</td><td>3.49e-05</td><td>0.562</td><td>tgggctgcagaaggaacta</td></tr>\n",
       "\t<tr><td>chr1</td><td> 79648</td><td> 79666</td><td>19</td><td>+</td><td>MA0139.1</td><td>11.18030</td><td>2.21e-05</td><td>0.539</td><td>ccacctggagatggaaccc</td></tr>\n",
       "\t<tr><td>chr1</td><td> 81134</td><td> 81152</td><td>19</td><td>+</td><td>MA0139.1</td><td> 8.18033</td><td>8.42e-05</td><td>0.596</td><td>ctaccaatatgtggcacaa</td></tr>\n",
       "\t<tr><td>chr1</td><td> 88418</td><td> 88436</td><td>19</td><td>+</td><td>MA0139.1</td><td> 7.83607</td><td>9.71e-05</td><td>0.605</td><td>aggccagaagattgaagtc</td></tr>\n",
       "\t<tr><td>chr1</td><td> 89018</td><td> 89036</td><td>19</td><td>+</td><td>MA0139.1</td><td> 9.18033</td><td>5.49e-05</td><td>0.563</td><td>ctgcctgtaggggtaccca</td></tr>\n",
       "\t<tr><td>chr1</td><td> 91420</td><td> 91438</td><td>19</td><td>+</td><td>MA0139.1</td><td>16.29510</td><td>1.41e-06</td><td>0.264</td><td>GTGGCACCAGGTGGCAGCA</td></tr>\n",
       "\t<tr><td>chr1</td><td> 91430</td><td> 91448</td><td>19</td><td>+</td><td>MA0139.1</td><td>11.70490</td><td>1.72e-05</td><td>0.519</td><td>GTGGCAGCAGAGGTCAGCA</td></tr>\n",
       "\t<tr><td>chr1</td><td>101113</td><td>101131</td><td>19</td><td>+</td><td>MA0139.1</td><td> 7.91803</td><td>9.39e-05</td><td>0.605</td><td>aggtcacttgaggtcagca</td></tr>\n",
       "\t<tr><td>chr1</td><td>101258</td><td>101276</td><td>19</td><td>+</td><td>MA0139.1</td><td>10.01640</td><td>3.79e-05</td><td>0.563</td><td>aacccagaaggtggaggtt</td></tr>\n",
       "\t<tr><td>chr1</td><td>103175</td><td>103193</td><td>19</td><td>+</td><td>MA0139.1</td><td> 9.14754</td><td>5.57e-05</td><td>0.563</td><td>aacccaggaggtggaggtt</td></tr>\n",
       "\t<tr><td>chr1</td><td>107005</td><td>107023</td><td>19</td><td>+</td><td>MA0139.1</td><td> 8.04918</td><td>8.89e-05</td><td>0.601</td><td>TGTCCTCCAGGGGCCTCAC</td></tr>\n",
       "\t<tr><td>chr1</td><td>115748</td><td>115766</td><td>19</td><td>+</td><td>MA0139.1</td><td> 9.36066</td><td>5.08e-05</td><td>0.563</td><td>CATCCTGTAGGTGTCTCTA</td></tr>\n",
       "\t<tr><td>chr1</td><td>131328</td><td>131346</td><td>19</td><td>+</td><td>MA0139.1</td><td>14.26230</td><td>4.58e-06</td><td>0.384</td><td>CGTCCACCAGGTGGGACAG</td></tr>\n",
       "\t<tr><td>chr1</td><td>131704</td><td>131722</td><td>19</td><td>+</td><td>MA0139.1</td><td>12.42620</td><td>1.20e-05</td><td>0.489</td><td>TCTTCAGCAGGCGGCACCA</td></tr>\n",
       "\t<tr><td>chr1</td><td>133483</td><td>133501</td><td>19</td><td>+</td><td>MA0139.1</td><td> 7.96721</td><td>9.20e-05</td><td>0.604</td><td>GGTCCAGTGGGAGGAGCCT</td></tr>\n",
       "\t<tr><td>chr1</td><td>134551</td><td>134569</td><td>19</td><td>+</td><td>MA0139.1</td><td>12.14750</td><td>1.38e-05</td><td>0.502</td><td>GGGCCACAGGGAGGCGCCT</td></tr>\n",
       "\t<tr><td>chr1</td><td>135330</td><td>135348</td><td>19</td><td>+</td><td>MA0139.1</td><td>12.91800</td><td>9.36e-06</td><td>0.463</td><td>AGGCCACTGGGAGGCAGGA</td></tr>\n",
       "\t<tr><td>⋮</td><td>⋮</td><td>⋮</td><td>⋮</td><td>⋮</td><td>⋮</td><td>⋮</td><td>⋮</td><td>⋮</td><td>⋮</td></tr>\n",
       "\t<tr><td>chrY</td><td>59262235</td><td>59262253</td><td>19</td><td>-</td><td>MA0139.1</td><td> 8.50820</td><td>7.33e-05</td><td>0.753</td><td>TGATCAAAAGGGGGAAATG</td></tr>\n",
       "\t<tr><td>chrY</td><td>59270974</td><td>59270992</td><td>19</td><td>-</td><td>MA0139.1</td><td> 9.34426</td><td>5.11e-05</td><td>0.723</td><td>ATGCCACCTGGAGGCACAT</td></tr>\n",
       "\t<tr><td>chrY</td><td>59280300</td><td>59280318</td><td>19</td><td>-</td><td>MA0139.1</td><td> 8.54098</td><td>7.23e-05</td><td>0.753</td><td>TAGGCTCCAGAGGAAGCCC</td></tr>\n",
       "\t<tr><td>chrY</td><td>59285063</td><td>59285081</td><td>19</td><td>-</td><td>MA0139.1</td><td> 8.29508</td><td>8.02e-05</td><td>0.759</td><td>TGTCAAGCAGGAGGAGATA</td></tr>\n",
       "\t<tr><td>chrY</td><td>59305483</td><td>59305501</td><td>19</td><td>-</td><td>MA0139.1</td><td>11.68850</td><td>1.73e-05</td><td>0.655</td><td>TGCACTGCAGGGGACACCA</td></tr>\n",
       "\t<tr><td>chrY</td><td>59305503</td><td>59305521</td><td>19</td><td>-</td><td>MA0139.1</td><td> 9.60656</td><td>4.55e-05</td><td>0.723</td><td>ACCTCAGAAGGTGGCAGTC</td></tr>\n",
       "\t<tr><td>chrY</td><td>59308997</td><td>59309015</td><td>19</td><td>-</td><td>MA0139.1</td><td> 9.01639</td><td>5.90e-05</td><td>0.731</td><td>CCACCTGCTGAGGGAAGTC</td></tr>\n",
       "\t<tr><td>chrY</td><td>59309196</td><td>59309214</td><td>19</td><td>-</td><td>MA0139.1</td><td>11.73770</td><td>1.69e-05</td><td>0.655</td><td>TGGCCATCAGAAGGAAGCC</td></tr>\n",
       "\t<tr><td>chrY</td><td>59318671</td><td>59318689</td><td>19</td><td>-</td><td>MA0139.1</td><td>10.65570</td><td>2.83e-05</td><td>0.684</td><td>TGGCCAGGAGGGAGTGGGA</td></tr>\n",
       "\t<tr><td>chrY</td><td>59322192</td><td>59322210</td><td>19</td><td>-</td><td>MA0139.1</td><td>13.16390</td><td>8.24e-06</td><td>0.599</td><td>TGTCCACAAGATGGCAAAT</td></tr>\n",
       "\t<tr><td>chrY</td><td>59325539</td><td>59325557</td><td>19</td><td>-</td><td>MA0139.1</td><td> 9.06557</td><td>5.77e-05</td><td>0.727</td><td>GGACCATAAGTGGGCACCA</td></tr>\n",
       "\t<tr><td>chrY</td><td>59327049</td><td>59327067</td><td>19</td><td>-</td><td>MA0139.1</td><td> 7.81967</td><td>9.78e-05</td><td>0.762</td><td>GTCCCAGTAGGAGGCTGAG</td></tr>\n",
       "\t<tr><td>chrY</td><td>59331371</td><td>59331389</td><td>19</td><td>-</td><td>MA0139.1</td><td> 8.72131</td><td>6.70e-05</td><td>0.745</td><td>CCACCTGCAGAGGCTGCCC</td></tr>\n",
       "\t<tr><td>chrY</td><td>59333456</td><td>59333474</td><td>19</td><td>-</td><td>MA0139.1</td><td>14.54100</td><td>3.92e-06</td><td>0.565</td><td>GCCCCAGCAGAAGGCACCA</td></tr>\n",
       "\t<tr><td>chrY</td><td>59334620</td><td>59334638</td><td>19</td><td>-</td><td>MA0139.1</td><td> 8.86885</td><td>6.29e-05</td><td>0.742</td><td>CATGCAACAGATGGCACTT</td></tr>\n",
       "\t<tr><td>chrY</td><td>59335489</td><td>59335507</td><td>19</td><td>-</td><td>MA0139.1</td><td> 8.83607</td><td>6.38e-05</td><td>0.743</td><td>TCCCCAGCAGAGTGCTCCA</td></tr>\n",
       "\t<tr><td>chrY</td><td>59340172</td><td>59340190</td><td>19</td><td>-</td><td>MA0139.1</td><td> 8.06557</td><td>8.83e-05</td><td>0.762</td><td>AGGCCAAGAGAGGCCAGTC</td></tr>\n",
       "\t<tr><td>chrY</td><td>59342584</td><td>59342602</td><td>19</td><td>-</td><td>MA0139.1</td><td> 8.47541</td><td>7.44e-05</td><td>0.753</td><td>GGGCCACAAGTGAGCAGTG</td></tr>\n",
       "\t<tr><td>chrY</td><td>59343034</td><td>59343052</td><td>19</td><td>-</td><td>MA0139.1</td><td> 7.96721</td><td>9.20e-05</td><td>0.762</td><td>AGGACAGAAGGGAGCAACA</td></tr>\n",
       "\t<tr><td>chrY</td><td>59348265</td><td>59348283</td><td>19</td><td>-</td><td>MA0139.1</td><td>11.37700</td><td>2.01e-05</td><td>0.655</td><td>CTGCCATTAGGGGGCCCGG</td></tr>\n",
       "\t<tr><td>chrY</td><td>59349405</td><td>59349423</td><td>19</td><td>-</td><td>MA0139.1</td><td> 7.91803</td><td>9.39e-05</td><td>0.762</td><td>GGGACACCTGGGGACACCT</td></tr>\n",
       "\t<tr><td>chrY</td><td>59349560</td><td>59349578</td><td>19</td><td>-</td><td>MA0139.1</td><td>15.63930</td><td>2.09e-06</td><td>0.486</td><td>CTGCCGCAAGGGGGCGCAT</td></tr>\n",
       "\t<tr><td>chrY</td><td>59354593</td><td>59354611</td><td>19</td><td>-</td><td>MA0139.1</td><td> 9.50820</td><td>4.76e-05</td><td>0.723</td><td>TTGGCAGGAGAGGGTGGAG</td></tr>\n",
       "\t<tr><td>chrY</td><td>59354898</td><td>59354916</td><td>19</td><td>-</td><td>MA0139.1</td><td> 8.18033</td><td>8.42e-05</td><td>0.762</td><td>CCTCCTCTGGGGGACAGAA</td></tr>\n",
       "\t<tr><td>chrY</td><td>59355628</td><td>59355646</td><td>19</td><td>-</td><td>MA0139.1</td><td>10.85250</td><td>2.58e-05</td><td>0.669</td><td>GGACCTGCAGGGGCAGCCA</td></tr>\n",
       "\t<tr><td>chrY</td><td>59356069</td><td>59356087</td><td>19</td><td>-</td><td>MA0139.1</td><td>11.42620</td><td>1.97e-05</td><td>0.655</td><td>TGGCCTACAGGGGCCGCGG</td></tr>\n",
       "\t<tr><td>chrY</td><td>59356117</td><td>59356135</td><td>19</td><td>-</td><td>MA0139.1</td><td> 8.04918</td><td>8.89e-05</td><td>0.762</td><td>CCACCTGAAGGAGACGCGC</td></tr>\n",
       "\t<tr><td>chrY</td><td>59357284</td><td>59357302</td><td>19</td><td>-</td><td>MA0139.1</td><td> 8.00000</td><td>9.08e-05</td><td>0.762</td><td>TAGCCTCCAGAGGCCTCAG</td></tr>\n",
       "\t<tr><td>chrY</td><td>59358407</td><td>59358425</td><td>19</td><td>-</td><td>MA0139.1</td><td> 7.83607</td><td>9.71e-05</td><td>0.762</td><td>GGACCAACAGGGGCAGGAG</td></tr>\n",
       "\t<tr><td>chrY</td><td>59361297</td><td>59361315</td><td>19</td><td>-</td><td>MA0139.1</td><td> 9.11475</td><td>5.65e-05</td><td>0.723</td><td>CTGGCAGCTGGGGACACTG</td></tr>\n",
       "</tbody>\n",
       "</table>\n"
      ],
      "text/latex": [
       "A data.frame: 871136 × 10\n",
       "\\begin{tabular}{llllllllll}\n",
       " seqnames & start & end & width & strand & name & score & pvalue & qvalue & sequence\\\\\n",
       " <fct> & <int> & <int> & <int> & <fct> & <chr> & <dbl> & <dbl> & <dbl> & <chr>\\\\\n",
       "\\hline\n",
       "\t chr1 &  11414 &  11432 & 19 & + & MA0139.1 &  9.11475 & 5.65e-05 & 0.564 & ctggcagctggggacactg\\\\\n",
       "\t chr1 &  14316 &  14334 & 19 & + & MA0139.1 &  7.83607 & 9.71e-05 & 0.605 & GGACCAACAGGGGCAGGAG\\\\\n",
       "\t chr1 &  15439 &  15457 & 19 & + & MA0139.1 &  8.00000 & 9.08e-05 & 0.603 & TAGCCTCCAGAGGCCTCAG\\\\\n",
       "\t chr1 &  16603 &  16621 & 19 & + & MA0139.1 &  8.04918 & 8.89e-05 & 0.601 & CCACCTGAAGGAGACGCGC\\\\\n",
       "\t chr1 &  16651 &  16669 & 19 & + & MA0139.1 & 11.42620 & 1.97e-05 & 0.530 & TGGCCTACAGGGGCCGCGG\\\\\n",
       "\t chr1 &  17092 &  17110 & 19 & + & MA0139.1 & 10.85250 & 2.58e-05 & 0.548 & GGACCTGCAGGGGCAGCCA\\\\\n",
       "\t chr1 &  17820 &  17838 & 19 & + & MA0139.1 &  8.18033 & 8.42e-05 & 0.596 & CCTCCTCTGGGGGACAGAA\\\\\n",
       "\t chr1 &  18120 &  18138 & 19 & + & MA0139.1 &  9.50820 & 4.76e-05 & 0.563 & TTGGCAGGAGAGGGTGGAG\\\\\n",
       "\t chr1 &  22562 &  22580 & 19 & + & MA0139.1 &  9.65574 & 4.46e-05 & 0.563 & CCAGCACGAGGTGGAGCAC\\\\\n",
       "\t chr1 &  23447 &  23465 & 19 & + & MA0139.1 &  7.88525 & 9.52e-05 & 0.605 & TTCCCAGTTGGTGACAGAA\\\\\n",
       "\t chr1 &  34942 &  34960 & 19 & + & MA0139.1 &  9.40984 & 4.97e-05 & 0.563 & TGATCAGGAGGTGGAGAAA\\\\\n",
       "\t chr1 &  36203 &  36221 & 19 & + & MA0139.1 &  8.80328 & 6.47e-05 & 0.577 & CTGCCACAAGTTGGAAGGC\\\\\n",
       "\t chr1 &  38970 &  38988 & 19 & + & MA0139.1 & 10.83610 & 2.60e-05 & 0.548 & tggtctgtaggggacagag\\\\\n",
       "\t chr1 &  79175 &  79193 & 19 & + & MA0139.1 & 10.19670 & 3.49e-05 & 0.562 & tgggctgcagaaggaacta\\\\\n",
       "\t chr1 &  79648 &  79666 & 19 & + & MA0139.1 & 11.18030 & 2.21e-05 & 0.539 & ccacctggagatggaaccc\\\\\n",
       "\t chr1 &  81134 &  81152 & 19 & + & MA0139.1 &  8.18033 & 8.42e-05 & 0.596 & ctaccaatatgtggcacaa\\\\\n",
       "\t chr1 &  88418 &  88436 & 19 & + & MA0139.1 &  7.83607 & 9.71e-05 & 0.605 & aggccagaagattgaagtc\\\\\n",
       "\t chr1 &  89018 &  89036 & 19 & + & MA0139.1 &  9.18033 & 5.49e-05 & 0.563 & ctgcctgtaggggtaccca\\\\\n",
       "\t chr1 &  91420 &  91438 & 19 & + & MA0139.1 & 16.29510 & 1.41e-06 & 0.264 & GTGGCACCAGGTGGCAGCA\\\\\n",
       "\t chr1 &  91430 &  91448 & 19 & + & MA0139.1 & 11.70490 & 1.72e-05 & 0.519 & GTGGCAGCAGAGGTCAGCA\\\\\n",
       "\t chr1 & 101113 & 101131 & 19 & + & MA0139.1 &  7.91803 & 9.39e-05 & 0.605 & aggtcacttgaggtcagca\\\\\n",
       "\t chr1 & 101258 & 101276 & 19 & + & MA0139.1 & 10.01640 & 3.79e-05 & 0.563 & aacccagaaggtggaggtt\\\\\n",
       "\t chr1 & 103175 & 103193 & 19 & + & MA0139.1 &  9.14754 & 5.57e-05 & 0.563 & aacccaggaggtggaggtt\\\\\n",
       "\t chr1 & 107005 & 107023 & 19 & + & MA0139.1 &  8.04918 & 8.89e-05 & 0.601 & TGTCCTCCAGGGGCCTCAC\\\\\n",
       "\t chr1 & 115748 & 115766 & 19 & + & MA0139.1 &  9.36066 & 5.08e-05 & 0.563 & CATCCTGTAGGTGTCTCTA\\\\\n",
       "\t chr1 & 131328 & 131346 & 19 & + & MA0139.1 & 14.26230 & 4.58e-06 & 0.384 & CGTCCACCAGGTGGGACAG\\\\\n",
       "\t chr1 & 131704 & 131722 & 19 & + & MA0139.1 & 12.42620 & 1.20e-05 & 0.489 & TCTTCAGCAGGCGGCACCA\\\\\n",
       "\t chr1 & 133483 & 133501 & 19 & + & MA0139.1 &  7.96721 & 9.20e-05 & 0.604 & GGTCCAGTGGGAGGAGCCT\\\\\n",
       "\t chr1 & 134551 & 134569 & 19 & + & MA0139.1 & 12.14750 & 1.38e-05 & 0.502 & GGGCCACAGGGAGGCGCCT\\\\\n",
       "\t chr1 & 135330 & 135348 & 19 & + & MA0139.1 & 12.91800 & 9.36e-06 & 0.463 & AGGCCACTGGGAGGCAGGA\\\\\n",
       "\t ⋮ & ⋮ & ⋮ & ⋮ & ⋮ & ⋮ & ⋮ & ⋮ & ⋮ & ⋮\\\\\n",
       "\t chrY & 59262235 & 59262253 & 19 & - & MA0139.1 &  8.50820 & 7.33e-05 & 0.753 & TGATCAAAAGGGGGAAATG\\\\\n",
       "\t chrY & 59270974 & 59270992 & 19 & - & MA0139.1 &  9.34426 & 5.11e-05 & 0.723 & ATGCCACCTGGAGGCACAT\\\\\n",
       "\t chrY & 59280300 & 59280318 & 19 & - & MA0139.1 &  8.54098 & 7.23e-05 & 0.753 & TAGGCTCCAGAGGAAGCCC\\\\\n",
       "\t chrY & 59285063 & 59285081 & 19 & - & MA0139.1 &  8.29508 & 8.02e-05 & 0.759 & TGTCAAGCAGGAGGAGATA\\\\\n",
       "\t chrY & 59305483 & 59305501 & 19 & - & MA0139.1 & 11.68850 & 1.73e-05 & 0.655 & TGCACTGCAGGGGACACCA\\\\\n",
       "\t chrY & 59305503 & 59305521 & 19 & - & MA0139.1 &  9.60656 & 4.55e-05 & 0.723 & ACCTCAGAAGGTGGCAGTC\\\\\n",
       "\t chrY & 59308997 & 59309015 & 19 & - & MA0139.1 &  9.01639 & 5.90e-05 & 0.731 & CCACCTGCTGAGGGAAGTC\\\\\n",
       "\t chrY & 59309196 & 59309214 & 19 & - & MA0139.1 & 11.73770 & 1.69e-05 & 0.655 & TGGCCATCAGAAGGAAGCC\\\\\n",
       "\t chrY & 59318671 & 59318689 & 19 & - & MA0139.1 & 10.65570 & 2.83e-05 & 0.684 & TGGCCAGGAGGGAGTGGGA\\\\\n",
       "\t chrY & 59322192 & 59322210 & 19 & - & MA0139.1 & 13.16390 & 8.24e-06 & 0.599 & TGTCCACAAGATGGCAAAT\\\\\n",
       "\t chrY & 59325539 & 59325557 & 19 & - & MA0139.1 &  9.06557 & 5.77e-05 & 0.727 & GGACCATAAGTGGGCACCA\\\\\n",
       "\t chrY & 59327049 & 59327067 & 19 & - & MA0139.1 &  7.81967 & 9.78e-05 & 0.762 & GTCCCAGTAGGAGGCTGAG\\\\\n",
       "\t chrY & 59331371 & 59331389 & 19 & - & MA0139.1 &  8.72131 & 6.70e-05 & 0.745 & CCACCTGCAGAGGCTGCCC\\\\\n",
       "\t chrY & 59333456 & 59333474 & 19 & - & MA0139.1 & 14.54100 & 3.92e-06 & 0.565 & GCCCCAGCAGAAGGCACCA\\\\\n",
       "\t chrY & 59334620 & 59334638 & 19 & - & MA0139.1 &  8.86885 & 6.29e-05 & 0.742 & CATGCAACAGATGGCACTT\\\\\n",
       "\t chrY & 59335489 & 59335507 & 19 & - & MA0139.1 &  8.83607 & 6.38e-05 & 0.743 & TCCCCAGCAGAGTGCTCCA\\\\\n",
       "\t chrY & 59340172 & 59340190 & 19 & - & MA0139.1 &  8.06557 & 8.83e-05 & 0.762 & AGGCCAAGAGAGGCCAGTC\\\\\n",
       "\t chrY & 59342584 & 59342602 & 19 & - & MA0139.1 &  8.47541 & 7.44e-05 & 0.753 & GGGCCACAAGTGAGCAGTG\\\\\n",
       "\t chrY & 59343034 & 59343052 & 19 & - & MA0139.1 &  7.96721 & 9.20e-05 & 0.762 & AGGACAGAAGGGAGCAACA\\\\\n",
       "\t chrY & 59348265 & 59348283 & 19 & - & MA0139.1 & 11.37700 & 2.01e-05 & 0.655 & CTGCCATTAGGGGGCCCGG\\\\\n",
       "\t chrY & 59349405 & 59349423 & 19 & - & MA0139.1 &  7.91803 & 9.39e-05 & 0.762 & GGGACACCTGGGGACACCT\\\\\n",
       "\t chrY & 59349560 & 59349578 & 19 & - & MA0139.1 & 15.63930 & 2.09e-06 & 0.486 & CTGCCGCAAGGGGGCGCAT\\\\\n",
       "\t chrY & 59354593 & 59354611 & 19 & - & MA0139.1 &  9.50820 & 4.76e-05 & 0.723 & TTGGCAGGAGAGGGTGGAG\\\\\n",
       "\t chrY & 59354898 & 59354916 & 19 & - & MA0139.1 &  8.18033 & 8.42e-05 & 0.762 & CCTCCTCTGGGGGACAGAA\\\\\n",
       "\t chrY & 59355628 & 59355646 & 19 & - & MA0139.1 & 10.85250 & 2.58e-05 & 0.669 & GGACCTGCAGGGGCAGCCA\\\\\n",
       "\t chrY & 59356069 & 59356087 & 19 & - & MA0139.1 & 11.42620 & 1.97e-05 & 0.655 & TGGCCTACAGGGGCCGCGG\\\\\n",
       "\t chrY & 59356117 & 59356135 & 19 & - & MA0139.1 &  8.04918 & 8.89e-05 & 0.762 & CCACCTGAAGGAGACGCGC\\\\\n",
       "\t chrY & 59357284 & 59357302 & 19 & - & MA0139.1 &  8.00000 & 9.08e-05 & 0.762 & TAGCCTCCAGAGGCCTCAG\\\\\n",
       "\t chrY & 59358407 & 59358425 & 19 & - & MA0139.1 &  7.83607 & 9.71e-05 & 0.762 & GGACCAACAGGGGCAGGAG\\\\\n",
       "\t chrY & 59361297 & 59361315 & 19 & - & MA0139.1 &  9.11475 & 5.65e-05 & 0.723 & CTGGCAGCTGGGGACACTG\\\\\n",
       "\\end{tabular}\n"
      ],
      "text/markdown": [
       "\n",
       "A data.frame: 871136 × 10\n",
       "\n",
       "| seqnames &lt;fct&gt; | start &lt;int&gt; | end &lt;int&gt; | width &lt;int&gt; | strand &lt;fct&gt; | name &lt;chr&gt; | score &lt;dbl&gt; | pvalue &lt;dbl&gt; | qvalue &lt;dbl&gt; | sequence &lt;chr&gt; |\n",
       "|---|---|---|---|---|---|---|---|---|---|\n",
       "| chr1 |  11414 |  11432 | 19 | + | MA0139.1 |  9.11475 | 5.65e-05 | 0.564 | ctggcagctggggacactg |\n",
       "| chr1 |  14316 |  14334 | 19 | + | MA0139.1 |  7.83607 | 9.71e-05 | 0.605 | GGACCAACAGGGGCAGGAG |\n",
       "| chr1 |  15439 |  15457 | 19 | + | MA0139.1 |  8.00000 | 9.08e-05 | 0.603 | TAGCCTCCAGAGGCCTCAG |\n",
       "| chr1 |  16603 |  16621 | 19 | + | MA0139.1 |  8.04918 | 8.89e-05 | 0.601 | CCACCTGAAGGAGACGCGC |\n",
       "| chr1 |  16651 |  16669 | 19 | + | MA0139.1 | 11.42620 | 1.97e-05 | 0.530 | TGGCCTACAGGGGCCGCGG |\n",
       "| chr1 |  17092 |  17110 | 19 | + | MA0139.1 | 10.85250 | 2.58e-05 | 0.548 | GGACCTGCAGGGGCAGCCA |\n",
       "| chr1 |  17820 |  17838 | 19 | + | MA0139.1 |  8.18033 | 8.42e-05 | 0.596 | CCTCCTCTGGGGGACAGAA |\n",
       "| chr1 |  18120 |  18138 | 19 | + | MA0139.1 |  9.50820 | 4.76e-05 | 0.563 | TTGGCAGGAGAGGGTGGAG |\n",
       "| chr1 |  22562 |  22580 | 19 | + | MA0139.1 |  9.65574 | 4.46e-05 | 0.563 | CCAGCACGAGGTGGAGCAC |\n",
       "| chr1 |  23447 |  23465 | 19 | + | MA0139.1 |  7.88525 | 9.52e-05 | 0.605 | TTCCCAGTTGGTGACAGAA |\n",
       "| chr1 |  34942 |  34960 | 19 | + | MA0139.1 |  9.40984 | 4.97e-05 | 0.563 | TGATCAGGAGGTGGAGAAA |\n",
       "| chr1 |  36203 |  36221 | 19 | + | MA0139.1 |  8.80328 | 6.47e-05 | 0.577 | CTGCCACAAGTTGGAAGGC |\n",
       "| chr1 |  38970 |  38988 | 19 | + | MA0139.1 | 10.83610 | 2.60e-05 | 0.548 | tggtctgtaggggacagag |\n",
       "| chr1 |  79175 |  79193 | 19 | + | MA0139.1 | 10.19670 | 3.49e-05 | 0.562 | tgggctgcagaaggaacta |\n",
       "| chr1 |  79648 |  79666 | 19 | + | MA0139.1 | 11.18030 | 2.21e-05 | 0.539 | ccacctggagatggaaccc |\n",
       "| chr1 |  81134 |  81152 | 19 | + | MA0139.1 |  8.18033 | 8.42e-05 | 0.596 | ctaccaatatgtggcacaa |\n",
       "| chr1 |  88418 |  88436 | 19 | + | MA0139.1 |  7.83607 | 9.71e-05 | 0.605 | aggccagaagattgaagtc |\n",
       "| chr1 |  89018 |  89036 | 19 | + | MA0139.1 |  9.18033 | 5.49e-05 | 0.563 | ctgcctgtaggggtaccca |\n",
       "| chr1 |  91420 |  91438 | 19 | + | MA0139.1 | 16.29510 | 1.41e-06 | 0.264 | GTGGCACCAGGTGGCAGCA |\n",
       "| chr1 |  91430 |  91448 | 19 | + | MA0139.1 | 11.70490 | 1.72e-05 | 0.519 | GTGGCAGCAGAGGTCAGCA |\n",
       "| chr1 | 101113 | 101131 | 19 | + | MA0139.1 |  7.91803 | 9.39e-05 | 0.605 | aggtcacttgaggtcagca |\n",
       "| chr1 | 101258 | 101276 | 19 | + | MA0139.1 | 10.01640 | 3.79e-05 | 0.563 | aacccagaaggtggaggtt |\n",
       "| chr1 | 103175 | 103193 | 19 | + | MA0139.1 |  9.14754 | 5.57e-05 | 0.563 | aacccaggaggtggaggtt |\n",
       "| chr1 | 107005 | 107023 | 19 | + | MA0139.1 |  8.04918 | 8.89e-05 | 0.601 | TGTCCTCCAGGGGCCTCAC |\n",
       "| chr1 | 115748 | 115766 | 19 | + | MA0139.1 |  9.36066 | 5.08e-05 | 0.563 | CATCCTGTAGGTGTCTCTA |\n",
       "| chr1 | 131328 | 131346 | 19 | + | MA0139.1 | 14.26230 | 4.58e-06 | 0.384 | CGTCCACCAGGTGGGACAG |\n",
       "| chr1 | 131704 | 131722 | 19 | + | MA0139.1 | 12.42620 | 1.20e-05 | 0.489 | TCTTCAGCAGGCGGCACCA |\n",
       "| chr1 | 133483 | 133501 | 19 | + | MA0139.1 |  7.96721 | 9.20e-05 | 0.604 | GGTCCAGTGGGAGGAGCCT |\n",
       "| chr1 | 134551 | 134569 | 19 | + | MA0139.1 | 12.14750 | 1.38e-05 | 0.502 | GGGCCACAGGGAGGCGCCT |\n",
       "| chr1 | 135330 | 135348 | 19 | + | MA0139.1 | 12.91800 | 9.36e-06 | 0.463 | AGGCCACTGGGAGGCAGGA |\n",
       "| ⋮ | ⋮ | ⋮ | ⋮ | ⋮ | ⋮ | ⋮ | ⋮ | ⋮ | ⋮ |\n",
       "| chrY | 59262235 | 59262253 | 19 | - | MA0139.1 |  8.50820 | 7.33e-05 | 0.753 | TGATCAAAAGGGGGAAATG |\n",
       "| chrY | 59270974 | 59270992 | 19 | - | MA0139.1 |  9.34426 | 5.11e-05 | 0.723 | ATGCCACCTGGAGGCACAT |\n",
       "| chrY | 59280300 | 59280318 | 19 | - | MA0139.1 |  8.54098 | 7.23e-05 | 0.753 | TAGGCTCCAGAGGAAGCCC |\n",
       "| chrY | 59285063 | 59285081 | 19 | - | MA0139.1 |  8.29508 | 8.02e-05 | 0.759 | TGTCAAGCAGGAGGAGATA |\n",
       "| chrY | 59305483 | 59305501 | 19 | - | MA0139.1 | 11.68850 | 1.73e-05 | 0.655 | TGCACTGCAGGGGACACCA |\n",
       "| chrY | 59305503 | 59305521 | 19 | - | MA0139.1 |  9.60656 | 4.55e-05 | 0.723 | ACCTCAGAAGGTGGCAGTC |\n",
       "| chrY | 59308997 | 59309015 | 19 | - | MA0139.1 |  9.01639 | 5.90e-05 | 0.731 | CCACCTGCTGAGGGAAGTC |\n",
       "| chrY | 59309196 | 59309214 | 19 | - | MA0139.1 | 11.73770 | 1.69e-05 | 0.655 | TGGCCATCAGAAGGAAGCC |\n",
       "| chrY | 59318671 | 59318689 | 19 | - | MA0139.1 | 10.65570 | 2.83e-05 | 0.684 | TGGCCAGGAGGGAGTGGGA |\n",
       "| chrY | 59322192 | 59322210 | 19 | - | MA0139.1 | 13.16390 | 8.24e-06 | 0.599 | TGTCCACAAGATGGCAAAT |\n",
       "| chrY | 59325539 | 59325557 | 19 | - | MA0139.1 |  9.06557 | 5.77e-05 | 0.727 | GGACCATAAGTGGGCACCA |\n",
       "| chrY | 59327049 | 59327067 | 19 | - | MA0139.1 |  7.81967 | 9.78e-05 | 0.762 | GTCCCAGTAGGAGGCTGAG |\n",
       "| chrY | 59331371 | 59331389 | 19 | - | MA0139.1 |  8.72131 | 6.70e-05 | 0.745 | CCACCTGCAGAGGCTGCCC |\n",
       "| chrY | 59333456 | 59333474 | 19 | - | MA0139.1 | 14.54100 | 3.92e-06 | 0.565 | GCCCCAGCAGAAGGCACCA |\n",
       "| chrY | 59334620 | 59334638 | 19 | - | MA0139.1 |  8.86885 | 6.29e-05 | 0.742 | CATGCAACAGATGGCACTT |\n",
       "| chrY | 59335489 | 59335507 | 19 | - | MA0139.1 |  8.83607 | 6.38e-05 | 0.743 | TCCCCAGCAGAGTGCTCCA |\n",
       "| chrY | 59340172 | 59340190 | 19 | - | MA0139.1 |  8.06557 | 8.83e-05 | 0.762 | AGGCCAAGAGAGGCCAGTC |\n",
       "| chrY | 59342584 | 59342602 | 19 | - | MA0139.1 |  8.47541 | 7.44e-05 | 0.753 | GGGCCACAAGTGAGCAGTG |\n",
       "| chrY | 59343034 | 59343052 | 19 | - | MA0139.1 |  7.96721 | 9.20e-05 | 0.762 | AGGACAGAAGGGAGCAACA |\n",
       "| chrY | 59348265 | 59348283 | 19 | - | MA0139.1 | 11.37700 | 2.01e-05 | 0.655 | CTGCCATTAGGGGGCCCGG |\n",
       "| chrY | 59349405 | 59349423 | 19 | - | MA0139.1 |  7.91803 | 9.39e-05 | 0.762 | GGGACACCTGGGGACACCT |\n",
       "| chrY | 59349560 | 59349578 | 19 | - | MA0139.1 | 15.63930 | 2.09e-06 | 0.486 | CTGCCGCAAGGGGGCGCAT |\n",
       "| chrY | 59354593 | 59354611 | 19 | - | MA0139.1 |  9.50820 | 4.76e-05 | 0.723 | TTGGCAGGAGAGGGTGGAG |\n",
       "| chrY | 59354898 | 59354916 | 19 | - | MA0139.1 |  8.18033 | 8.42e-05 | 0.762 | CCTCCTCTGGGGGACAGAA |\n",
       "| chrY | 59355628 | 59355646 | 19 | - | MA0139.1 | 10.85250 | 2.58e-05 | 0.669 | GGACCTGCAGGGGCAGCCA |\n",
       "| chrY | 59356069 | 59356087 | 19 | - | MA0139.1 | 11.42620 | 1.97e-05 | 0.655 | TGGCCTACAGGGGCCGCGG |\n",
       "| chrY | 59356117 | 59356135 | 19 | - | MA0139.1 |  8.04918 | 8.89e-05 | 0.762 | CCACCTGAAGGAGACGCGC |\n",
       "| chrY | 59357284 | 59357302 | 19 | - | MA0139.1 |  8.00000 | 9.08e-05 | 0.762 | TAGCCTCCAGAGGCCTCAG |\n",
       "| chrY | 59358407 | 59358425 | 19 | - | MA0139.1 |  7.83607 | 9.71e-05 | 0.762 | GGACCAACAGGGGCAGGAG |\n",
       "| chrY | 59361297 | 59361315 | 19 | - | MA0139.1 |  9.11475 | 5.65e-05 | 0.723 | CTGGCAGCTGGGGACACTG |\n",
       "\n"
      ],
      "text/plain": [
       "       seqnames start    end      width strand name     score    pvalue  \n",
       "1      chr1      11414    11432   19    +      MA0139.1  9.11475 5.65e-05\n",
       "2      chr1      14316    14334   19    +      MA0139.1  7.83607 9.71e-05\n",
       "3      chr1      15439    15457   19    +      MA0139.1  8.00000 9.08e-05\n",
       "4      chr1      16603    16621   19    +      MA0139.1  8.04918 8.89e-05\n",
       "5      chr1      16651    16669   19    +      MA0139.1 11.42620 1.97e-05\n",
       "6      chr1      17092    17110   19    +      MA0139.1 10.85250 2.58e-05\n",
       "7      chr1      17820    17838   19    +      MA0139.1  8.18033 8.42e-05\n",
       "8      chr1      18120    18138   19    +      MA0139.1  9.50820 4.76e-05\n",
       "9      chr1      22562    22580   19    +      MA0139.1  9.65574 4.46e-05\n",
       "10     chr1      23447    23465   19    +      MA0139.1  7.88525 9.52e-05\n",
       "11     chr1      34942    34960   19    +      MA0139.1  9.40984 4.97e-05\n",
       "12     chr1      36203    36221   19    +      MA0139.1  8.80328 6.47e-05\n",
       "13     chr1      38970    38988   19    +      MA0139.1 10.83610 2.60e-05\n",
       "14     chr1      79175    79193   19    +      MA0139.1 10.19670 3.49e-05\n",
       "15     chr1      79648    79666   19    +      MA0139.1 11.18030 2.21e-05\n",
       "16     chr1      81134    81152   19    +      MA0139.1  8.18033 8.42e-05\n",
       "17     chr1      88418    88436   19    +      MA0139.1  7.83607 9.71e-05\n",
       "18     chr1      89018    89036   19    +      MA0139.1  9.18033 5.49e-05\n",
       "19     chr1      91420    91438   19    +      MA0139.1 16.29510 1.41e-06\n",
       "20     chr1      91430    91448   19    +      MA0139.1 11.70490 1.72e-05\n",
       "21     chr1     101113   101131   19    +      MA0139.1  7.91803 9.39e-05\n",
       "22     chr1     101258   101276   19    +      MA0139.1 10.01640 3.79e-05\n",
       "23     chr1     103175   103193   19    +      MA0139.1  9.14754 5.57e-05\n",
       "24     chr1     107005   107023   19    +      MA0139.1  8.04918 8.89e-05\n",
       "25     chr1     115748   115766   19    +      MA0139.1  9.36066 5.08e-05\n",
       "26     chr1     131328   131346   19    +      MA0139.1 14.26230 4.58e-06\n",
       "27     chr1     131704   131722   19    +      MA0139.1 12.42620 1.20e-05\n",
       "28     chr1     133483   133501   19    +      MA0139.1  7.96721 9.20e-05\n",
       "29     chr1     134551   134569   19    +      MA0139.1 12.14750 1.38e-05\n",
       "30     chr1     135330   135348   19    +      MA0139.1 12.91800 9.36e-06\n",
       "⋮      ⋮        ⋮        ⋮        ⋮     ⋮      ⋮        ⋮        ⋮       \n",
       "871107 chrY     59262235 59262253 19    -      MA0139.1  8.50820 7.33e-05\n",
       "871108 chrY     59270974 59270992 19    -      MA0139.1  9.34426 5.11e-05\n",
       "871109 chrY     59280300 59280318 19    -      MA0139.1  8.54098 7.23e-05\n",
       "871110 chrY     59285063 59285081 19    -      MA0139.1  8.29508 8.02e-05\n",
       "871111 chrY     59305483 59305501 19    -      MA0139.1 11.68850 1.73e-05\n",
       "871112 chrY     59305503 59305521 19    -      MA0139.1  9.60656 4.55e-05\n",
       "871113 chrY     59308997 59309015 19    -      MA0139.1  9.01639 5.90e-05\n",
       "871114 chrY     59309196 59309214 19    -      MA0139.1 11.73770 1.69e-05\n",
       "871115 chrY     59318671 59318689 19    -      MA0139.1 10.65570 2.83e-05\n",
       "871116 chrY     59322192 59322210 19    -      MA0139.1 13.16390 8.24e-06\n",
       "871117 chrY     59325539 59325557 19    -      MA0139.1  9.06557 5.77e-05\n",
       "871118 chrY     59327049 59327067 19    -      MA0139.1  7.81967 9.78e-05\n",
       "871119 chrY     59331371 59331389 19    -      MA0139.1  8.72131 6.70e-05\n",
       "871120 chrY     59333456 59333474 19    -      MA0139.1 14.54100 3.92e-06\n",
       "871121 chrY     59334620 59334638 19    -      MA0139.1  8.86885 6.29e-05\n",
       "871122 chrY     59335489 59335507 19    -      MA0139.1  8.83607 6.38e-05\n",
       "871123 chrY     59340172 59340190 19    -      MA0139.1  8.06557 8.83e-05\n",
       "871124 chrY     59342584 59342602 19    -      MA0139.1  8.47541 7.44e-05\n",
       "871125 chrY     59343034 59343052 19    -      MA0139.1  7.96721 9.20e-05\n",
       "871126 chrY     59348265 59348283 19    -      MA0139.1 11.37700 2.01e-05\n",
       "871127 chrY     59349405 59349423 19    -      MA0139.1  7.91803 9.39e-05\n",
       "871128 chrY     59349560 59349578 19    -      MA0139.1 15.63930 2.09e-06\n",
       "871129 chrY     59354593 59354611 19    -      MA0139.1  9.50820 4.76e-05\n",
       "871130 chrY     59354898 59354916 19    -      MA0139.1  8.18033 8.42e-05\n",
       "871131 chrY     59355628 59355646 19    -      MA0139.1 10.85250 2.58e-05\n",
       "871132 chrY     59356069 59356087 19    -      MA0139.1 11.42620 1.97e-05\n",
       "871133 chrY     59356117 59356135 19    -      MA0139.1  8.04918 8.89e-05\n",
       "871134 chrY     59357284 59357302 19    -      MA0139.1  8.00000 9.08e-05\n",
       "871135 chrY     59358407 59358425 19    -      MA0139.1  7.83607 9.71e-05\n",
       "871136 chrY     59361297 59361315 19    -      MA0139.1  9.11475 5.65e-05\n",
       "       qvalue sequence           \n",
       "1      0.564  ctggcagctggggacactg\n",
       "2      0.605  GGACCAACAGGGGCAGGAG\n",
       "3      0.603  TAGCCTCCAGAGGCCTCAG\n",
       "4      0.601  CCACCTGAAGGAGACGCGC\n",
       "5      0.530  TGGCCTACAGGGGCCGCGG\n",
       "6      0.548  GGACCTGCAGGGGCAGCCA\n",
       "7      0.596  CCTCCTCTGGGGGACAGAA\n",
       "8      0.563  TTGGCAGGAGAGGGTGGAG\n",
       "9      0.563  CCAGCACGAGGTGGAGCAC\n",
       "10     0.605  TTCCCAGTTGGTGACAGAA\n",
       "11     0.563  TGATCAGGAGGTGGAGAAA\n",
       "12     0.577  CTGCCACAAGTTGGAAGGC\n",
       "13     0.548  tggtctgtaggggacagag\n",
       "14     0.562  tgggctgcagaaggaacta\n",
       "15     0.539  ccacctggagatggaaccc\n",
       "16     0.596  ctaccaatatgtggcacaa\n",
       "17     0.605  aggccagaagattgaagtc\n",
       "18     0.563  ctgcctgtaggggtaccca\n",
       "19     0.264  GTGGCACCAGGTGGCAGCA\n",
       "20     0.519  GTGGCAGCAGAGGTCAGCA\n",
       "21     0.605  aggtcacttgaggtcagca\n",
       "22     0.563  aacccagaaggtggaggtt\n",
       "23     0.563  aacccaggaggtggaggtt\n",
       "24     0.601  TGTCCTCCAGGGGCCTCAC\n",
       "25     0.563  CATCCTGTAGGTGTCTCTA\n",
       "26     0.384  CGTCCACCAGGTGGGACAG\n",
       "27     0.489  TCTTCAGCAGGCGGCACCA\n",
       "28     0.604  GGTCCAGTGGGAGGAGCCT\n",
       "29     0.502  GGGCCACAGGGAGGCGCCT\n",
       "30     0.463  AGGCCACTGGGAGGCAGGA\n",
       "⋮      ⋮      ⋮                  \n",
       "871107 0.753  TGATCAAAAGGGGGAAATG\n",
       "871108 0.723  ATGCCACCTGGAGGCACAT\n",
       "871109 0.753  TAGGCTCCAGAGGAAGCCC\n",
       "871110 0.759  TGTCAAGCAGGAGGAGATA\n",
       "871111 0.655  TGCACTGCAGGGGACACCA\n",
       "871112 0.723  ACCTCAGAAGGTGGCAGTC\n",
       "871113 0.731  CCACCTGCTGAGGGAAGTC\n",
       "871114 0.655  TGGCCATCAGAAGGAAGCC\n",
       "871115 0.684  TGGCCAGGAGGGAGTGGGA\n",
       "871116 0.599  TGTCCACAAGATGGCAAAT\n",
       "871117 0.727  GGACCATAAGTGGGCACCA\n",
       "871118 0.762  GTCCCAGTAGGAGGCTGAG\n",
       "871119 0.745  CCACCTGCAGAGGCTGCCC\n",
       "871120 0.565  GCCCCAGCAGAAGGCACCA\n",
       "871121 0.742  CATGCAACAGATGGCACTT\n",
       "871122 0.743  TCCCCAGCAGAGTGCTCCA\n",
       "871123 0.762  AGGCCAAGAGAGGCCAGTC\n",
       "871124 0.753  GGGCCACAAGTGAGCAGTG\n",
       "871125 0.762  AGGACAGAAGGGAGCAACA\n",
       "871126 0.655  CTGCCATTAGGGGGCCCGG\n",
       "871127 0.762  GGGACACCTGGGGACACCT\n",
       "871128 0.486  CTGCCGCAAGGGGGCGCAT\n",
       "871129 0.723  TTGGCAGGAGAGGGTGGAG\n",
       "871130 0.762  CCTCCTCTGGGGGACAGAA\n",
       "871131 0.669  GGACCTGCAGGGGCAGCCA\n",
       "871132 0.655  TGGCCTACAGGGGCCGCGG\n",
       "871133 0.762  CCACCTGAAGGAGACGCGC\n",
       "871134 0.762  TAGCCTCCAGAGGCCTCAG\n",
       "871135 0.762  GGACCAACAGGGGCAGGAG\n",
       "871136 0.723  CTGGCAGCTGGGGACACTG"
      ]
     },
     "metadata": {},
     "output_type": "display_data"
    }
   ],
   "source": [
    "CTCF_hg19 %>% sort() %>% as.data.frame()"
   ]
  },
  {
   "cell_type": "code",
   "execution_count": 22,
   "metadata": {
    "vscode": {
     "languageId": "r"
    }
   },
   "outputs": [],
   "source": [
    "write.table(CTCF_hg19 %>% sort() %>% as.data.frame(), \n",
    "            file = \"CTCF_hg19.bed\",\n",
    "            sep = \"\\t\", row.names = FALSE, col.names = FALSE, quote = FALSE)"
   ]
  },
  {
   "cell_type": "code",
   "execution_count": null,
   "metadata": {
    "vscode": {
     "languageId": "r"
    }
   },
   "outputs": [],
   "source": []
  }
 ],
 "metadata": {
  "kernelspec": {
   "display_name": "R",
   "language": "R",
   "name": "ir"
  },
  "language_info": {
   "codemirror_mode": "r",
   "file_extension": ".r",
   "mimetype": "text/x-r-source",
   "name": "R",
   "pygments_lexer": "r",
   "version": "4.2.0"
  }
 },
 "nbformat": 4,
 "nbformat_minor": 2
}
